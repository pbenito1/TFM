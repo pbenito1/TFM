{
  "nbformat": 4,
  "nbformat_minor": 0,
  "metadata": {
    "colab": {
      "provenance": [],
      "mount_file_id": "1ogrSd99trwjv9rVQvfKEBWQlNPfBRArT",
      "authorship_tag": "ABX9TyPkuTrxh8iQMjsdsandUMKJ",
      "include_colab_link": true
    },
    "kernelspec": {
      "name": "python3",
      "display_name": "Python 3"
    },
    "language_info": {
      "name": "python"
    },
    "accelerator": "GPU",
    "gpuClass": "standard"
  },
  "cells": [
    {
      "cell_type": "markdown",
      "metadata": {
        "id": "view-in-github",
        "colab_type": "text"
      },
      "source": [
        "<a href=\"https://colab.research.google.com/github/pbenito1/TFM/blob/main/RedesNeuronales.ipynb\" target=\"_parent\"><img src=\"https://colab.research.google.com/assets/colab-badge.svg\" alt=\"Open In Colab\"/></a>"
      ]
    },
    {
      "cell_type": "markdown",
      "source": [
        "# Detección de dominios DGA utilizando redes neuronales\n",
        "En este notebook se realizarán diversos experimentos de detección de dominios generados por DGA utilizando distintas arquitecturas de redes neuronales.\n",
        "\n",
        "Una vez entrenadas las distintas arquitecturas se compararán los resultados, tanto en términos de *accuracy*, número de parámetros y tiempo de entrenamiento."
      ],
      "metadata": {
        "id": "aeZn63H5g9R_"
      }
    },
    {
      "cell_type": "code",
      "source": [
        "import os\n",
        "import pandas as pd\n",
        "import tensorflow as tf\n",
        "import numpy as np\n",
        "from tensorflow.keras.models import Sequential, load_model\n",
        "from tensorflow.keras import layers, callbacks\n",
        "from sklearn.model_selection import train_test_split\n",
        "from sklearn.metrics import f1_score, accuracy_score, recall_score, classification_report, confusion_matrix, ConfusionMatrixDisplay, roc_curve, auc\n",
        "import matplotlib.pyplot as plt\n",
        "import seaborn as sns\n",
        "from timeit import default_timer as timer"
      ],
      "metadata": {
        "id": "4FyEHDMMhfmX"
      },
      "execution_count": null,
      "outputs": []
    },
    {
      "cell_type": "code",
      "source": [
        "# Estilos seaborn\n",
        "sns.set(rc={\"figure.dpi\":150, 'savefig.dpi':150})\n",
        "sns.set_context('notebook')\n",
        "sns.set_style(\"ticks\")\n",
        "\n",
        "from IPython.display import set_matplotlib_formats\n",
        "set_matplotlib_formats('png')"
      ],
      "metadata": {
        "id": "rUiXQNjrl-Ru"
      },
      "execution_count": null,
      "outputs": []
    },
    {
      "cell_type": "code",
      "source": [
        "# Cargamos datos\n",
        "GDRIVE_PATH='/content/drive/MyDrive/TFM'\n",
        "DATASET_PATH=os.path.join(GDRIVE_PATH, 'data_processed/dga.csv')\n",
        "IMAGES_PATH=os.path.join(GDRIVE_PATH, 'img')\n",
        "CHECKPOINTS_PATH=os.path.join(GDRIVE_PATH, 'checkpoints')\n",
        "\n",
        "df = pd.read_csv(DATASET_PATH,index_col=0)"
      ],
      "metadata": {
        "id": "Ivt-ZL89hgro"
      },
      "execution_count": null,
      "outputs": []
    },
    {
      "cell_type": "code",
      "source": [
        "df.sample(10)"
      ],
      "metadata": {
        "colab": {
          "base_uri": "https://localhost:8080/",
          "height": 427
        },
        "id": "yLAYc3qBvHKh",
        "outputId": "0b2e72ef-360b-4a85-b5d0-118c17dec175"
      },
      "execution_count": null,
      "outputs": [
        {
          "output_type": "execute_result",
          "data": {
            "text/plain": [
              "                           domain     family category    tld  \\\n",
              "894784        casino-vavada.quest     benign   benign  quest   \n",
              "82733    objectunitedforabothe.ru       gozi   malign     ru   \n",
              "819081                  enkcf.com     benign   benign    com   \n",
              "995161        lokalclassified.com     benign   benign    com   \n",
              "1034654              peymanapp.ir     benign   benign     ir   \n",
              "793988            ningyangseo.com     benign   benign    com   \n",
              "1131177            fixmestick.com     benign   benign    com   \n",
              "1096602    legislazionetecnica.it     benign   benign     it   \n",
              "25738             ykydnvbaxtu.com  conficker   malign    com   \n",
              "560740                nqvylsr.com    vawtrak   malign    com   \n",
              "\n",
              "                           sld  subdomains_number  digits  length  num_dashes  \\\n",
              "894784           casino-vavada                  2       0      13           1   \n",
              "82733    objectunitedforabothe                  2       0      21           0   \n",
              "819081                   enkcf                  2       0       5           0   \n",
              "995161         lokalclassified                  2       0      15           0   \n",
              "1034654              peymanapp                  2       0       9           0   \n",
              "793988             ningyangseo                  2       0      11           0   \n",
              "1131177             fixmestick                  2       0      10           0   \n",
              "1096602    legislazionetecnica                  2       0      19           0   \n",
              "25738              ykydnvbaxtu                  2       0      11           0   \n",
              "560740                 nqvylsr                  2       0       7           0   \n",
              "\n",
              "          entropy  ratio_vc  3gram  4gram  5gram  6gram  \n",
              "894784   2.931209  1.000000     11     10      9      8  \n",
              "82733    3.617810  0.750000     19     18     16     12  \n",
              "819081   2.321928  0.250000      3      2      1      0  \n",
              "995161   3.189898  0.666667     13     12     11     10  \n",
              "1034654  2.419382  0.500000      7      6      5      4  \n",
              "793988   2.845351  0.571429      9      8      7      6  \n",
              "1131177  3.121928  0.428571      8      7      6      5  \n",
              "1096602  3.326360  0.900000     17     16     15     14  \n",
              "25738    3.277613  0.222222      9      4      0      0  \n",
              "560740   2.807355  0.000000      5      2      0      0  "
            ],
            "text/html": [
              "\n",
              "  <div id=\"df-8eef2c2c-26b8-49ba-be03-9c649b334612\">\n",
              "    <div class=\"colab-df-container\">\n",
              "      <div>\n",
              "<style scoped>\n",
              "    .dataframe tbody tr th:only-of-type {\n",
              "        vertical-align: middle;\n",
              "    }\n",
              "\n",
              "    .dataframe tbody tr th {\n",
              "        vertical-align: top;\n",
              "    }\n",
              "\n",
              "    .dataframe thead th {\n",
              "        text-align: right;\n",
              "    }\n",
              "</style>\n",
              "<table border=\"1\" class=\"dataframe\">\n",
              "  <thead>\n",
              "    <tr style=\"text-align: right;\">\n",
              "      <th></th>\n",
              "      <th>domain</th>\n",
              "      <th>family</th>\n",
              "      <th>category</th>\n",
              "      <th>tld</th>\n",
              "      <th>sld</th>\n",
              "      <th>subdomains_number</th>\n",
              "      <th>digits</th>\n",
              "      <th>length</th>\n",
              "      <th>num_dashes</th>\n",
              "      <th>entropy</th>\n",
              "      <th>ratio_vc</th>\n",
              "      <th>3gram</th>\n",
              "      <th>4gram</th>\n",
              "      <th>5gram</th>\n",
              "      <th>6gram</th>\n",
              "    </tr>\n",
              "  </thead>\n",
              "  <tbody>\n",
              "    <tr>\n",
              "      <th>894784</th>\n",
              "      <td>casino-vavada.quest</td>\n",
              "      <td>benign</td>\n",
              "      <td>benign</td>\n",
              "      <td>quest</td>\n",
              "      <td>casino-vavada</td>\n",
              "      <td>2</td>\n",
              "      <td>0</td>\n",
              "      <td>13</td>\n",
              "      <td>1</td>\n",
              "      <td>2.931209</td>\n",
              "      <td>1.000000</td>\n",
              "      <td>11</td>\n",
              "      <td>10</td>\n",
              "      <td>9</td>\n",
              "      <td>8</td>\n",
              "    </tr>\n",
              "    <tr>\n",
              "      <th>82733</th>\n",
              "      <td>objectunitedforabothe.ru</td>\n",
              "      <td>gozi</td>\n",
              "      <td>malign</td>\n",
              "      <td>ru</td>\n",
              "      <td>objectunitedforabothe</td>\n",
              "      <td>2</td>\n",
              "      <td>0</td>\n",
              "      <td>21</td>\n",
              "      <td>0</td>\n",
              "      <td>3.617810</td>\n",
              "      <td>0.750000</td>\n",
              "      <td>19</td>\n",
              "      <td>18</td>\n",
              "      <td>16</td>\n",
              "      <td>12</td>\n",
              "    </tr>\n",
              "    <tr>\n",
              "      <th>819081</th>\n",
              "      <td>enkcf.com</td>\n",
              "      <td>benign</td>\n",
              "      <td>benign</td>\n",
              "      <td>com</td>\n",
              "      <td>enkcf</td>\n",
              "      <td>2</td>\n",
              "      <td>0</td>\n",
              "      <td>5</td>\n",
              "      <td>0</td>\n",
              "      <td>2.321928</td>\n",
              "      <td>0.250000</td>\n",
              "      <td>3</td>\n",
              "      <td>2</td>\n",
              "      <td>1</td>\n",
              "      <td>0</td>\n",
              "    </tr>\n",
              "    <tr>\n",
              "      <th>995161</th>\n",
              "      <td>lokalclassified.com</td>\n",
              "      <td>benign</td>\n",
              "      <td>benign</td>\n",
              "      <td>com</td>\n",
              "      <td>lokalclassified</td>\n",
              "      <td>2</td>\n",
              "      <td>0</td>\n",
              "      <td>15</td>\n",
              "      <td>0</td>\n",
              "      <td>3.189898</td>\n",
              "      <td>0.666667</td>\n",
              "      <td>13</td>\n",
              "      <td>12</td>\n",
              "      <td>11</td>\n",
              "      <td>10</td>\n",
              "    </tr>\n",
              "    <tr>\n",
              "      <th>1034654</th>\n",
              "      <td>peymanapp.ir</td>\n",
              "      <td>benign</td>\n",
              "      <td>benign</td>\n",
              "      <td>ir</td>\n",
              "      <td>peymanapp</td>\n",
              "      <td>2</td>\n",
              "      <td>0</td>\n",
              "      <td>9</td>\n",
              "      <td>0</td>\n",
              "      <td>2.419382</td>\n",
              "      <td>0.500000</td>\n",
              "      <td>7</td>\n",
              "      <td>6</td>\n",
              "      <td>5</td>\n",
              "      <td>4</td>\n",
              "    </tr>\n",
              "    <tr>\n",
              "      <th>793988</th>\n",
              "      <td>ningyangseo.com</td>\n",
              "      <td>benign</td>\n",
              "      <td>benign</td>\n",
              "      <td>com</td>\n",
              "      <td>ningyangseo</td>\n",
              "      <td>2</td>\n",
              "      <td>0</td>\n",
              "      <td>11</td>\n",
              "      <td>0</td>\n",
              "      <td>2.845351</td>\n",
              "      <td>0.571429</td>\n",
              "      <td>9</td>\n",
              "      <td>8</td>\n",
              "      <td>7</td>\n",
              "      <td>6</td>\n",
              "    </tr>\n",
              "    <tr>\n",
              "      <th>1131177</th>\n",
              "      <td>fixmestick.com</td>\n",
              "      <td>benign</td>\n",
              "      <td>benign</td>\n",
              "      <td>com</td>\n",
              "      <td>fixmestick</td>\n",
              "      <td>2</td>\n",
              "      <td>0</td>\n",
              "      <td>10</td>\n",
              "      <td>0</td>\n",
              "      <td>3.121928</td>\n",
              "      <td>0.428571</td>\n",
              "      <td>8</td>\n",
              "      <td>7</td>\n",
              "      <td>6</td>\n",
              "      <td>5</td>\n",
              "    </tr>\n",
              "    <tr>\n",
              "      <th>1096602</th>\n",
              "      <td>legislazionetecnica.it</td>\n",
              "      <td>benign</td>\n",
              "      <td>benign</td>\n",
              "      <td>it</td>\n",
              "      <td>legislazionetecnica</td>\n",
              "      <td>2</td>\n",
              "      <td>0</td>\n",
              "      <td>19</td>\n",
              "      <td>0</td>\n",
              "      <td>3.326360</td>\n",
              "      <td>0.900000</td>\n",
              "      <td>17</td>\n",
              "      <td>16</td>\n",
              "      <td>15</td>\n",
              "      <td>14</td>\n",
              "    </tr>\n",
              "    <tr>\n",
              "      <th>25738</th>\n",
              "      <td>ykydnvbaxtu.com</td>\n",
              "      <td>conficker</td>\n",
              "      <td>malign</td>\n",
              "      <td>com</td>\n",
              "      <td>ykydnvbaxtu</td>\n",
              "      <td>2</td>\n",
              "      <td>0</td>\n",
              "      <td>11</td>\n",
              "      <td>0</td>\n",
              "      <td>3.277613</td>\n",
              "      <td>0.222222</td>\n",
              "      <td>9</td>\n",
              "      <td>4</td>\n",
              "      <td>0</td>\n",
              "      <td>0</td>\n",
              "    </tr>\n",
              "    <tr>\n",
              "      <th>560740</th>\n",
              "      <td>nqvylsr.com</td>\n",
              "      <td>vawtrak</td>\n",
              "      <td>malign</td>\n",
              "      <td>com</td>\n",
              "      <td>nqvylsr</td>\n",
              "      <td>2</td>\n",
              "      <td>0</td>\n",
              "      <td>7</td>\n",
              "      <td>0</td>\n",
              "      <td>2.807355</td>\n",
              "      <td>0.000000</td>\n",
              "      <td>5</td>\n",
              "      <td>2</td>\n",
              "      <td>0</td>\n",
              "      <td>0</td>\n",
              "    </tr>\n",
              "  </tbody>\n",
              "</table>\n",
              "</div>\n",
              "      <button class=\"colab-df-convert\" onclick=\"convertToInteractive('df-8eef2c2c-26b8-49ba-be03-9c649b334612')\"\n",
              "              title=\"Convert this dataframe to an interactive table.\"\n",
              "              style=\"display:none;\">\n",
              "        \n",
              "  <svg xmlns=\"http://www.w3.org/2000/svg\" height=\"24px\"viewBox=\"0 0 24 24\"\n",
              "       width=\"24px\">\n",
              "    <path d=\"M0 0h24v24H0V0z\" fill=\"none\"/>\n",
              "    <path d=\"M18.56 5.44l.94 2.06.94-2.06 2.06-.94-2.06-.94-.94-2.06-.94 2.06-2.06.94zm-11 1L8.5 8.5l.94-2.06 2.06-.94-2.06-.94L8.5 2.5l-.94 2.06-2.06.94zm10 10l.94 2.06.94-2.06 2.06-.94-2.06-.94-.94-2.06-.94 2.06-2.06.94z\"/><path d=\"M17.41 7.96l-1.37-1.37c-.4-.4-.92-.59-1.43-.59-.52 0-1.04.2-1.43.59L10.3 9.45l-7.72 7.72c-.78.78-.78 2.05 0 2.83L4 21.41c.39.39.9.59 1.41.59.51 0 1.02-.2 1.41-.59l7.78-7.78 2.81-2.81c.8-.78.8-2.07 0-2.86zM5.41 20L4 18.59l7.72-7.72 1.47 1.35L5.41 20z\"/>\n",
              "  </svg>\n",
              "      </button>\n",
              "      \n",
              "  <style>\n",
              "    .colab-df-container {\n",
              "      display:flex;\n",
              "      flex-wrap:wrap;\n",
              "      gap: 12px;\n",
              "    }\n",
              "\n",
              "    .colab-df-convert {\n",
              "      background-color: #E8F0FE;\n",
              "      border: none;\n",
              "      border-radius: 50%;\n",
              "      cursor: pointer;\n",
              "      display: none;\n",
              "      fill: #1967D2;\n",
              "      height: 32px;\n",
              "      padding: 0 0 0 0;\n",
              "      width: 32px;\n",
              "    }\n",
              "\n",
              "    .colab-df-convert:hover {\n",
              "      background-color: #E2EBFA;\n",
              "      box-shadow: 0px 1px 2px rgba(60, 64, 67, 0.3), 0px 1px 3px 1px rgba(60, 64, 67, 0.15);\n",
              "      fill: #174EA6;\n",
              "    }\n",
              "\n",
              "    [theme=dark] .colab-df-convert {\n",
              "      background-color: #3B4455;\n",
              "      fill: #D2E3FC;\n",
              "    }\n",
              "\n",
              "    [theme=dark] .colab-df-convert:hover {\n",
              "      background-color: #434B5C;\n",
              "      box-shadow: 0px 1px 3px 1px rgba(0, 0, 0, 0.15);\n",
              "      filter: drop-shadow(0px 1px 2px rgba(0, 0, 0, 0.3));\n",
              "      fill: #FFFFFF;\n",
              "    }\n",
              "  </style>\n",
              "\n",
              "      <script>\n",
              "        const buttonEl =\n",
              "          document.querySelector('#df-8eef2c2c-26b8-49ba-be03-9c649b334612 button.colab-df-convert');\n",
              "        buttonEl.style.display =\n",
              "          google.colab.kernel.accessAllowed ? 'block' : 'none';\n",
              "\n",
              "        async function convertToInteractive(key) {\n",
              "          const element = document.querySelector('#df-8eef2c2c-26b8-49ba-be03-9c649b334612');\n",
              "          const dataTable =\n",
              "            await google.colab.kernel.invokeFunction('convertToInteractive',\n",
              "                                                     [key], {});\n",
              "          if (!dataTable) return;\n",
              "\n",
              "          const docLinkHtml = 'Like what you see? Visit the ' +\n",
              "            '<a target=\"_blank\" href=https://colab.research.google.com/notebooks/data_table.ipynb>data table notebook</a>'\n",
              "            + ' to learn more about interactive tables.';\n",
              "          element.innerHTML = '';\n",
              "          dataTable['output_type'] = 'display_data';\n",
              "          await google.colab.output.renderOutput(dataTable, element);\n",
              "          const docLink = document.createElement('div');\n",
              "          docLink.innerHTML = docLinkHtml;\n",
              "          element.appendChild(docLink);\n",
              "        }\n",
              "      </script>\n",
              "    </div>\n",
              "  </div>\n",
              "  "
            ]
          },
          "metadata": {},
          "execution_count": 4
        }
      ]
    },
    {
      "cell_type": "code",
      "source": [
        "# Para probar el código tomamos un 10% del dataset original (aprox 10.000)\n",
        "# Realizamos una muestra estratificada para que haya muestras de todas las familias\n",
        "\n",
        "#df=df.groupby('family', group_keys=False).apply(lambda x: x.sample(frac=0.5))\n",
        "df.shape"
      ],
      "metadata": {
        "colab": {
          "base_uri": "https://localhost:8080/"
        },
        "id": "FF-hn_Y4iCgB",
        "outputId": "64006e59-e8ec-4b27-dca4-e95937c67847"
      },
      "execution_count": null,
      "outputs": [
        {
          "output_type": "execute_result",
          "data": {
            "text/plain": [
              "(1142536, 15)"
            ]
          },
          "metadata": {},
          "execution_count": 5
        }
      ]
    },
    {
      "cell_type": "code",
      "source": [
        "X = np.array(df['domain'])\n",
        "\n",
        "# Codificamos como 0 los dominios benignos y como 1 los malignos\n",
        "Y = np.array([0 if x == 'benign' else 1 for x in df['category']])\n",
        "\n",
        "# Obtiene un set (elementos únicos) de todos los caracteres utilizados en todos los dominios\n",
        "# No hay ningún criterio para la ordenación, se asignan números según aparecen los caracteres.\n",
        "valid_chars = {x:idx+1 for idx, x in enumerate(set(''.join(X)))}\n",
        "# Se le suma 1 para UNKNOWN\n",
        "max_features = len(valid_chars) + 1\n",
        "# Se determina max_len como el dominio mas largo del dataset. \n",
        "# Se puede optar por fijarlo al valor especificado en el RFC\n",
        "# La longitud máxima de un dominio es de 255 caracteres (incluyendo TLD, SLD, ...)\n",
        "# RFC 1035 section 2.3.4.\n",
        "max_len = max([len(i) for i in X])\n",
        "\n",
        "# Recorre todos los caracteres de todos los dominios y los sustituye por su equivalente numérico\n",
        "X = [[valid_chars[y] for y in x] for x in X]\n",
        "\n",
        "# Añade padding hasta la máxima longitud\n",
        "X = tf.keras.preprocessing.sequence.pad_sequences(X, maxlen=max_len)\n",
        "\n",
        "# Dividimos el dataset en training (80%) y test (20%). \n",
        "# Utilizamos una semilla para poder reproducir los resultados\n",
        "# Hacemos un muestreo estratificado de acuerdo al atributo 'family'\n",
        "x_train, x_test, y_train, y_test = train_test_split(X, Y, test_size=0.2,random_state=42, stratify=df['family'])\n"
      ],
      "metadata": {
        "id": "d22MpNUhhm_2"
      },
      "execution_count": null,
      "outputs": []
    },
    {
      "cell_type": "code",
      "source": [
        "#@title Hiperparámetros\n",
        "LOSS_FUNCTION='binary_crossentropy'\n",
        "OPTIMIZER='nadam'\n",
        "METRICS=['accuracy']\n",
        "PATIENCE=10\n",
        "MAX_EPOCHS=100\n",
        "#MAX_EPOCHS=100"
      ],
      "metadata": {
        "id": "ry1syXMuVvgy"
      },
      "execution_count": null,
      "outputs": []
    },
    {
      "cell_type": "code",
      "source": [
        "def plot_model(history,title):\n",
        "\n",
        "  f = plt.figure(figsize=(12,5))\n",
        "  ax = f.add_subplot(1,2,1)\n",
        "  plt.plot(history.history['accuracy'])\n",
        "  plt.plot(history.history['val_accuracy'])\n",
        "  plt.legend(['train', 'validate'])\n",
        "  plt.title('Accuracy '+title)\n",
        "  plt.xlabel('epoch')\n",
        "  plt.ylabel('accuracy')\n",
        "  \n",
        "  ax = f.add_subplot(1,2,2)\n",
        "  plt.plot(history.history['loss'])\n",
        "  plt.plot(history.history['val_loss'])\n",
        "  plt.legend(['train', 'validate'])\n",
        "  plt.title('Loss '+title)\n",
        "  plt.xlabel('epoch')\n",
        "  plt.ylabel('loss')\n",
        "\n",
        "'''\n",
        "  sns.histplot(data=full_df, ax=ax, stat=\"count\", multiple=\"stack\",\n",
        "              x=\"3gram\", kde=False,\n",
        "              palette=\"pastel\", hue=\"category\",\n",
        "              element=\"bars\", legend=True,discrete=True)\n",
        "  ax.set_title(\"3-Gram\")\n",
        "  ax.set_xlabel(\"3Gram\")\n",
        "  ax.set_ylabel(\"Dominios\")\n",
        "'''"
      ],
      "metadata": {
        "id": "wTYenUb1QlvE",
        "colab": {
          "base_uri": "https://localhost:8080/",
          "height": 71
        },
        "outputId": "53e0dc1f-c36b-44ca-f9de-666e2ce10743"
      },
      "execution_count": null,
      "outputs": [
        {
          "output_type": "execute_result",
          "data": {
            "text/plain": [
              "'\\n  sns.histplot(data=full_df, ax=ax, stat=\"count\", multiple=\"stack\",\\n              x=\"3gram\", kde=False,\\n              palette=\"pastel\", hue=\"category\",\\n              element=\"bars\", legend=True,discrete=True)\\n  ax.set_title(\"3-Gram\")\\n  ax.set_xlabel(\"3Gram\")\\n  ax.set_ylabel(\"Dominios\")\\n'"
            ],
            "application/vnd.google.colaboratory.intrinsic+json": {
              "type": "string"
            }
          },
          "metadata": {},
          "execution_count": 8
        }
      ]
    },
    {
      "cell_type": "code",
      "source": [
        "def get_cm_metrics(model, x_test, y_test):\n",
        "  # https://github.com/Tony607/ROC-Keras/blob/master/ROC-Keras.ipynb\n",
        "  y_test_pred = model.predict(x_test)\n",
        "\n",
        "  # Confusion matrix\n",
        "  cm=confusion_matrix(y_test, y_test_pred > .5)\n",
        "  disp = ConfusionMatrixDisplay(confusion_matrix=cm)#, display_labels=labels)\n",
        "  disp.plot(cmap=plt.cm.Blues)\n",
        "  plt.show()\n",
        "\n",
        "  # Classification report\n",
        "  print(classification_report(y_test, y_test_pred > .5))\n",
        "\n",
        "  # ROC\n",
        "  fpr, tpr, threshold = roc_curve(y_test, y_test_pred)\n",
        "  roc_auc = auc(fpr, tpr)\n",
        "  return (fpr,tpr,threshold,roc_auc)\n"
      ],
      "metadata": {
        "id": "gfLs7AaqQ_jh"
      },
      "execution_count": null,
      "outputs": []
    },
    {
      "cell_type": "code",
      "source": [
        "def get_ANN(max_features, max_len, loss_function, optimizer):\n",
        "  '''\n",
        "  Red neuronal monocapa formada por 100 neuronas\n",
        "  '''\n",
        "  \n",
        "  model = Sequential([\n",
        "    layers.Embedding(input_dim=max_features, output_dim=128, input_length=max_len),\n",
        "    layers.Dense(128, activation='relu'),\n",
        "    layers.Flatten(),\n",
        "    layers.Dropout(0.5),\n",
        "    layers.Dense(1, activation='sigmoid')    \n",
        "  ])\n",
        "\n",
        "  model.summary()\n",
        "\n",
        "  model.compile(loss=loss_function, optimizer=optimizer, metrics=['accuracy'])\n",
        "  return model"
      ],
      "metadata": {
        "id": "HmNeRt1Sp5Gr"
      },
      "execution_count": null,
      "outputs": []
    },
    {
      "cell_type": "code",
      "source": [
        "def get_DNN(max_features, max_len, loss_function, optimizer):\n",
        "  '''\n",
        "  Red neuronal multicapa. Dos capas de 50 neuronas.\n",
        "  '''\n",
        "  model = Sequential([\n",
        "    layers.Embedding(input_dim=max_features, output_dim=128, input_length=max_len),\n",
        "    layers.Dense(64, activation='relu'),\n",
        "    layers.Flatten(),\n",
        "    layers.Dropout(0.5),\n",
        "    layers.Dense(64, activation='relu'),\n",
        "    layers.Flatten(),\n",
        "    layers.Dropout(0.5),\n",
        "    layers.Dense(1, activation='sigmoid')    \n",
        "  ])\n",
        "\n",
        "  model.summary()\n",
        "\n",
        "  model.compile(loss=loss_function, optimizer=optimizer, metrics=['accuracy'])\n",
        "  return model"
      ],
      "metadata": {
        "id": "qg-5EDWEqmbY"
      },
      "execution_count": null,
      "outputs": []
    },
    {
      "cell_type": "code",
      "source": [
        "def get_LSTM(max_features, max_len, loss_function, optimizer):\n",
        "\n",
        "  model = Sequential([\n",
        "    layers.Embedding(input_dim=max_features, output_dim=128, input_length=max_len),\n",
        "    layers.LSTM(128, return_sequences=True),\n",
        "    layers.Dropout(0.5),\n",
        "    layers.Dense(64, activation='relu'),\n",
        "    layers.Dropout(0.5),\n",
        "    layers.LSTM(64),\n",
        "    layers.Dropout(0.5),\n",
        "    layers.Dense(1, activation='sigmoid')    \n",
        "  ])\n",
        "  model.summary()\n",
        "\n",
        "  model.compile(loss=loss_function, optimizer=optimizer, metrics=['accuracy'])\n",
        "  return model"
      ],
      "metadata": {
        "id": "G8kmSU6tXuWX"
      },
      "execution_count": null,
      "outputs": []
    },
    {
      "cell_type": "code",
      "source": [
        "def get_Conv1D(max_features, max_len, loss_function, optimizer):\n",
        "  '''\n",
        "  Proporciona un modelo CNN Conv1D con una única capa convolucional con \n",
        "  30 filtros de tamaño de kernel 4.\n",
        "  '''\n",
        "  model = Sequential()\n",
        "  model.add(layers.Embedding(input_dim=max_features, output_dim=128, input_length=max_len))\n",
        "  #filters=256, kernel_size=5, padding='same',\n",
        "  #model.add(layers.Conv1D(32, 6, activation='relu'))\n",
        "  model.add(layers.Conv1D(filters=256, kernel_size=5, padding='same', activation='relu'))\n",
        "  model.add(layers.GlobalMaxPooling1D())\n",
        "\n",
        "  model.add(layers.Dropout(0.5))\n",
        "  \n",
        "\n",
        "  model.add(layers.Dense(1))\n",
        "  model.add(layers.Activation('sigmoid'))\n",
        "  model.summary()\n",
        "\n",
        "  model.compile(loss=loss_function, optimizer=optimizer, metrics=['accuracy'])\n",
        "  #tf.keras.utils.plot_model(model, to_file=os.path.join(IMAGES_PATH,'Conv1D.png'), show_shapes=True)\n",
        "  \n",
        "  return model"
      ],
      "metadata": {
        "id": "eNvg3_NuVohW"
      },
      "execution_count": null,
      "outputs": []
    },
    {
      "cell_type": "code",
      "execution_count": null,
      "metadata": {
        "id": "4X5H6LqZWbbp"
      },
      "outputs": [],
      "source": [
        "def get_LSTM_Conv1D(max_features, max_len, loss_function, optimizer):\n",
        "  domain_input = tf.keras.Input(shape = (max_len,), name='text_input')\n",
        "  input_layer = layers.Embedding(max_features, 128, input_length=max_len)(domain_input)\n",
        "\n",
        "  lstm = layers.LSTM(128)(input_layer)\n",
        "  lstm = layers.Dropout(0.5)(lstm)\n",
        "  lstm = layers.Dense(1)(lstm)\n",
        "  block_lstm_output = layers.Activation('sigmoid')(lstm)\n",
        "\n",
        "  # 15 filtros, kernels de distintos tamaños: 2, 4 y 6. Algo similar a ngrams\n",
        "\n",
        "  # Chollet:\n",
        "  # A 1D convnet processing sequences of characters using convolution windows \n",
        "  # of size 5 should be able to learn words or word fragments of length 5 or less\n",
        "  #\n",
        "  conv_a = layers.Conv1D(15,2, activation='relu')(input_layer)\n",
        "  pool_a = layers.GlobalMaxPooling1D()(conv_a)\n",
        "\n",
        "  conv_b = layers.Conv1D(15,4, activation='relu')(input_layer)\n",
        "  pool_b = layers.GlobalMaxPooling1D()(conv_b)\n",
        "\n",
        "  conv_c = layers.Conv1D(15,6, activation='relu')(input_layer)\n",
        "  pool_c = layers.GlobalMaxPooling1D()(conv_c)\n",
        "\n",
        "  flattened = layers.add([pool_a, pool_b, pool_c])\n",
        "  drop = layers.Dropout(0.5)(flattened)\n",
        "\n",
        "  block_cnn_output = layers.Dense(1, activation='sigmoid')(drop)\n",
        "\n",
        "  output = layers.add([block_lstm_output, block_cnn_output])\n",
        "\n",
        "  model = tf.keras.Model(domain_input, output)\n",
        "  model.summary()\n",
        "\n",
        "  model.compile(loss=loss_function, optimizer=optimizer, metrics=['accuracy'])\n",
        "  \n",
        "  #tf.keras.utils.plot_model(model, to_file=os.path.join(IMAGES_PATH,'LSTM_Conv1D.png'), show_shapes=True)\n",
        "\n",
        "  return model"
      ]
    },
    {
      "cell_type": "code",
      "source": [
        "def getLSTM_Attention(max_features, max_len, loss_function, optimizer):\n",
        "  # Ref: https://keras.io/api/layers/attention_layers/attention/\n",
        "  # Definimos el tamaño de nuestras entradas y salidas\n",
        "\n",
        "\n",
        "  # Definimos la capa de entrada\n",
        "  #inputs = Input(shape=(input_size,))\n",
        "  #inputs = tf.keras.Input(shape = (max_len,), name='text_input')\n",
        "  domain_input = tf.keras.Input(shape = (max_len,), name='text_input')\n",
        "  input_layer = layers.Embedding(max_features, 128, input_length=max_len)(domain_input)\n",
        "\n",
        "  # Definimos la capa Conv1D\n",
        "  conv = layers.Conv1D(filters=32, kernel_size=3, strides=1, padding='same')(input_layer)\n",
        "\n",
        "  # Definimos la capa de atención\n",
        "  attention = layers.Attention()([conv, input_layer])\n",
        "\n",
        "  # Definimos la capa densa de salida\n",
        "  outputs = layers.Dense(1, activation='sigmoid')(attention)\n",
        "\n",
        "  # Creamos el modelo\n",
        "  model = tf.keras.Model(inputs=domain_input, outputs=outputs)\n",
        "\n",
        "\n",
        "  #----\n",
        "\n",
        "\n",
        "  \n",
        "  model.summary()\n",
        "\n",
        "  model.compile(loss=loss_function, optimizer=optimizer, metrics=['accuracy'])\n",
        "  #tf.keras.utils.plot_model(model, to_file=os.path.join(IMAGES_PATH,'Conv1D.png'), show_shapes=True)\n",
        "  \n",
        "  return model"
      ],
      "metadata": {
        "id": "AXLbk2DaZCLY"
      },
      "execution_count": null,
      "outputs": []
    },
    {
      "cell_type": "markdown",
      "source": [
        "# Hiperparámetros, funciones de activación...\n",
        "\n",
        "¿Pq ann/dnn potencias de 2: 2,8,16,64,...? \n",
        "En teoría convergen más rápido, pero sólo debería ser para CNN:\n",
        "https://ai.stackexchange.com/questions/5399/why-should-the-number-of-neurons-in-a-hidden-layer-be-a-power-of-2\n",
        "\n",
        "¿Por qué 128  en la capa de embedding?\n",
        "\n",
        "¿Por qué batch size de 128?\n",
        "\n",
        "¿Por qué 100 epochs?\n",
        "\n",
        "¿Por qué 0.2 o 0.5 en la capa Dropout? La capa de dropout sirve para evitar el overfitting\n",
        "\n",
        "¿Por qué 30 filtros en Conv1D? \n",
        "\n",
        "¿Por qué kernel size de 4?\n",
        "\n",
        "¿En Conv1D por qué capas paralelas en lugar de consecutivas?\n",
        "\n",
        "Utilizar grid search en Keras: https://towardsai.net/p/l/stop-using-grid-search-the-complete-practical-tutorial-on-keras-tuner\n",
        "\n"
      ],
      "metadata": {
        "id": "2YTMG32vNR4_"
      }
    },
    {
      "cell_type": "code",
      "source": [
        "# Array donde guardaremos las métricas y tiempos de cada modelo para compararlos\n",
        "metrics=[]\n",
        "def train_model_get_metrics(model_name, model):\n",
        "  tf.keras.utils.plot_model(model, to_file=os.path.join(IMAGES_PATH,'model_'+model_name+'.png'), show_shapes=True)\n",
        "  cp_path=os.path.join(CHECKPOINTS_PATH,model_name)\n",
        "  # Callbacks: Checkpoint\n",
        "  checkpoint = tf.keras.callbacks.ModelCheckpoint(cp_path, \n",
        "                                                  save_weights_only=True,\n",
        "                                                  monitor='val_loss',\n",
        "                                                  mode='min',\n",
        "                                                  save_best_only=True)\n",
        "  # El entrenamiento se detiene si tras tres epoch (patience=3) no se reduce el mejor val_loss\n",
        "  earlyStopping = tf.keras.callbacks.EarlyStopping(monitor='val_loss', patience=PATIENCE)\n",
        "\n",
        "  # Entrenamiento del modelo\n",
        "  start=timer()\n",
        "  #history = model.fit(x_train, y_train, batch_size=128, epochs=MAX_EPOCHS, validation_split=0.1, callbacks=[earlyStopping,checkpoint])\n",
        "  history = model.fit(x_train, y_train, batch_size=128, epochs=MAX_EPOCHS, validation_data=(x_test, y_test), callbacks=[earlyStopping,checkpoint])\n",
        "  end = timer()\n",
        "  t=end-start\n",
        "\n",
        "  # Cargamos el checkpoint del mejor modelo y evaluamos con el conjunto de test\n",
        "  model.load_weights(cp_path)\n",
        "  loss, acc = model.evaluate(x_test, y_test, verbose=2)\n",
        "\n",
        "  # Dibujamso \n",
        "  plot_model(history, model_name)\n",
        "  (fpr,tpr,threshold,roc_auc)=get_cm_metrics(model, x_test, y_test)\n",
        "\n",
        "  # Recopilamos métricas, número de parámetros de la red y tiempo de ejecución\n",
        "  #metrics.append([model_name,acc,loss,model.count_params(),t])\n",
        "  metrics.append({'model':model_name,\n",
        "                  'acc':acc,\n",
        "                  'loss':loss,\n",
        "                  'params':model.count_params(),\n",
        "                  'time':t,\n",
        "                  'fpr':fpr,\n",
        "                  'tpr':tpr,\n",
        "                  'threshold':threshold,\n",
        "                  'roc_auc':roc_auc\n",
        "                  })\n"
      ],
      "metadata": {
        "id": "NFkHQSdg0cG7"
      },
      "execution_count": null,
      "outputs": []
    },
    {
      "cell_type": "code",
      "source": [
        "#@title Modelo ANN (monocapa)\n",
        "train_model_get_metrics(model_name='ANN',model=get_ANN(max_features,max_len,LOSS_FUNCTION,OPTIMIZER))"
      ],
      "metadata": {
        "colab": {
          "base_uri": "https://localhost:8080/"
        },
        "id": "yA0zs8S61R3K",
        "outputId": "d7d1fa9c-654c-4350-d50f-7ed139ee1174"
      },
      "execution_count": null,
      "outputs": [
        {
          "output_type": "stream",
          "name": "stdout",
          "text": [
            "Model: \"sequential\"\n",
            "_________________________________________________________________\n",
            " Layer (type)                Output Shape              Param #   \n",
            "=================================================================\n",
            " embedding (Embedding)       (None, 67, 128)           4992      \n",
            "                                                                 \n",
            " dense (Dense)               (None, 67, 128)           16512     \n",
            "                                                                 \n",
            " flatten (Flatten)           (None, 8576)              0         \n",
            "                                                                 \n",
            " dropout (Dropout)           (None, 8576)              0         \n",
            "                                                                 \n",
            " dense_1 (Dense)             (None, 1)                 8577      \n",
            "                                                                 \n",
            "=================================================================\n",
            "Total params: 30,081\n",
            "Trainable params: 30,081\n",
            "Non-trainable params: 0\n",
            "_________________________________________________________________\n",
            "Epoch 1/100\n",
            "7141/7141 [==============================] - 41s 5ms/step - loss: 0.2661 - accuracy: 0.8929 - val_loss: 0.2430 - val_accuracy: 0.9047\n",
            "Epoch 2/100\n",
            "7141/7141 [==============================] - 38s 5ms/step - loss: 0.2563 - accuracy: 0.8966 - val_loss: 0.2431 - val_accuracy: 0.9031\n",
            "Epoch 3/100\n",
            "7141/7141 [==============================] - 36s 5ms/step - loss: 0.2555 - accuracy: 0.8968 - val_loss: 0.2422 - val_accuracy: 0.9051\n",
            "Epoch 4/100\n",
            "7141/7141 [==============================] - 38s 5ms/step - loss: 0.2550 - accuracy: 0.8973 - val_loss: 0.2416 - val_accuracy: 0.9053\n",
            "Epoch 5/100\n",
            "7141/7141 [==============================] - 38s 5ms/step - loss: 0.2544 - accuracy: 0.8975 - val_loss: 0.2420 - val_accuracy: 0.9038\n",
            "Epoch 6/100\n",
            "7141/7141 [==============================] - 38s 5ms/step - loss: 0.2542 - accuracy: 0.8976 - val_loss: 0.2420 - val_accuracy: 0.9039\n",
            "Epoch 7/100\n",
            "7141/7141 [==============================] - 36s 5ms/step - loss: 0.2541 - accuracy: 0.8974 - val_loss: 0.2413 - val_accuracy: 0.9048\n",
            "Epoch 8/100\n",
            "7141/7141 [==============================] - 37s 5ms/step - loss: 0.2535 - accuracy: 0.8978 - val_loss: 0.2420 - val_accuracy: 0.9032\n",
            "Epoch 9/100\n",
            "7141/7141 [==============================] - 37s 5ms/step - loss: 0.2538 - accuracy: 0.8980 - val_loss: 0.2409 - val_accuracy: 0.9041\n",
            "Epoch 10/100\n",
            "7141/7141 [==============================] - 37s 5ms/step - loss: 0.2529 - accuracy: 0.8981 - val_loss: 0.2408 - val_accuracy: 0.9059\n",
            "Epoch 11/100\n",
            "7141/7141 [==============================] - 39s 5ms/step - loss: 0.2531 - accuracy: 0.8982 - val_loss: 0.2413 - val_accuracy: 0.9056\n",
            "Epoch 12/100\n",
            "7141/7141 [==============================] - 37s 5ms/step - loss: 0.2530 - accuracy: 0.8984 - val_loss: 0.2416 - val_accuracy: 0.9036\n",
            "Epoch 13/100\n",
            "7141/7141 [==============================] - 36s 5ms/step - loss: 0.2531 - accuracy: 0.8984 - val_loss: 0.2407 - val_accuracy: 0.9051\n",
            "Epoch 14/100\n",
            "7141/7141 [==============================] - 37s 5ms/step - loss: 0.2527 - accuracy: 0.8983 - val_loss: 0.2401 - val_accuracy: 0.9060\n",
            "Epoch 15/100\n",
            "7141/7141 [==============================] - 38s 5ms/step - loss: 0.2523 - accuracy: 0.8985 - val_loss: 0.2408 - val_accuracy: 0.9063\n",
            "Epoch 16/100\n",
            "7141/7141 [==============================] - 37s 5ms/step - loss: 0.2528 - accuracy: 0.8981 - val_loss: 0.2415 - val_accuracy: 0.9057\n",
            "Epoch 17/100\n",
            "7141/7141 [==============================] - 36s 5ms/step - loss: 0.2524 - accuracy: 0.8986 - val_loss: 0.2402 - val_accuracy: 0.9060\n",
            "Epoch 18/100\n",
            "2367/7141 [========>.....................] - ETA: 21s - loss: 0.2526 - accuracy: 0.8984"
          ]
        }
      ]
    },
    {
      "cell_type": "code",
      "source": [
        "#@title Modelo DNN (multicapa)\n",
        "train_model_get_metrics(model_name='dnn',model=get_DNN(max_features,max_len,LOSS_FUNCTION,OPTIMIZER))"
      ],
      "metadata": {
        "id": "UONEK43u6TEE"
      },
      "execution_count": null,
      "outputs": []
    },
    {
      "cell_type": "code",
      "source": [
        "#@title Modelo RNN (LSTM)\n",
        "train_model_get_metrics(model_name='LSTM',model=get_LSTM(max_features,max_len,LOSS_FUNCTION,OPTIMIZER))"
      ],
      "metadata": {
        "id": "VoK5UYUt-eeK"
      },
      "execution_count": null,
      "outputs": []
    },
    {
      "cell_type": "code",
      "source": [
        "#@title Modelo CNN (Conv1D)\n",
        "train_model_get_metrics(model_name='CONV1D',model=get_Conv1D(max_features,max_len,LOSS_FUNCTION,OPTIMIZER))"
      ],
      "metadata": {
        "id": "V7Xt6PbNAb-w"
      },
      "execution_count": null,
      "outputs": []
    },
    {
      "cell_type": "code",
      "source": [
        "#@title Modelo mixto LSTM-Conv1D\n",
        "train_model_get_metrics(model_name='CONV1D_LSTM',model=get_LSTM_Conv1D(max_features,max_len,LOSS_FUNCTION,OPTIMIZER))"
      ],
      "metadata": {
        "id": "vQ_0auWrlUWw"
      },
      "execution_count": null,
      "outputs": []
    },
    {
      "cell_type": "markdown",
      "source": [
        "# Tabla resumen de resultados\n",
        "La siguiente tabla resume los resultados obtenidos. \n",
        "Se puede observar que los mejores resultados son los ofrecidos por el modelo `LSTM` y por el modelo combinado `LSTM+Conv1D`.\n"
      ],
      "metadata": {
        "id": "0u9Eu57wGiTd"
      }
    },
    {
      "cell_type": "code",
      "source": [
        "table_content=''\n",
        "for m in metrics:\n",
        "  table_content=table_content+'|'+m['model'] \\\n",
        "  +'|'+\"{:10.2f}\".format(m['acc']) \\\n",
        "  +'|'+\"{:10.2f}\".format(m['loss']) \\\n",
        "  +'|'+\"{:10.3f}\".format(m['roc_auc']) \\\n",
        "  +'|'+str(m['params']) \\\n",
        "  +'|'+\"{:.0f} s.\".format(m['time'])+'|\\n'\n",
        "\n",
        "\n",
        "display(Markdown(\n",
        "\"\"\"\n",
        "| Modelo | _Accuracy_ | _Loss_ | AUC | Núm. Parámetros | Tiempo entrenamiento |\n",
        "|--------|------------|--------|-----|-----------------|----------------------|\n",
        "\"\"\"+table_content\n",
        "))"
      ],
      "metadata": {
        "id": "DwnLKQrCcAuL"
      },
      "execution_count": null,
      "outputs": []
    },
    {
      "cell_type": "markdown",
      "source": [
        "Comparamos a continuación los resultados por medio de las curvas ROC:\n",
        "\n"
      ],
      "metadata": {
        "id": "LCLjYPIVGz2S"
      }
    },
    {
      "cell_type": "code",
      "source": [
        "# Ref: https://github.com/Tony607/ROC-Keras/blob/master/ROC-Keras.ipynb\n",
        "plt.figure(1)\n",
        "plt.plot([0, 1], [0, 1], 'k--')\n",
        "for m in metrics:\n",
        "  plt.plot(m['fpr'],m['tpr'], label=m['model']+' (AUC = {:.3f})'.format(m['roc_auc']))\n",
        "plt.xlabel('False positive rate')\n",
        "plt.ylabel('True positive rate')\n",
        "plt.title('Curva ROC')\n",
        "plt.legend(loc='best')\n",
        "plt.show()\n",
        "\n",
        "plt.figure(2)\n",
        "plt.xlim(0, 0.2)\n",
        "plt.ylim(0.8, 1)\n",
        "plt.plot([0, 1], [0, 1], 'k--')\n",
        "for m in metrics:\n",
        "  plt.plot(m['fpr'],m['tpr'], label=m['model']+' (AUC = {:.3f})'.format(m['roc_auc']))\n",
        "plt.xlabel('False positive rate')\n",
        "plt.ylabel('True positive rate')\n",
        "plt.title('Curva ROC (zoom en la parte superior izquierda)')\n",
        "plt.legend(loc='best')\n",
        "plt.show()"
      ],
      "metadata": {
        "id": "9UDiROsegM1E"
      },
      "execution_count": null,
      "outputs": []
    },
    {
      "cell_type": "code",
      "source": [
        "#@title Modelo CNN + Attention\n",
        "#train_model_get_metrics(model_name='LSTM_Attention',model=getLSTM_Attention(max_features,max_len,LOSS_FUNCTION,OPTIMIZER))"
      ],
      "metadata": {
        "id": "vrF6FRkmYk--"
      },
      "execution_count": null,
      "outputs": []
    }
  ]
}