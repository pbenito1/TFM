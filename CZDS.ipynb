{
  "cells": [
    {
      "cell_type": "markdown",
      "metadata": {
        "id": "view-in-github",
        "colab_type": "text"
      },
      "source": [
        "<a href=\"https://colab.research.google.com/github/pbenito1/TFM/blob/main/CZDS.ipynb\" target=\"_parent\"><img src=\"https://colab.research.google.com/assets/colab-badge.svg\" alt=\"Open In Colab\"/></a>"
      ]
    },
    {
      "cell_type": "markdown",
      "metadata": {
        "id": "-q2sFierhzng"
      },
      "source": [
        "# Predicción contra dominios `.COM` del servicio CZDS\n",
        "\n",
        "El servicio CZDS de [ICANN](https://czds.icann.org/home) proporciona el listado de los dominios de una gran parte de los dominios TLD disponibles.\n",
        "\n",
        "Entre ellos, se encuentra el TLD más popular, el \"_.com_\" que cuenta en la actualidad con casi 160 millones de dominios, y del que se crean diariamente [más de 100.000 dominios](https://dnpedia.com/tlds/daily.php).\n",
        "\n",
        "En este experimento vamos a realizar la predicción de bondad del listado de dominios .com de acuerdo a los modelos entrenados en las fases anteriores del TFM.\n",
        "\n",
        "## Pretratamiento de dominios `.com``\n",
        "\n",
        "El listado de dominios `.com` proporcionado por ICANN se proporciona en forma de un archivo denominado `com.txt.gz` que contiene un único archivo `com.txt` con el siguiente contenido:\n",
        "\n",
        "```\n",
        "com.    900     in      soa     a.gtld-servers.net.     nstld.verisign-grs.com. 1664841622      1800    900     604800  86400\n",
        "0-------------------------------------------------------------0.com.    172800  in      ns      ns1.domainit.com.\n",
        "0-------------------------------------------------------------0.com.    172800  in      ns      ns2.domainit.com.\n",
        "0-------------------------------------------------------------5.com.    172800  in      ns      fns.frogsmart.net.\n",
        "0-------------------------------------------------------------5.com.    172800  in      ns      sns.frogsmart.net.\n",
        "0-------------------------------------------------------------5.com.    172800  in      ns      tns.frogsmart.net.\n",
        "0---------------------0.com.    172800  in      ns      ns0.directnic.com.\n",
        "0---------------------0.com.    172800  in      ns      ns1.directnic.com.\n",
        "```\n",
        "\n",
        "En el mismo se puede observar que contiene no únicamente los dominios registrados, sino los servidores de nombre asociados. Realmente de esa información, en nuestro caso, únicamente nos interesa el nombre de dominio. Por este motivo es necesario realizar un pretratamiento para filtrar, exclusivamente, los dominios `.com` únicos.\n",
        "\n",
        "Este tratamiento lo realizamos mediante los siguientes comandos en `bash` de Linux:\n",
        "\n",
        "Descomprimimos el archivo, nos quedamos con la primera columna y deduplicamos los dominios utilizando el comando `uniq`:\n",
        "```\n",
        "$ gunzip -c com.txt.gz|cut -f1|uniq|more>com_domains.txt\n",
        "```\n",
        "\n",
        "Eliminamos los dominios `unicode`, comienzan por `xn--`:\n",
        "```\n",
        "$ grep -v '^xn--' com_domains.txt >com_domains_uniq_noxnn.txt\n",
        "```\n",
        "\n",
        "Extraemos el SLD:\n",
        "```\n",
        "$ cat com_domains_uniq_noxnn.txt | rev | cut -d'.' -f3 | rev >com_domains_tld.txt\n",
        "```\n",
        "\n",
        "Calculamos el número de dominios:\n",
        "```\n",
        "$ wc -l com_domains_tld.txt\n",
        "165107972 com_domains_tld.txt\n",
        "```\n",
        "\n",
        "Hay más de 165 millones de dominios `.com`\n",
        "\n",
        "\n",
        "A continuación cargaremos el modelo CNN previamente entrenado en el _notebook_ de [Redes neuronales](RedesNeuronales.ipynb), y realizaremos las predicciones de parte de los dominios `.com`. Dado que existen limitaciones de memoria en el servicio Google Colab, se realizarán las predicciones únicamente sobre 10 millones de registros de CZDS.\n"
      ]
    },
    {
      "cell_type": "code",
      "execution_count": 43,
      "metadata": {
        "id": "Pdm6k2djlyLh"
      },
      "outputs": [],
      "source": [
        "# imports\n",
        "import os\n",
        "import tensorflow as tf\n",
        "import pickle\n",
        "import numpy as np\n",
        "import pandas as pd\n",
        "import seaborn as sns\n",
        "import matplotlib.pyplot as plt\n"
      ]
    },
    {
      "cell_type": "code",
      "execution_count": 3,
      "metadata": {
        "id": "oKUG-cboexl4"
      },
      "outputs": [],
      "source": [
        "# Cargamos el modelo CNN\n",
        "GDRIVE_PATH='/content/drive/MyDrive/TFM'\n",
        "CHECKPOINTS_PATH=os.path.join(GDRIVE_PATH, 'checkpoints')"
      ]
    },
    {
      "cell_type": "markdown",
      "source": [
        "Cargamos el modelo entrenado previamente"
      ],
      "metadata": {
        "id": "H7xPCFuvxgp_"
      }
    },
    {
      "cell_type": "code",
      "execution_count": 4,
      "metadata": {
        "id": "vDurRhv2BbgQ"
      },
      "outputs": [],
      "source": [
        "model = tf.keras.models.load_model(os.path.join(GDRIVE_PATH,'CONV1D'))"
      ]
    },
    {
      "cell_type": "markdown",
      "source": [
        "Cargamos el mapeo de caracteres previamente serializado"
      ],
      "metadata": {
        "id": "_mae9JGMxW9M"
      }
    },
    {
      "cell_type": "code",
      "execution_count": 5,
      "metadata": {
        "id": "9jfj8gftlz0h"
      },
      "outputs": [],
      "source": [
        "with open(os.path.join(GDRIVE_PATH, 'valid_chars.pickle'), 'rb') as h:\n",
        "  valid_chars=pickle.load(h)"
      ]
    },
    {
      "cell_type": "markdown",
      "source": [
        "Cargamos el archivo preprocesado con los dominios `.com` de CZDS. \n",
        "\n",
        "Por limitaciones de memoria únicamente cargamos 20 millones de elementos. De ellos tomamos una muestra de 100.000 elementos"
      ],
      "metadata": {
        "id": "gFKrAxkYxjE9"
      }
    },
    {
      "cell_type": "code",
      "execution_count": 25,
      "metadata": {
        "id": "DIox5a5WHcmX"
      },
      "outputs": [],
      "source": [
        "df = pd.read_csv(os.path.join(GDRIVE_PATH,'CZDS/com_domains_tld.txt'),header=None,names=['domain'],nrows=20000000)\n",
        "df=df.sample(100000)"
      ]
    },
    {
      "cell_type": "markdown",
      "source": [
        "Añadimos el TLD `.com`. La red neuronal toma como parámetro el dominio completo, incluyendo TLD."
      ],
      "metadata": {
        "id": "7a758b_WyCVp"
      }
    },
    {
      "cell_type": "code",
      "execution_count": 26,
      "metadata": {
        "id": "RyASDRZDUAct"
      },
      "outputs": [],
      "source": [
        "df['full_domain'] = df['domain'].apply(lambda d:d+'.com')"
      ]
    },
    {
      "cell_type": "code",
      "execution_count": 27,
      "metadata": {
        "id": "ythCLR1QJyBL"
      },
      "outputs": [],
      "source": [
        "X = np.array(df['full_domain'])"
      ]
    },
    {
      "cell_type": "markdown",
      "source": [
        "Mapeamos los caracteres a su código numérico asociado"
      ],
      "metadata": {
        "id": "gzgaHqFKyOhb"
      }
    },
    {
      "cell_type": "code",
      "execution_count": 28,
      "metadata": {
        "id": "y1gd0liSEsB6"
      },
      "outputs": [],
      "source": [
        "X = [[valid_chars[y] for y in x] for x in X]"
      ]
    },
    {
      "cell_type": "markdown",
      "source": [
        "Añadimos _padding_ hasta la máxima longitud del dominio (67)"
      ],
      "metadata": {
        "id": "sHHyaMCRyY1r"
      }
    },
    {
      "cell_type": "code",
      "execution_count": 29,
      "metadata": {
        "id": "6oF1IfA_HpSl"
      },
      "outputs": [],
      "source": [
        "X = tf.keras.preprocessing.sequence.pad_sequences(X, maxlen=67)"
      ]
    },
    {
      "cell_type": "code",
      "execution_count": 30,
      "metadata": {
        "colab": {
          "base_uri": "https://localhost:8080/"
        },
        "id": "-dKjC7SNHqha",
        "outputId": "1c7c87f1-0da0-4038-ba8f-2de5be14b606"
      },
      "outputs": [
        {
          "output_type": "stream",
          "name": "stdout",
          "text": [
            "3125/3125 [==============================] - 5s 2ms/step\n"
          ]
        }
      ],
      "source": [
        "p=model.predict(X)"
      ]
    },
    {
      "cell_type": "markdown",
      "source": [
        "Las predicciones menores de 0.5 se consideran benignas y las mayores, malignas."
      ],
      "metadata": {
        "id": "eSvHOfWCyn5n"
      }
    },
    {
      "cell_type": "code",
      "execution_count": 31,
      "metadata": {
        "id": "7n6eC3blH0Jg"
      },
      "outputs": [],
      "source": [
        "Y = np.array(['benign' if x <0.5 else 'malign' for x in p])"
      ]
    },
    {
      "cell_type": "markdown",
      "source": [
        "Añadimos los resultados al _dataframe_ original"
      ],
      "metadata": {
        "id": "ky35lN3wyzj7"
      }
    },
    {
      "cell_type": "code",
      "execution_count": 32,
      "metadata": {
        "id": "KGcJxorDWJtS"
      },
      "outputs": [],
      "source": [
        "np.concatenate( p, axis=0 )\n",
        "df['category'] = Y.tolist()\n",
        "df['prediction'] = np.concatenate( p, axis=0 )"
      ]
    },
    {
      "cell_type": "markdown",
      "source": [
        "Muestra de **dominios benignos**. Se toman los valores de predicción más cercanos a 0, los cuales son más representativos:"
      ],
      "metadata": {
        "id": "qTeYVAPjy6LZ"
      }
    },
    {
      "cell_type": "code",
      "execution_count": 33,
      "metadata": {
        "id": "Ke7B-H4IR8ry",
        "colab": {
          "base_uri": "https://localhost:8080/",
          "height": 363
        },
        "outputId": "a08e4f18-a095-470d-f054-7175f796bbd9"
      },
      "outputs": [
        {
          "output_type": "execute_result",
          "data": {
            "text/plain": [
              "                   domain          full_domain category    prediction\n",
              "7373020             ack-x            ack-x.com   benign  1.964372e-08\n",
              "15359269         atacross         atacross.com   benign  8.551880e-03\n",
              "19073299  beautybarbyford  beautybarbyford.com   benign  1.989538e-03\n",
              "2530270   360integrations  360integrations.com   benign  4.683399e-04\n",
              "1731003            22plus           22plus.com   benign  1.969252e-04\n",
              "11906847        amyfranko        amyfranko.com   benign  5.020640e-03\n",
              "13393429         applecan         applecan.com   benign  6.389543e-03\n",
              "13099224         aotrader         aotrader.com   benign  3.696646e-03\n",
              "16988821       azurespins       azurespins.com   benign  5.288416e-03\n",
              "19529933        belle-rep        belle-rep.com   benign  6.843436e-06"
            ],
            "text/html": [
              "\n",
              "  <div id=\"df-6c017de5-e3c9-4997-9b79-bcdaeea460d4\">\n",
              "    <div class=\"colab-df-container\">\n",
              "      <div>\n",
              "<style scoped>\n",
              "    .dataframe tbody tr th:only-of-type {\n",
              "        vertical-align: middle;\n",
              "    }\n",
              "\n",
              "    .dataframe tbody tr th {\n",
              "        vertical-align: top;\n",
              "    }\n",
              "\n",
              "    .dataframe thead th {\n",
              "        text-align: right;\n",
              "    }\n",
              "</style>\n",
              "<table border=\"1\" class=\"dataframe\">\n",
              "  <thead>\n",
              "    <tr style=\"text-align: right;\">\n",
              "      <th></th>\n",
              "      <th>domain</th>\n",
              "      <th>full_domain</th>\n",
              "      <th>category</th>\n",
              "      <th>prediction</th>\n",
              "    </tr>\n",
              "  </thead>\n",
              "  <tbody>\n",
              "    <tr>\n",
              "      <th>7373020</th>\n",
              "      <td>ack-x</td>\n",
              "      <td>ack-x.com</td>\n",
              "      <td>benign</td>\n",
              "      <td>1.964372e-08</td>\n",
              "    </tr>\n",
              "    <tr>\n",
              "      <th>15359269</th>\n",
              "      <td>atacross</td>\n",
              "      <td>atacross.com</td>\n",
              "      <td>benign</td>\n",
              "      <td>8.551880e-03</td>\n",
              "    </tr>\n",
              "    <tr>\n",
              "      <th>19073299</th>\n",
              "      <td>beautybarbyford</td>\n",
              "      <td>beautybarbyford.com</td>\n",
              "      <td>benign</td>\n",
              "      <td>1.989538e-03</td>\n",
              "    </tr>\n",
              "    <tr>\n",
              "      <th>2530270</th>\n",
              "      <td>360integrations</td>\n",
              "      <td>360integrations.com</td>\n",
              "      <td>benign</td>\n",
              "      <td>4.683399e-04</td>\n",
              "    </tr>\n",
              "    <tr>\n",
              "      <th>1731003</th>\n",
              "      <td>22plus</td>\n",
              "      <td>22plus.com</td>\n",
              "      <td>benign</td>\n",
              "      <td>1.969252e-04</td>\n",
              "    </tr>\n",
              "    <tr>\n",
              "      <th>11906847</th>\n",
              "      <td>amyfranko</td>\n",
              "      <td>amyfranko.com</td>\n",
              "      <td>benign</td>\n",
              "      <td>5.020640e-03</td>\n",
              "    </tr>\n",
              "    <tr>\n",
              "      <th>13393429</th>\n",
              "      <td>applecan</td>\n",
              "      <td>applecan.com</td>\n",
              "      <td>benign</td>\n",
              "      <td>6.389543e-03</td>\n",
              "    </tr>\n",
              "    <tr>\n",
              "      <th>13099224</th>\n",
              "      <td>aotrader</td>\n",
              "      <td>aotrader.com</td>\n",
              "      <td>benign</td>\n",
              "      <td>3.696646e-03</td>\n",
              "    </tr>\n",
              "    <tr>\n",
              "      <th>16988821</th>\n",
              "      <td>azurespins</td>\n",
              "      <td>azurespins.com</td>\n",
              "      <td>benign</td>\n",
              "      <td>5.288416e-03</td>\n",
              "    </tr>\n",
              "    <tr>\n",
              "      <th>19529933</th>\n",
              "      <td>belle-rep</td>\n",
              "      <td>belle-rep.com</td>\n",
              "      <td>benign</td>\n",
              "      <td>6.843436e-06</td>\n",
              "    </tr>\n",
              "  </tbody>\n",
              "</table>\n",
              "</div>\n",
              "      <button class=\"colab-df-convert\" onclick=\"convertToInteractive('df-6c017de5-e3c9-4997-9b79-bcdaeea460d4')\"\n",
              "              title=\"Convert this dataframe to an interactive table.\"\n",
              "              style=\"display:none;\">\n",
              "        \n",
              "  <svg xmlns=\"http://www.w3.org/2000/svg\" height=\"24px\"viewBox=\"0 0 24 24\"\n",
              "       width=\"24px\">\n",
              "    <path d=\"M0 0h24v24H0V0z\" fill=\"none\"/>\n",
              "    <path d=\"M18.56 5.44l.94 2.06.94-2.06 2.06-.94-2.06-.94-.94-2.06-.94 2.06-2.06.94zm-11 1L8.5 8.5l.94-2.06 2.06-.94-2.06-.94L8.5 2.5l-.94 2.06-2.06.94zm10 10l.94 2.06.94-2.06 2.06-.94-2.06-.94-.94-2.06-.94 2.06-2.06.94z\"/><path d=\"M17.41 7.96l-1.37-1.37c-.4-.4-.92-.59-1.43-.59-.52 0-1.04.2-1.43.59L10.3 9.45l-7.72 7.72c-.78.78-.78 2.05 0 2.83L4 21.41c.39.39.9.59 1.41.59.51 0 1.02-.2 1.41-.59l7.78-7.78 2.81-2.81c.8-.78.8-2.07 0-2.86zM5.41 20L4 18.59l7.72-7.72 1.47 1.35L5.41 20z\"/>\n",
              "  </svg>\n",
              "      </button>\n",
              "      \n",
              "  <style>\n",
              "    .colab-df-container {\n",
              "      display:flex;\n",
              "      flex-wrap:wrap;\n",
              "      gap: 12px;\n",
              "    }\n",
              "\n",
              "    .colab-df-convert {\n",
              "      background-color: #E8F0FE;\n",
              "      border: none;\n",
              "      border-radius: 50%;\n",
              "      cursor: pointer;\n",
              "      display: none;\n",
              "      fill: #1967D2;\n",
              "      height: 32px;\n",
              "      padding: 0 0 0 0;\n",
              "      width: 32px;\n",
              "    }\n",
              "\n",
              "    .colab-df-convert:hover {\n",
              "      background-color: #E2EBFA;\n",
              "      box-shadow: 0px 1px 2px rgba(60, 64, 67, 0.3), 0px 1px 3px 1px rgba(60, 64, 67, 0.15);\n",
              "      fill: #174EA6;\n",
              "    }\n",
              "\n",
              "    [theme=dark] .colab-df-convert {\n",
              "      background-color: #3B4455;\n",
              "      fill: #D2E3FC;\n",
              "    }\n",
              "\n",
              "    [theme=dark] .colab-df-convert:hover {\n",
              "      background-color: #434B5C;\n",
              "      box-shadow: 0px 1px 3px 1px rgba(0, 0, 0, 0.15);\n",
              "      filter: drop-shadow(0px 1px 2px rgba(0, 0, 0, 0.3));\n",
              "      fill: #FFFFFF;\n",
              "    }\n",
              "  </style>\n",
              "\n",
              "      <script>\n",
              "        const buttonEl =\n",
              "          document.querySelector('#df-6c017de5-e3c9-4997-9b79-bcdaeea460d4 button.colab-df-convert');\n",
              "        buttonEl.style.display =\n",
              "          google.colab.kernel.accessAllowed ? 'block' : 'none';\n",
              "\n",
              "        async function convertToInteractive(key) {\n",
              "          const element = document.querySelector('#df-6c017de5-e3c9-4997-9b79-bcdaeea460d4');\n",
              "          const dataTable =\n",
              "            await google.colab.kernel.invokeFunction('convertToInteractive',\n",
              "                                                     [key], {});\n",
              "          if (!dataTable) return;\n",
              "\n",
              "          const docLinkHtml = 'Like what you see? Visit the ' +\n",
              "            '<a target=\"_blank\" href=https://colab.research.google.com/notebooks/data_table.ipynb>data table notebook</a>'\n",
              "            + ' to learn more about interactive tables.';\n",
              "          element.innerHTML = '';\n",
              "          dataTable['output_type'] = 'display_data';\n",
              "          await google.colab.output.renderOutput(dataTable, element);\n",
              "          const docLink = document.createElement('div');\n",
              "          docLink.innerHTML = docLinkHtml;\n",
              "          element.appendChild(docLink);\n",
              "        }\n",
              "      </script>\n",
              "    </div>\n",
              "  </div>\n",
              "  "
            ]
          },
          "metadata": {},
          "execution_count": 33
        }
      ],
      "source": [
        "#df[df.category=='benign'].sample(10)\n",
        "df[df.prediction<0.01].sample(10)"
      ]
    },
    {
      "cell_type": "markdown",
      "source": [
        "Muestra de **dominios malignos**. Se toman los valores de predicción más cercanos a 1, los cuales son más representativos:"
      ],
      "metadata": {
        "id": "b9c7lFASzH_s"
      }
    },
    {
      "cell_type": "code",
      "execution_count": 34,
      "metadata": {
        "id": "yaAJgCdwSLfi",
        "colab": {
          "base_uri": "https://localhost:8080/",
          "height": 427
        },
        "outputId": "4c83e93c-cc4a-4388-913e-b4f9695240e6"
      },
      "outputs": [
        {
          "output_type": "execute_result",
          "data": {
            "text/plain": [
              "                                   domain  \\\n",
              "2888294  3m7speealie0eal26gfj42g1sao35in8   \n",
              "4681903  6pukv660oaqhmtjf557sa1m78e1kivcf   \n",
              "2904273  3nc55meacriuvrf8i4l9sendgaosi728   \n",
              "6236933  9jl0u1r950bb2v5nsoahuea19m3sjkr2   \n",
              "5669325  8i0mcco6ktlflpk6830p3lsn4ned75ql   \n",
              "2609731  36gtopb1leoqjn7kdp9ck9kp9aojaacg   \n",
              "6479157  a7q27556abg845mammt35u4mv52bj4sp   \n",
              "5092303  7fhpjgl320q3acbeul4vqp3ta1djnhq4   \n",
              "2956333  3s32eo6a9g0ub1ql11haunnu88ni44a0   \n",
              "2469357  347ssckobk8o7macvurrkvjaifniuqqa   \n",
              "\n",
              "                                  full_domain category  prediction  \n",
              "2888294  3m7speealie0eal26gfj42g1sao35in8.com   malign    0.999878  \n",
              "4681903  6pukv660oaqhmtjf557sa1m78e1kivcf.com   malign    1.000000  \n",
              "2904273  3nc55meacriuvrf8i4l9sendgaosi728.com   malign    0.999989  \n",
              "6236933  9jl0u1r950bb2v5nsoahuea19m3sjkr2.com   malign    1.000000  \n",
              "5669325  8i0mcco6ktlflpk6830p3lsn4ned75ql.com   malign    1.000000  \n",
              "2609731  36gtopb1leoqjn7kdp9ck9kp9aojaacg.com   malign    1.000000  \n",
              "6479157  a7q27556abg845mammt35u4mv52bj4sp.com   malign    0.999996  \n",
              "5092303  7fhpjgl320q3acbeul4vqp3ta1djnhq4.com   malign    1.000000  \n",
              "2956333  3s32eo6a9g0ub1ql11haunnu88ni44a0.com   malign    0.999999  \n",
              "2469357  347ssckobk8o7macvurrkvjaifniuqqa.com   malign    0.999999  "
            ],
            "text/html": [
              "\n",
              "  <div id=\"df-bec81804-ba6c-4e52-b636-594db9c22d6a\">\n",
              "    <div class=\"colab-df-container\">\n",
              "      <div>\n",
              "<style scoped>\n",
              "    .dataframe tbody tr th:only-of-type {\n",
              "        vertical-align: middle;\n",
              "    }\n",
              "\n",
              "    .dataframe tbody tr th {\n",
              "        vertical-align: top;\n",
              "    }\n",
              "\n",
              "    .dataframe thead th {\n",
              "        text-align: right;\n",
              "    }\n",
              "</style>\n",
              "<table border=\"1\" class=\"dataframe\">\n",
              "  <thead>\n",
              "    <tr style=\"text-align: right;\">\n",
              "      <th></th>\n",
              "      <th>domain</th>\n",
              "      <th>full_domain</th>\n",
              "      <th>category</th>\n",
              "      <th>prediction</th>\n",
              "    </tr>\n",
              "  </thead>\n",
              "  <tbody>\n",
              "    <tr>\n",
              "      <th>2888294</th>\n",
              "      <td>3m7speealie0eal26gfj42g1sao35in8</td>\n",
              "      <td>3m7speealie0eal26gfj42g1sao35in8.com</td>\n",
              "      <td>malign</td>\n",
              "      <td>0.999878</td>\n",
              "    </tr>\n",
              "    <tr>\n",
              "      <th>4681903</th>\n",
              "      <td>6pukv660oaqhmtjf557sa1m78e1kivcf</td>\n",
              "      <td>6pukv660oaqhmtjf557sa1m78e1kivcf.com</td>\n",
              "      <td>malign</td>\n",
              "      <td>1.000000</td>\n",
              "    </tr>\n",
              "    <tr>\n",
              "      <th>2904273</th>\n",
              "      <td>3nc55meacriuvrf8i4l9sendgaosi728</td>\n",
              "      <td>3nc55meacriuvrf8i4l9sendgaosi728.com</td>\n",
              "      <td>malign</td>\n",
              "      <td>0.999989</td>\n",
              "    </tr>\n",
              "    <tr>\n",
              "      <th>6236933</th>\n",
              "      <td>9jl0u1r950bb2v5nsoahuea19m3sjkr2</td>\n",
              "      <td>9jl0u1r950bb2v5nsoahuea19m3sjkr2.com</td>\n",
              "      <td>malign</td>\n",
              "      <td>1.000000</td>\n",
              "    </tr>\n",
              "    <tr>\n",
              "      <th>5669325</th>\n",
              "      <td>8i0mcco6ktlflpk6830p3lsn4ned75ql</td>\n",
              "      <td>8i0mcco6ktlflpk6830p3lsn4ned75ql.com</td>\n",
              "      <td>malign</td>\n",
              "      <td>1.000000</td>\n",
              "    </tr>\n",
              "    <tr>\n",
              "      <th>2609731</th>\n",
              "      <td>36gtopb1leoqjn7kdp9ck9kp9aojaacg</td>\n",
              "      <td>36gtopb1leoqjn7kdp9ck9kp9aojaacg.com</td>\n",
              "      <td>malign</td>\n",
              "      <td>1.000000</td>\n",
              "    </tr>\n",
              "    <tr>\n",
              "      <th>6479157</th>\n",
              "      <td>a7q27556abg845mammt35u4mv52bj4sp</td>\n",
              "      <td>a7q27556abg845mammt35u4mv52bj4sp.com</td>\n",
              "      <td>malign</td>\n",
              "      <td>0.999996</td>\n",
              "    </tr>\n",
              "    <tr>\n",
              "      <th>5092303</th>\n",
              "      <td>7fhpjgl320q3acbeul4vqp3ta1djnhq4</td>\n",
              "      <td>7fhpjgl320q3acbeul4vqp3ta1djnhq4.com</td>\n",
              "      <td>malign</td>\n",
              "      <td>1.000000</td>\n",
              "    </tr>\n",
              "    <tr>\n",
              "      <th>2956333</th>\n",
              "      <td>3s32eo6a9g0ub1ql11haunnu88ni44a0</td>\n",
              "      <td>3s32eo6a9g0ub1ql11haunnu88ni44a0.com</td>\n",
              "      <td>malign</td>\n",
              "      <td>0.999999</td>\n",
              "    </tr>\n",
              "    <tr>\n",
              "      <th>2469357</th>\n",
              "      <td>347ssckobk8o7macvurrkvjaifniuqqa</td>\n",
              "      <td>347ssckobk8o7macvurrkvjaifniuqqa.com</td>\n",
              "      <td>malign</td>\n",
              "      <td>0.999999</td>\n",
              "    </tr>\n",
              "  </tbody>\n",
              "</table>\n",
              "</div>\n",
              "      <button class=\"colab-df-convert\" onclick=\"convertToInteractive('df-bec81804-ba6c-4e52-b636-594db9c22d6a')\"\n",
              "              title=\"Convert this dataframe to an interactive table.\"\n",
              "              style=\"display:none;\">\n",
              "        \n",
              "  <svg xmlns=\"http://www.w3.org/2000/svg\" height=\"24px\"viewBox=\"0 0 24 24\"\n",
              "       width=\"24px\">\n",
              "    <path d=\"M0 0h24v24H0V0z\" fill=\"none\"/>\n",
              "    <path d=\"M18.56 5.44l.94 2.06.94-2.06 2.06-.94-2.06-.94-.94-2.06-.94 2.06-2.06.94zm-11 1L8.5 8.5l.94-2.06 2.06-.94-2.06-.94L8.5 2.5l-.94 2.06-2.06.94zm10 10l.94 2.06.94-2.06 2.06-.94-2.06-.94-.94-2.06-.94 2.06-2.06.94z\"/><path d=\"M17.41 7.96l-1.37-1.37c-.4-.4-.92-.59-1.43-.59-.52 0-1.04.2-1.43.59L10.3 9.45l-7.72 7.72c-.78.78-.78 2.05 0 2.83L4 21.41c.39.39.9.59 1.41.59.51 0 1.02-.2 1.41-.59l7.78-7.78 2.81-2.81c.8-.78.8-2.07 0-2.86zM5.41 20L4 18.59l7.72-7.72 1.47 1.35L5.41 20z\"/>\n",
              "  </svg>\n",
              "      </button>\n",
              "      \n",
              "  <style>\n",
              "    .colab-df-container {\n",
              "      display:flex;\n",
              "      flex-wrap:wrap;\n",
              "      gap: 12px;\n",
              "    }\n",
              "\n",
              "    .colab-df-convert {\n",
              "      background-color: #E8F0FE;\n",
              "      border: none;\n",
              "      border-radius: 50%;\n",
              "      cursor: pointer;\n",
              "      display: none;\n",
              "      fill: #1967D2;\n",
              "      height: 32px;\n",
              "      padding: 0 0 0 0;\n",
              "      width: 32px;\n",
              "    }\n",
              "\n",
              "    .colab-df-convert:hover {\n",
              "      background-color: #E2EBFA;\n",
              "      box-shadow: 0px 1px 2px rgba(60, 64, 67, 0.3), 0px 1px 3px 1px rgba(60, 64, 67, 0.15);\n",
              "      fill: #174EA6;\n",
              "    }\n",
              "\n",
              "    [theme=dark] .colab-df-convert {\n",
              "      background-color: #3B4455;\n",
              "      fill: #D2E3FC;\n",
              "    }\n",
              "\n",
              "    [theme=dark] .colab-df-convert:hover {\n",
              "      background-color: #434B5C;\n",
              "      box-shadow: 0px 1px 3px 1px rgba(0, 0, 0, 0.15);\n",
              "      filter: drop-shadow(0px 1px 2px rgba(0, 0, 0, 0.3));\n",
              "      fill: #FFFFFF;\n",
              "    }\n",
              "  </style>\n",
              "\n",
              "      <script>\n",
              "        const buttonEl =\n",
              "          document.querySelector('#df-bec81804-ba6c-4e52-b636-594db9c22d6a button.colab-df-convert');\n",
              "        buttonEl.style.display =\n",
              "          google.colab.kernel.accessAllowed ? 'block' : 'none';\n",
              "\n",
              "        async function convertToInteractive(key) {\n",
              "          const element = document.querySelector('#df-bec81804-ba6c-4e52-b636-594db9c22d6a');\n",
              "          const dataTable =\n",
              "            await google.colab.kernel.invokeFunction('convertToInteractive',\n",
              "                                                     [key], {});\n",
              "          if (!dataTable) return;\n",
              "\n",
              "          const docLinkHtml = 'Like what you see? Visit the ' +\n",
              "            '<a target=\"_blank\" href=https://colab.research.google.com/notebooks/data_table.ipynb>data table notebook</a>'\n",
              "            + ' to learn more about interactive tables.';\n",
              "          element.innerHTML = '';\n",
              "          dataTable['output_type'] = 'display_data';\n",
              "          await google.colab.output.renderOutput(dataTable, element);\n",
              "          const docLink = document.createElement('div');\n",
              "          docLink.innerHTML = docLinkHtml;\n",
              "          element.appendChild(docLink);\n",
              "        }\n",
              "      </script>\n",
              "    </div>\n",
              "  </div>\n",
              "  "
            ]
          },
          "metadata": {},
          "execution_count": 34
        }
      ],
      "source": [
        "#df[df.category=='malign'].sample(10)\n",
        "df[df.prediction>0.95].sample(10)"
      ]
    },
    {
      "cell_type": "markdown",
      "source": [
        "Los dominios malignos, aparentemente, tienen apariencia de DGA.\n",
        "\n",
        "Veamos a continuación cuantos de los dominios se consideran benignos y cuantos malignos:"
      ],
      "metadata": {
        "id": "pmW5VhTpzRLk"
      }
    },
    {
      "cell_type": "code",
      "execution_count": 45,
      "metadata": {
        "id": "Gae6aWEiW08t",
        "colab": {
          "base_uri": "https://localhost:8080/",
          "height": 441
        },
        "outputId": "f922da12-44ed-4dcf-beb5-d2931b7c84ee"
      },
      "outputs": [
        {
          "output_type": "display_data",
          "data": {
            "text/plain": [
              "<Figure size 504x432 with 1 Axes>"
            ],
            "image/png": "[encoded data removed]"
          },
          "metadata": {}
        }
      ],
      "source": [
        "df['category'].value_counts(ascending=False).plot(kind='bar')\n",
        "\n",
        "sns.set(font_scale=1.4)\n",
        "df['category'].value_counts(ascending=False).plot(kind='bar', figsize=(7, 6), rot=0)\n",
        "plt.xlabel(\"Categoría\", labelpad=14)\n",
        "plt.ylabel(\"Dominios\", labelpad=14)\n",
        "plt.title(\"Clasificación dominios benignos Vs DGA\", y=1.02);"
      ]
    }
  ],
  "metadata": {
    "accelerator": "GPU",
    "colab": {
      "provenance": [],
      "mount_file_id": "1vqpvTf6Af0q45ypbdPdwc--jNNnP_5OO",
      "authorship_tag": "ABX9TyMIDCq0c8Y4vJQ14+fZsn0S",
      "include_colab_link": true
    },
    "gpuClass": "standard",
    "kernelspec": {
      "display_name": "Python 3",
      "name": "python3"
    },
    "language_info": {
      "name": "python"
    }
  },
  "nbformat": 4,
  "nbformat_minor": 0
}