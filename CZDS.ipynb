{
  "cells": [
    {
      "cell_type": "markdown",
      "metadata": {
        "id": "view-in-github",
        "colab_type": "text"
      },
      "source": [
        "<a href=\"https://colab.research.google.com/github/pbenito1/TFM/blob/main/CZDS.ipynb\" target=\"_parent\"><img src=\"https://colab.research.google.com/assets/colab-badge.svg\" alt=\"Open In Colab\"/></a>"
      ]
    },
    {
      "cell_type": "markdown",
      "metadata": {
        "id": "-q2sFierhzng"
      },
      "source": [
        "# Predicción contra dominios `.COM` del servicio CZDS\n",
        "\n",
        "El servicio CZDS de [ICANN](https://czds.icann.org/home) proporciona el listado de los dominios de una gran parte de los dominios TLD disponibles.\n",
        "\n",
        "Entre ellos, se encuentra el TLD más popular, el \"_.com_\" que cuenta en la actualidad con casi 160 millones de dominios, y del que se crean diariamente [más de 100.000 dominios](https://dnpedia.com/tlds/daily.php).\n",
        "\n",
        "En este experimento vamos a realizar la predicción de bondad del listado de dominios .com de acuerdo a los modelos entrenados en las fases anteriores del TFM.\n",
        "\n",
        "## Pretratamiento de dominios `.com``\n",
        "\n",
        "El listado de dominios `.com` proporcionado por ICANN se proporciona en forma de un archivo denominado `com.txt.gz` que contiene un único archivo `com.txt` con el siguiente contenido:\n",
        "\n",
        "```\n",
        "com.    900     in      soa     a.gtld-servers.net.     nstld.verisign-grs.com. 1664841622      1800    900     604800  86400\n",
        "0-------------------------------------------------------------0.com.    172800  in      ns      ns1.domainit.com.\n",
        "0-------------------------------------------------------------0.com.    172800  in      ns      ns2.domainit.com.\n",
        "0-------------------------------------------------------------5.com.    172800  in      ns      fns.frogsmart.net.\n",
        "0-------------------------------------------------------------5.com.    172800  in      ns      sns.frogsmart.net.\n",
        "0-------------------------------------------------------------5.com.    172800  in      ns      tns.frogsmart.net.\n",
        "0---------------------0.com.    172800  in      ns      ns0.directnic.com.\n",
        "0---------------------0.com.    172800  in      ns      ns1.directnic.com.\n",
        "```\n",
        "\n",
        "En el mismo se puede observar que contiene no únicamente los dominios registrados, sino los servidores de nombre asociados. Realmente de esa información, en nuestro caso, únicamente nos interesa el nombre de dominio. Por este motivo es necesario realizar un pretratamiento para filtrar, exclusivamente, los dominios `.com` únicos.\n",
        "\n",
        "Este tratamiento lo realizamos mediante los siguientes comandos en `bash` de Linux:\n",
        "\n",
        "Descomprimimos el archivo, nos quedamos con la primera columna y deduplicamos los dominios utilizando el comando `uniq`:\n",
        "```\n",
        "$ gunzip -c com.txt.gz|cut -f1|uniq|more>com_domains.txt\n",
        "```\n",
        "\n",
        "Eliminamos los dominios `unicode`, comienzan por `xn--`:\n",
        "```\n",
        "$ grep -v '^xn--' com_domains.txt >com_domains_uniq_noxnn.txt\n",
        "```\n",
        "\n",
        "Extraemos el SLD:\n",
        "```\n",
        "$ cat com_domains_uniq_noxnn.txt | rev | cut -d'.' -f3 | rev >com_domains_tld.txt\n",
        "```\n",
        "\n",
        "Calculamos el número de dominios:\n",
        "```\n",
        "$ wc -l com_domains_tld.txt\n",
        "165107972 com_domains_tld.txt\n",
        "```\n",
        "\n",
        "Hay más de 165 millones de dominios `.com`\n",
        "\n",
        "\n",
        "A continuación cargaremos el modelo CNN previamente entrenado en el _notebook_ de [Redes neuronales](RedesNeuronales.ipynb), y realizaremos las predicciones de parte de los dominios `.com`. Dado que existen limitaciones de memoria en el servicio Google Colab, se realizarán las predicciones únicamente sobre 10 millones de registros de CZDS.\n"
      ]
    },
    {
      "cell_type": "code",
      "execution_count": 1,
      "metadata": {
        "id": "Pdm6k2djlyLh"
      },
      "outputs": [],
      "source": [
        "# imports\n",
        "import os\n",
        "import tensorflow as tf\n",
        "import pickle\n",
        "import numpy as np\n",
        "import pandas as pd"
      ]
    },
    {
      "cell_type": "code",
      "execution_count": 3,
      "metadata": {
        "id": "oKUG-cboexl4"
      },
      "outputs": [],
      "source": [
        "# Cargamos el modelo CNN\n",
        "GDRIVE_PATH='/content/drive/MyDrive/TFM'\n",
        "CHECKPOINTS_PATH=os.path.join(GDRIVE_PATH, 'checkpoints')"
      ]
    },
    {
      "cell_type": "markdown",
      "source": [
        "Cargamos el modelo entrenado previamente"
      ],
      "metadata": {
        "id": "H7xPCFuvxgp_"
      }
    },
    {
      "cell_type": "code",
      "execution_count": 4,
      "metadata": {
        "id": "vDurRhv2BbgQ"
      },
      "outputs": [],
      "source": [
        "model = tf.keras.models.load_model(os.path.join(GDRIVE_PATH,'CONV1D'))"
      ]
    },
    {
      "cell_type": "markdown",
      "source": [
        "Cargamos el mapeo de caracteres previamente serializado"
      ],
      "metadata": {
        "id": "_mae9JGMxW9M"
      }
    },
    {
      "cell_type": "code",
      "execution_count": 5,
      "metadata": {
        "id": "9jfj8gftlz0h"
      },
      "outputs": [],
      "source": [
        "with open(os.path.join(GDRIVE_PATH, 'valid_chars.pickle'), 'rb') as h:\n",
        "  valid_chars=pickle.load(h)"
      ]
    },
    {
      "cell_type": "markdown",
      "source": [
        "Cargamos el archivo preprocesado con los dominios `.com` de CZDS. \n",
        "\n",
        "Por limitaciones de memoria únicamente cargamos 20 millones de elementos. De ellos tomamsos una muestra de 50.000 elementos"
      ],
      "metadata": {
        "id": "gFKrAxkYxjE9"
      }
    },
    {
      "cell_type": "code",
      "execution_count": 7,
      "metadata": {
        "id": "DIox5a5WHcmX"
      },
      "outputs": [],
      "source": [
        "df = pd.read_csv(os.path.join(GDRIVE_PATH,'CZDS/com_domains_tld.txt'),header=None,names=['domain'],nrows=20000000)\n",
        "df=df.sample(50000)"
      ]
    },
    {
      "cell_type": "markdown",
      "source": [
        "Añadimos el TLD `.com`. La red neuronal toma como parámetro el dominio completo, incluyendo TLD."
      ],
      "metadata": {
        "id": "7a758b_WyCVp"
      }
    },
    {
      "cell_type": "code",
      "execution_count": 9,
      "metadata": {
        "id": "RyASDRZDUAct"
      },
      "outputs": [],
      "source": [
        "df['full_domain'] = df['domain'].apply(lambda d:d+'.com')"
      ]
    },
    {
      "cell_type": "code",
      "execution_count": 14,
      "metadata": {
        "id": "ythCLR1QJyBL"
      },
      "outputs": [],
      "source": [
        "X = np.array(df['full_domain'])"
      ]
    },
    {
      "cell_type": "markdown",
      "source": [
        "Mapeamos los caracteres a su código numérico asociado"
      ],
      "metadata": {
        "id": "gzgaHqFKyOhb"
      }
    },
    {
      "cell_type": "code",
      "execution_count": 15,
      "metadata": {
        "id": "y1gd0liSEsB6"
      },
      "outputs": [],
      "source": [
        "X = [[valid_chars[y] for y in x] for x in X]"
      ]
    },
    {
      "cell_type": "markdown",
      "source": [
        "Añadimos _padding_ hasta la máxima longitud del dominio (67)"
      ],
      "metadata": {
        "id": "sHHyaMCRyY1r"
      }
    },
    {
      "cell_type": "code",
      "execution_count": 16,
      "metadata": {
        "id": "6oF1IfA_HpSl"
      },
      "outputs": [],
      "source": [
        "X = tf.keras.preprocessing.sequence.pad_sequences(X, maxlen=67)"
      ]
    },
    {
      "cell_type": "code",
      "execution_count": 17,
      "metadata": {
        "colab": {
          "base_uri": "https://localhost:8080/"
        },
        "id": "-dKjC7SNHqha",
        "outputId": "be68dbca-2903-43a7-aadc-0c192c4e34af"
      },
      "outputs": [
        {
          "output_type": "stream",
          "name": "stdout",
          "text": [
            "1563/1563 [==============================] - 10s 2ms/step\n"
          ]
        }
      ],
      "source": [
        "p=model.predict(X)"
      ]
    },
    {
      "cell_type": "markdown",
      "source": [
        "Las predicciones menores de 0.5 se consideran benignas y las mayores, malignas."
      ],
      "metadata": {
        "id": "eSvHOfWCyn5n"
      }
    },
    {
      "cell_type": "code",
      "execution_count": 18,
      "metadata": {
        "id": "7n6eC3blH0Jg"
      },
      "outputs": [],
      "source": [
        "Y = np.array(['benign' if x <0.5 else 'malign' for x in p])"
      ]
    },
    {
      "cell_type": "markdown",
      "source": [
        "Añadimos los resultados al _dataframe_ original"
      ],
      "metadata": {
        "id": "ky35lN3wyzj7"
      }
    },
    {
      "cell_type": "code",
      "execution_count": 21,
      "metadata": {
        "id": "KGcJxorDWJtS"
      },
      "outputs": [],
      "source": [
        "np.concatenate( p, axis=0 )\n",
        "df['category'] = Y.tolist()\n",
        "df['prediction'] = np.concatenate( p, axis=0 )"
      ]
    },
    {
      "cell_type": "markdown",
      "source": [
        "Muestra de **dominios benignos**. Se toman los valores de predicción más cercanos a 0, los cuales son más representativos:"
      ],
      "metadata": {
        "id": "qTeYVAPjy6LZ"
      }
    },
    {
      "cell_type": "code",
      "execution_count": 22,
      "metadata": {
        "id": "Ke7B-H4IR8ry",
        "colab": {
          "base_uri": "https://localhost:8080/",
          "height": 407
        },
        "outputId": "8a80a16f-93b6-41cb-d11d-2f55197e6111"
      },
      "outputs": [
        {
          "output_type": "execute_result",
          "data": {
            "text/plain": [
              "                      domain             full_domain category  prediction\n",
              "13665165               ar4it               ar4it.com   benign    0.007594\n",
              "4966820              778sold             778sold.com   benign    0.006028\n",
              "10406784       allaroundcard       allaroundcard.com   benign    0.004897\n",
              "8660566       agence-rhodium      agence-rhodium.com   benign    0.001894\n",
              "19505962          bellalogic          bellalogic.com   benign    0.000576\n",
              "3588549              500rule             500rule.com   benign    0.001102\n",
              "541912    100prozenthandmade  100prozenthandmade.com   benign    0.000346\n",
              "5634149         8dconsulting        8dconsulting.com   benign    0.007053\n",
              "17887312        bangwebsites        bangwebsites.com   benign    0.000232\n",
              "13450699           appmetics           appmetics.com   benign    0.000241"
            ],
            "text/html": [
              "\n",
              "  <div id=\"df-12b86049-a18d-4765-8020-fb809e9b55ee\">\n",
              "    <div class=\"colab-df-container\">\n",
              "      <div>\n",
              "<style scoped>\n",
              "    .dataframe tbody tr th:only-of-type {\n",
              "        vertical-align: middle;\n",
              "    }\n",
              "\n",
              "    .dataframe tbody tr th {\n",
              "        vertical-align: top;\n",
              "    }\n",
              "\n",
              "    .dataframe thead th {\n",
              "        text-align: right;\n",
              "    }\n",
              "</style>\n",
              "<table border=\"1\" class=\"dataframe\">\n",
              "  <thead>\n",
              "    <tr style=\"text-align: right;\">\n",
              "      <th></th>\n",
              "      <th>domain</th>\n",
              "      <th>full_domain</th>\n",
              "      <th>category</th>\n",
              "      <th>prediction</th>\n",
              "    </tr>\n",
              "  </thead>\n",
              "  <tbody>\n",
              "    <tr>\n",
              "      <th>13665165</th>\n",
              "      <td>ar4it</td>\n",
              "      <td>ar4it.com</td>\n",
              "      <td>benign</td>\n",
              "      <td>0.007594</td>\n",
              "    </tr>\n",
              "    <tr>\n",
              "      <th>4966820</th>\n",
              "      <td>778sold</td>\n",
              "      <td>778sold.com</td>\n",
              "      <td>benign</td>\n",
              "      <td>0.006028</td>\n",
              "    </tr>\n",
              "    <tr>\n",
              "      <th>10406784</th>\n",
              "      <td>allaroundcard</td>\n",
              "      <td>allaroundcard.com</td>\n",
              "      <td>benign</td>\n",
              "      <td>0.004897</td>\n",
              "    </tr>\n",
              "    <tr>\n",
              "      <th>8660566</th>\n",
              "      <td>agence-rhodium</td>\n",
              "      <td>agence-rhodium.com</td>\n",
              "      <td>benign</td>\n",
              "      <td>0.001894</td>\n",
              "    </tr>\n",
              "    <tr>\n",
              "      <th>19505962</th>\n",
              "      <td>bellalogic</td>\n",
              "      <td>bellalogic.com</td>\n",
              "      <td>benign</td>\n",
              "      <td>0.000576</td>\n",
              "    </tr>\n",
              "    <tr>\n",
              "      <th>3588549</th>\n",
              "      <td>500rule</td>\n",
              "      <td>500rule.com</td>\n",
              "      <td>benign</td>\n",
              "      <td>0.001102</td>\n",
              "    </tr>\n",
              "    <tr>\n",
              "      <th>541912</th>\n",
              "      <td>100prozenthandmade</td>\n",
              "      <td>100prozenthandmade.com</td>\n",
              "      <td>benign</td>\n",
              "      <td>0.000346</td>\n",
              "    </tr>\n",
              "    <tr>\n",
              "      <th>5634149</th>\n",
              "      <td>8dconsulting</td>\n",
              "      <td>8dconsulting.com</td>\n",
              "      <td>benign</td>\n",
              "      <td>0.007053</td>\n",
              "    </tr>\n",
              "    <tr>\n",
              "      <th>17887312</th>\n",
              "      <td>bangwebsites</td>\n",
              "      <td>bangwebsites.com</td>\n",
              "      <td>benign</td>\n",
              "      <td>0.000232</td>\n",
              "    </tr>\n",
              "    <tr>\n",
              "      <th>13450699</th>\n",
              "      <td>appmetics</td>\n",
              "      <td>appmetics.com</td>\n",
              "      <td>benign</td>\n",
              "      <td>0.000241</td>\n",
              "    </tr>\n",
              "  </tbody>\n",
              "</table>\n",
              "</div>\n",
              "      <button class=\"colab-df-convert\" onclick=\"convertToInteractive('df-12b86049-a18d-4765-8020-fb809e9b55ee')\"\n",
              "              title=\"Convert this dataframe to an interactive table.\"\n",
              "              style=\"display:none;\">\n",
              "        \n",
              "  <svg xmlns=\"http://www.w3.org/2000/svg\" height=\"24px\"viewBox=\"0 0 24 24\"\n",
              "       width=\"24px\">\n",
              "    <path d=\"M0 0h24v24H0V0z\" fill=\"none\"/>\n",
              "    <path d=\"M18.56 5.44l.94 2.06.94-2.06 2.06-.94-2.06-.94-.94-2.06-.94 2.06-2.06.94zm-11 1L8.5 8.5l.94-2.06 2.06-.94-2.06-.94L8.5 2.5l-.94 2.06-2.06.94zm10 10l.94 2.06.94-2.06 2.06-.94-2.06-.94-.94-2.06-.94 2.06-2.06.94z\"/><path d=\"M17.41 7.96l-1.37-1.37c-.4-.4-.92-.59-1.43-.59-.52 0-1.04.2-1.43.59L10.3 9.45l-7.72 7.72c-.78.78-.78 2.05 0 2.83L4 21.41c.39.39.9.59 1.41.59.51 0 1.02-.2 1.41-.59l7.78-7.78 2.81-2.81c.8-.78.8-2.07 0-2.86zM5.41 20L4 18.59l7.72-7.72 1.47 1.35L5.41 20z\"/>\n",
              "  </svg>\n",
              "      </button>\n",
              "      \n",
              "  <style>\n",
              "    .colab-df-container {\n",
              "      display:flex;\n",
              "      flex-wrap:wrap;\n",
              "      gap: 12px;\n",
              "    }\n",
              "\n",
              "    .colab-df-convert {\n",
              "      background-color: #E8F0FE;\n",
              "      border: none;\n",
              "      border-radius: 50%;\n",
              "      cursor: pointer;\n",
              "      display: none;\n",
              "      fill: #1967D2;\n",
              "      height: 32px;\n",
              "      padding: 0 0 0 0;\n",
              "      width: 32px;\n",
              "    }\n",
              "\n",
              "    .colab-df-convert:hover {\n",
              "      background-color: #E2EBFA;\n",
              "      box-shadow: 0px 1px 2px rgba(60, 64, 67, 0.3), 0px 1px 3px 1px rgba(60, 64, 67, 0.15);\n",
              "      fill: #174EA6;\n",
              "    }\n",
              "\n",
              "    [theme=dark] .colab-df-convert {\n",
              "      background-color: #3B4455;\n",
              "      fill: #D2E3FC;\n",
              "    }\n",
              "\n",
              "    [theme=dark] .colab-df-convert:hover {\n",
              "      background-color: #434B5C;\n",
              "      box-shadow: 0px 1px 3px 1px rgba(0, 0, 0, 0.15);\n",
              "      filter: drop-shadow(0px 1px 2px rgba(0, 0, 0, 0.3));\n",
              "      fill: #FFFFFF;\n",
              "    }\n",
              "  </style>\n",
              "\n",
              "      <script>\n",
              "        const buttonEl =\n",
              "          document.querySelector('#df-12b86049-a18d-4765-8020-fb809e9b55ee button.colab-df-convert');\n",
              "        buttonEl.style.display =\n",
              "          google.colab.kernel.accessAllowed ? 'block' : 'none';\n",
              "\n",
              "        async function convertToInteractive(key) {\n",
              "          const element = document.querySelector('#df-12b86049-a18d-4765-8020-fb809e9b55ee');\n",
              "          const dataTable =\n",
              "            await google.colab.kernel.invokeFunction('convertToInteractive',\n",
              "                                                     [key], {});\n",
              "          if (!dataTable) return;\n",
              "\n",
              "          const docLinkHtml = 'Like what you see? Visit the ' +\n",
              "            '<a target=\"_blank\" href=https://colab.research.google.com/notebooks/data_table.ipynb>data table notebook</a>'\n",
              "            + ' to learn more about interactive tables.';\n",
              "          element.innerHTML = '';\n",
              "          dataTable['output_type'] = 'display_data';\n",
              "          await google.colab.output.renderOutput(dataTable, element);\n",
              "          const docLink = document.createElement('div');\n",
              "          docLink.innerHTML = docLinkHtml;\n",
              "          element.appendChild(docLink);\n",
              "        }\n",
              "      </script>\n",
              "    </div>\n",
              "  </div>\n",
              "  "
            ]
          },
          "metadata": {},
          "execution_count": 22
        }
      ],
      "source": [
        "#df[df.category=='benign'].sample(10)\n",
        "df[df.prediction<0.01].sample(10)"
      ]
    },
    {
      "cell_type": "markdown",
      "source": [
        "Muestra de **dominios malignos**. Se toman los valores de predicción más cercanos a 1, los cuales son más representativos:"
      ],
      "metadata": {
        "id": "b9c7lFASzH_s"
      }
    },
    {
      "cell_type": "code",
      "execution_count": 23,
      "metadata": {
        "id": "yaAJgCdwSLfi",
        "colab": {
          "base_uri": "https://localhost:8080/",
          "height": 427
        },
        "outputId": "89394781-a65d-4727-81b5-f99fe3e324d9"
      },
      "outputs": [
        {
          "output_type": "execute_result",
          "data": {
            "text/plain": [
              "                                    domain  \\\n",
              "17063519  b2odsh18h2vgr66barnsfgmqpm44bltv   \n",
              "2893668   3mhqc3sts4sida5oq17pd39i3irb4qv2   \n",
              "4716814   6unl826nc492tb8900inelbse033cbtm   \n",
              "5677386   8j6jp7140ffre4e48t7km7rl2hvmnrcr   \n",
              "5764769   8v9s7ek18emt9f8vd8j4sc8ughr41e74   \n",
              "5257562   802g3iik1p1umnpg0mp0as01fuh8grm7   \n",
              "4063884   5e9iaqgndumv921oookcpk7n65bs6l03   \n",
              "2718555   3b3lte0sotbmb6755464ai3595mj2trj   \n",
              "404661    0kf6hqusl8okdvghko3t7ba5clk9549u   \n",
              "4019674   59td4b0qlguojd1g3c8837glhtoa1hu6   \n",
              "\n",
              "                                   full_domain category  prediction  \n",
              "17063519  b2odsh18h2vgr66barnsfgmqpm44bltv.com   malign    0.999998  \n",
              "2893668   3mhqc3sts4sida5oq17pd39i3irb4qv2.com   malign    1.000000  \n",
              "4716814   6unl826nc492tb8900inelbse033cbtm.com   malign    0.999987  \n",
              "5677386   8j6jp7140ffre4e48t7km7rl2hvmnrcr.com   malign    1.000000  \n",
              "5764769   8v9s7ek18emt9f8vd8j4sc8ughr41e74.com   malign    1.000000  \n",
              "5257562   802g3iik1p1umnpg0mp0as01fuh8grm7.com   malign    1.000000  \n",
              "4063884   5e9iaqgndumv921oookcpk7n65bs6l03.com   malign    1.000000  \n",
              "2718555   3b3lte0sotbmb6755464ai3595mj2trj.com   malign    1.000000  \n",
              "404661    0kf6hqusl8okdvghko3t7ba5clk9549u.com   malign    1.000000  \n",
              "4019674   59td4b0qlguojd1g3c8837glhtoa1hu6.com   malign    1.000000  "
            ],
            "text/html": [
              "\n",
              "  <div id=\"df-1a3d042b-cf4e-49f7-b8a2-5b4442045916\">\n",
              "    <div class=\"colab-df-container\">\n",
              "      <div>\n",
              "<style scoped>\n",
              "    .dataframe tbody tr th:only-of-type {\n",
              "        vertical-align: middle;\n",
              "    }\n",
              "\n",
              "    .dataframe tbody tr th {\n",
              "        vertical-align: top;\n",
              "    }\n",
              "\n",
              "    .dataframe thead th {\n",
              "        text-align: right;\n",
              "    }\n",
              "</style>\n",
              "<table border=\"1\" class=\"dataframe\">\n",
              "  <thead>\n",
              "    <tr style=\"text-align: right;\">\n",
              "      <th></th>\n",
              "      <th>domain</th>\n",
              "      <th>full_domain</th>\n",
              "      <th>category</th>\n",
              "      <th>prediction</th>\n",
              "    </tr>\n",
              "  </thead>\n",
              "  <tbody>\n",
              "    <tr>\n",
              "      <th>17063519</th>\n",
              "      <td>b2odsh18h2vgr66barnsfgmqpm44bltv</td>\n",
              "      <td>b2odsh18h2vgr66barnsfgmqpm44bltv.com</td>\n",
              "      <td>malign</td>\n",
              "      <td>0.999998</td>\n",
              "    </tr>\n",
              "    <tr>\n",
              "      <th>2893668</th>\n",
              "      <td>3mhqc3sts4sida5oq17pd39i3irb4qv2</td>\n",
              "      <td>3mhqc3sts4sida5oq17pd39i3irb4qv2.com</td>\n",
              "      <td>malign</td>\n",
              "      <td>1.000000</td>\n",
              "    </tr>\n",
              "    <tr>\n",
              "      <th>4716814</th>\n",
              "      <td>6unl826nc492tb8900inelbse033cbtm</td>\n",
              "      <td>6unl826nc492tb8900inelbse033cbtm.com</td>\n",
              "      <td>malign</td>\n",
              "      <td>0.999987</td>\n",
              "    </tr>\n",
              "    <tr>\n",
              "      <th>5677386</th>\n",
              "      <td>8j6jp7140ffre4e48t7km7rl2hvmnrcr</td>\n",
              "      <td>8j6jp7140ffre4e48t7km7rl2hvmnrcr.com</td>\n",
              "      <td>malign</td>\n",
              "      <td>1.000000</td>\n",
              "    </tr>\n",
              "    <tr>\n",
              "      <th>5764769</th>\n",
              "      <td>8v9s7ek18emt9f8vd8j4sc8ughr41e74</td>\n",
              "      <td>8v9s7ek18emt9f8vd8j4sc8ughr41e74.com</td>\n",
              "      <td>malign</td>\n",
              "      <td>1.000000</td>\n",
              "    </tr>\n",
              "    <tr>\n",
              "      <th>5257562</th>\n",
              "      <td>802g3iik1p1umnpg0mp0as01fuh8grm7</td>\n",
              "      <td>802g3iik1p1umnpg0mp0as01fuh8grm7.com</td>\n",
              "      <td>malign</td>\n",
              "      <td>1.000000</td>\n",
              "    </tr>\n",
              "    <tr>\n",
              "      <th>4063884</th>\n",
              "      <td>5e9iaqgndumv921oookcpk7n65bs6l03</td>\n",
              "      <td>5e9iaqgndumv921oookcpk7n65bs6l03.com</td>\n",
              "      <td>malign</td>\n",
              "      <td>1.000000</td>\n",
              "    </tr>\n",
              "    <tr>\n",
              "      <th>2718555</th>\n",
              "      <td>3b3lte0sotbmb6755464ai3595mj2trj</td>\n",
              "      <td>3b3lte0sotbmb6755464ai3595mj2trj.com</td>\n",
              "      <td>malign</td>\n",
              "      <td>1.000000</td>\n",
              "    </tr>\n",
              "    <tr>\n",
              "      <th>404661</th>\n",
              "      <td>0kf6hqusl8okdvghko3t7ba5clk9549u</td>\n",
              "      <td>0kf6hqusl8okdvghko3t7ba5clk9549u.com</td>\n",
              "      <td>malign</td>\n",
              "      <td>1.000000</td>\n",
              "    </tr>\n",
              "    <tr>\n",
              "      <th>4019674</th>\n",
              "      <td>59td4b0qlguojd1g3c8837glhtoa1hu6</td>\n",
              "      <td>59td4b0qlguojd1g3c8837glhtoa1hu6.com</td>\n",
              "      <td>malign</td>\n",
              "      <td>1.000000</td>\n",
              "    </tr>\n",
              "  </tbody>\n",
              "</table>\n",
              "</div>\n",
              "      <button class=\"colab-df-convert\" onclick=\"convertToInteractive('df-1a3d042b-cf4e-49f7-b8a2-5b4442045916')\"\n",
              "              title=\"Convert this dataframe to an interactive table.\"\n",
              "              style=\"display:none;\">\n",
              "        \n",
              "  <svg xmlns=\"http://www.w3.org/2000/svg\" height=\"24px\"viewBox=\"0 0 24 24\"\n",
              "       width=\"24px\">\n",
              "    <path d=\"M0 0h24v24H0V0z\" fill=\"none\"/>\n",
              "    <path d=\"M18.56 5.44l.94 2.06.94-2.06 2.06-.94-2.06-.94-.94-2.06-.94 2.06-2.06.94zm-11 1L8.5 8.5l.94-2.06 2.06-.94-2.06-.94L8.5 2.5l-.94 2.06-2.06.94zm10 10l.94 2.06.94-2.06 2.06-.94-2.06-.94-.94-2.06-.94 2.06-2.06.94z\"/><path d=\"M17.41 7.96l-1.37-1.37c-.4-.4-.92-.59-1.43-.59-.52 0-1.04.2-1.43.59L10.3 9.45l-7.72 7.72c-.78.78-.78 2.05 0 2.83L4 21.41c.39.39.9.59 1.41.59.51 0 1.02-.2 1.41-.59l7.78-7.78 2.81-2.81c.8-.78.8-2.07 0-2.86zM5.41 20L4 18.59l7.72-7.72 1.47 1.35L5.41 20z\"/>\n",
              "  </svg>\n",
              "      </button>\n",
              "      \n",
              "  <style>\n",
              "    .colab-df-container {\n",
              "      display:flex;\n",
              "      flex-wrap:wrap;\n",
              "      gap: 12px;\n",
              "    }\n",
              "\n",
              "    .colab-df-convert {\n",
              "      background-color: #E8F0FE;\n",
              "      border: none;\n",
              "      border-radius: 50%;\n",
              "      cursor: pointer;\n",
              "      display: none;\n",
              "      fill: #1967D2;\n",
              "      height: 32px;\n",
              "      padding: 0 0 0 0;\n",
              "      width: 32px;\n",
              "    }\n",
              "\n",
              "    .colab-df-convert:hover {\n",
              "      background-color: #E2EBFA;\n",
              "      box-shadow: 0px 1px 2px rgba(60, 64, 67, 0.3), 0px 1px 3px 1px rgba(60, 64, 67, 0.15);\n",
              "      fill: #174EA6;\n",
              "    }\n",
              "\n",
              "    [theme=dark] .colab-df-convert {\n",
              "      background-color: #3B4455;\n",
              "      fill: #D2E3FC;\n",
              "    }\n",
              "\n",
              "    [theme=dark] .colab-df-convert:hover {\n",
              "      background-color: #434B5C;\n",
              "      box-shadow: 0px 1px 3px 1px rgba(0, 0, 0, 0.15);\n",
              "      filter: drop-shadow(0px 1px 2px rgba(0, 0, 0, 0.3));\n",
              "      fill: #FFFFFF;\n",
              "    }\n",
              "  </style>\n",
              "\n",
              "      <script>\n",
              "        const buttonEl =\n",
              "          document.querySelector('#df-1a3d042b-cf4e-49f7-b8a2-5b4442045916 button.colab-df-convert');\n",
              "        buttonEl.style.display =\n",
              "          google.colab.kernel.accessAllowed ? 'block' : 'none';\n",
              "\n",
              "        async function convertToInteractive(key) {\n",
              "          const element = document.querySelector('#df-1a3d042b-cf4e-49f7-b8a2-5b4442045916');\n",
              "          const dataTable =\n",
              "            await google.colab.kernel.invokeFunction('convertToInteractive',\n",
              "                                                     [key], {});\n",
              "          if (!dataTable) return;\n",
              "\n",
              "          const docLinkHtml = 'Like what you see? Visit the ' +\n",
              "            '<a target=\"_blank\" href=https://colab.research.google.com/notebooks/data_table.ipynb>data table notebook</a>'\n",
              "            + ' to learn more about interactive tables.';\n",
              "          element.innerHTML = '';\n",
              "          dataTable['output_type'] = 'display_data';\n",
              "          await google.colab.output.renderOutput(dataTable, element);\n",
              "          const docLink = document.createElement('div');\n",
              "          docLink.innerHTML = docLinkHtml;\n",
              "          element.appendChild(docLink);\n",
              "        }\n",
              "      </script>\n",
              "    </div>\n",
              "  </div>\n",
              "  "
            ]
          },
          "metadata": {},
          "execution_count": 23
        }
      ],
      "source": [
        "#df[df.category=='malign'].sample(10)\n",
        "df[df.prediction>0.95].sample(10)"
      ]
    },
    {
      "cell_type": "markdown",
      "source": [
        "Los dominios malignos, aparentemente, tienen apariencia de DGA.\n",
        "\n",
        "Veamos a continuación cuantos de los dominios se consideran benignos y cuantos malignos:"
      ],
      "metadata": {
        "id": "pmW5VhTpzRLk"
      }
    },
    {
      "cell_type": "code",
      "execution_count": 24,
      "metadata": {
        "id": "Gae6aWEiW08t",
        "colab": {
          "base_uri": "https://localhost:8080/"
        },
        "outputId": "0c42f9c7-54e3-4fa2-febe-4709a54f2ca6"
      },
      "outputs": [
        {
          "output_type": "execute_result",
          "data": {
            "text/plain": [
              "benign    43277\n",
              "malign     6723\n",
              "Name: category, dtype: int64"
            ]
          },
          "metadata": {},
          "execution_count": 24
        }
      ],
      "source": [
        "df['category'].value_counts(ascending=False)"
      ]
    }
  ],
  "metadata": {
    "accelerator": "GPU",
    "colab": {
      "provenance": [],
      "mount_file_id": "1vqpvTf6Af0q45ypbdPdwc--jNNnP_5OO",
      "authorship_tag": "ABX9TyNLxrZyZWRsbKo5BogaFZy6",
      "include_colab_link": true
    },
    "gpuClass": "standard",
    "kernelspec": {
      "display_name": "Python 3",
      "name": "python3"
    },
    "language_info": {
      "name": "python"
    }
  },
  "nbformat": 4,
  "nbformat_minor": 0
}