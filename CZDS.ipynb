{
  "cells": [
    {
      "cell_type": "markdown",
      "metadata": {
        "id": "view-in-github",
        "colab_type": "text"
      },
      "source": [
        "<a href=\"https://colab.research.google.com/github/pbenito1/TFM/blob/main/CZDS.ipynb\" target=\"_parent\"><img src=\"https://colab.research.google.com/assets/colab-badge.svg\" alt=\"Open In Colab\"/></a>"
      ]
    },
    {
      "cell_type": "markdown",
      "metadata": {
        "id": "-q2sFierhzng"
      },
      "source": [
        "# Predicción contra dominios `.COM` del servicio CZDS\n",
        "\n",
        "El servicio CZDS de [ICANN](https://czds.icann.org/home) proporciona el listado de los dominios de una gran parte de los dominios TLD disponibles.\n",
        "\n",
        "Entre ellos, se encuentra el TLD más popular, el \"_.com_\" que cuenta en la actualidad con casi 160 millones de dominios, y del que se crean diariamente [más de 100.000 dominios](https://dnpedia.com/tlds/daily.php).\n",
        "\n",
        "En este experimento vamos a realizar la predicción de bondad del listado de dominios .com de acuerdo a los modelos entrenados en las fases anteriores del TFM.\n",
        "\n",
        "## Pretratamiento de dominios `.com``\n",
        "\n",
        "El listado de dominios `.com` proporcionado por ICANN se proporciona en forma de un archivo denominado `com.txt.gz` que contiene un único archivo `com.txt` con el siguiente contenido:\n",
        "\n",
        "```\n",
        "com.    900     in      soa     a.gtld-servers.net.     nstld.verisign-grs.com. 1664841622      1800    900     604800  86400\n",
        "0-------------------------------------------------------------0.com.    172800  in      ns      ns1.domainit.com.\n",
        "0-------------------------------------------------------------0.com.    172800  in      ns      ns2.domainit.com.\n",
        "0-------------------------------------------------------------5.com.    172800  in      ns      fns.frogsmart.net.\n",
        "0-------------------------------------------------------------5.com.    172800  in      ns      sns.frogsmart.net.\n",
        "0-------------------------------------------------------------5.com.    172800  in      ns      tns.frogsmart.net.\n",
        "0---------------------0.com.    172800  in      ns      ns0.directnic.com.\n",
        "0---------------------0.com.    172800  in      ns      ns1.directnic.com.\n",
        "```\n",
        "\n",
        "En el mismo se puede observar que contiene no únicamente los dominios registrados, sino los servidores de nombre asociados. Realmente de esa información, en nuestro caso, únicamente nos interesa el nombre de dominio. Por este motivo es necesario realizar un pretratamiento para filtrar, exclusivamente, los dominios `.com` únicos.\n",
        "\n",
        "Este tratamiento lo realizamos mediante los siguientes comandos en `bash` de Linux:\n",
        "\n",
        "Descomprimimos el archivo, nos quedamos con la primera columna y deduplicamos los dominios utilizando el comando `uniq`:\n",
        "```\n",
        "$ gunzip -c com.txt.gz|cut -f1|uniq|more>com_domains.txt\n",
        "```\n",
        "\n",
        "Eliminamos los dominios `unicode`, comienzan por `xn--`:\n",
        "```\n",
        "$ grep -v '^xn--' com_domains.txt >com_domains_uniq_noxnn.txt\n",
        "```\n",
        "\n",
        "Extraemos el SLD:\n",
        "```\n",
        "$ cat com_domains_uniq_noxnn.txt | rev | cut -d'.' -f3 | rev >com_domains_tld.txt\n",
        "```\n",
        "\n",
        "Calculamos el número de dominios:\n",
        "```\n",
        "$ wc -l com_domains_tld.txt\n",
        "165107972 com_domains_tld.txt\n",
        "```\n",
        "\n",
        "Hay más de 165 millones de dominios `.com`\n",
        "\n",
        "\n",
        "A continuación cargaremos el modelo CNN previamente entrenado en el _notebook_ de [Redes neuronales](RedesNeuronales.ipynb), y realizaremos las predicciones de parte de los dominios `.com`. Dado que existen limitaciones de memoria en el servicio Google Colab, se realizarán las predicciones únicamente sobre 10 millones de registros de CZDS.\n"
      ]
    },
    {
      "cell_type": "code",
      "execution_count": 1,
      "metadata": {
        "id": "Pdm6k2djlyLh"
      },
      "outputs": [],
      "source": [
        "# imports\n",
        "import os\n",
        "import tensorflow as tf\n",
        "import pickle\n",
        "import numpy as np\n",
        "import pandas as pd\n",
        "import seaborn as sns\n",
        "import matplotlib.pyplot as plt\n"
      ]
    },
    {
      "cell_type": "code",
      "execution_count": 2,
      "metadata": {
        "id": "oKUG-cboexl4"
      },
      "outputs": [],
      "source": [
        "# Cargamos el modelo CNN\n",
        "GDRIVE_PATH='/content/drive/MyDrive/TFM'\n",
        "CHECKPOINTS_PATH=os.path.join(GDRIVE_PATH, 'checkpoints')"
      ]
    },
    {
      "cell_type": "markdown",
      "source": [
        "Cargamos el modelo entrenado previamente"
      ],
      "metadata": {
        "id": "H7xPCFuvxgp_"
      }
    },
    {
      "cell_type": "code",
      "execution_count": 3,
      "metadata": {
        "id": "vDurRhv2BbgQ"
      },
      "outputs": [],
      "source": [
        "model = tf.keras.models.load_model(os.path.join(GDRIVE_PATH,'CONV1D'))"
      ]
    },
    {
      "cell_type": "markdown",
      "source": [
        "Cargamos el mapeo de caracteres previamente serializado"
      ],
      "metadata": {
        "id": "_mae9JGMxW9M"
      }
    },
    {
      "cell_type": "code",
      "execution_count": 4,
      "metadata": {
        "id": "9jfj8gftlz0h"
      },
      "outputs": [],
      "source": [
        "with open(os.path.join(GDRIVE_PATH, 'valid_chars.pickle'), 'rb') as h:\n",
        "  valid_chars=pickle.load(h)"
      ]
    },
    {
      "cell_type": "markdown",
      "source": [
        "Cargamos el archivo preprocesado con los dominios `.com` de CZDS. \n",
        "\n",
        "Por limitaciones de memoria únicamente cargamos 20 millones de elementos. De ellos tomamos una muestra de 100.000 elementos"
      ],
      "metadata": {
        "id": "gFKrAxkYxjE9"
      }
    },
    {
      "cell_type": "code",
      "execution_count": 5,
      "metadata": {
        "id": "DIox5a5WHcmX"
      },
      "outputs": [],
      "source": [
        "df = pd.read_csv(os.path.join(GDRIVE_PATH,'CZDS/com_domains_tld.txt'),header=None,names=['domain'],nrows=20000000)\n",
        "df=df.sample(100000)"
      ]
    },
    {
      "cell_type": "markdown",
      "source": [
        "Añadimos el TLD `.com`. La red neuronal toma como parámetro el dominio completo, incluyendo TLD."
      ],
      "metadata": {
        "id": "7a758b_WyCVp"
      }
    },
    {
      "cell_type": "code",
      "execution_count": 6,
      "metadata": {
        "id": "RyASDRZDUAct"
      },
      "outputs": [],
      "source": [
        "df['full_domain'] = df['domain'].apply(lambda d:d+'.com')"
      ]
    },
    {
      "cell_type": "code",
      "execution_count": 7,
      "metadata": {
        "id": "ythCLR1QJyBL"
      },
      "outputs": [],
      "source": [
        "X = np.array(df['full_domain'])"
      ]
    },
    {
      "cell_type": "markdown",
      "source": [
        "Mapeamos los caracteres a su código numérico asociado"
      ],
      "metadata": {
        "id": "gzgaHqFKyOhb"
      }
    },
    {
      "cell_type": "code",
      "execution_count": 8,
      "metadata": {
        "id": "y1gd0liSEsB6"
      },
      "outputs": [],
      "source": [
        "X = [[valid_chars[y] for y in x] for x in X]"
      ]
    },
    {
      "cell_type": "markdown",
      "source": [
        "Añadimos _padding_ hasta la máxima longitud del dominio (67)"
      ],
      "metadata": {
        "id": "sHHyaMCRyY1r"
      }
    },
    {
      "cell_type": "code",
      "execution_count": 9,
      "metadata": {
        "id": "6oF1IfA_HpSl"
      },
      "outputs": [],
      "source": [
        "X = tf.keras.preprocessing.sequence.pad_sequences(X, maxlen=67)"
      ]
    },
    {
      "cell_type": "code",
      "execution_count": 10,
      "metadata": {
        "colab": {
          "base_uri": "https://localhost:8080/"
        },
        "id": "-dKjC7SNHqha",
        "outputId": "6ef152b4-a04b-4131-8b59-29e631e76608"
      },
      "outputs": [
        {
          "output_type": "stream",
          "name": "stdout",
          "text": [
            "3125/3125 [==============================] - 12s 2ms/step\n"
          ]
        }
      ],
      "source": [
        "p=model.predict(X)"
      ]
    },
    {
      "cell_type": "markdown",
      "source": [
        "Las predicciones menores de 0.5 se consideran benignas y las mayores, malignas."
      ],
      "metadata": {
        "id": "eSvHOfWCyn5n"
      }
    },
    {
      "cell_type": "code",
      "execution_count": 11,
      "metadata": {
        "id": "7n6eC3blH0Jg"
      },
      "outputs": [],
      "source": [
        "Y = np.array(['benign' if x <0.5 else 'malign' for x in p])"
      ]
    },
    {
      "cell_type": "markdown",
      "source": [
        "Añadimos los resultados al _dataframe_ original"
      ],
      "metadata": {
        "id": "ky35lN3wyzj7"
      }
    },
    {
      "cell_type": "code",
      "execution_count": 12,
      "metadata": {
        "id": "KGcJxorDWJtS"
      },
      "outputs": [],
      "source": [
        "np.concatenate( p, axis=0 )\n",
        "df['category'] = Y.tolist()\n",
        "df['prediction'] = np.concatenate( p, axis=0 )"
      ]
    },
    {
      "cell_type": "markdown",
      "source": [
        "Muestra de **dominios benignos**. Se toman los valores de predicción más cercanos a 0, los cuales son más representativos:"
      ],
      "metadata": {
        "id": "qTeYVAPjy6LZ"
      }
    },
    {
      "cell_type": "code",
      "execution_count": 13,
      "metadata": {
        "id": "Ke7B-H4IR8ry",
        "colab": {
          "base_uri": "https://localhost:8080/",
          "height": 363
        },
        "outputId": "c65ea655-1738-4e0a-cad4-eb71acfe0f14"
      },
      "outputs": [
        {
          "output_type": "execute_result",
          "data": {
            "text/plain": [
              "                     domain            full_domain category    prediction\n",
              "776017    123pagina-server1  123pagina-server1.com   benign  1.096749e-07\n",
              "11656144          ametazone          ametazone.com   benign  2.952193e-03\n",
              "14763721         ascenttial         ascenttial.com   benign  6.498698e-03\n",
              "1846362           24pay7158          24pay7158.com   benign  5.663818e-04\n",
              "11041270          alterarte          alterarte.com   benign  7.485280e-03\n",
              "16295513   autoshanghaifair   autoshanghaifair.com   benign  5.539132e-04\n",
              "1101140              17xia8             17xia8.com   benign  2.230055e-03\n",
              "11983437      analog-switch      analog-switch.com   benign  2.827720e-04\n",
              "13139811      apartmani-mim      apartmani-mim.com   benign  4.919773e-06\n",
              "10808162    alna-bioscience    alna-bioscience.com   benign  3.077610e-05"
            ],
            "text/html": [
              "\n",
              "  <div id=\"df-a27710f6-8544-41c0-ba8a-defd9e85eb75\">\n",
              "    <div class=\"colab-df-container\">\n",
              "      <div>\n",
              "<style scoped>\n",
              "    .dataframe tbody tr th:only-of-type {\n",
              "        vertical-align: middle;\n",
              "    }\n",
              "\n",
              "    .dataframe tbody tr th {\n",
              "        vertical-align: top;\n",
              "    }\n",
              "\n",
              "    .dataframe thead th {\n",
              "        text-align: right;\n",
              "    }\n",
              "</style>\n",
              "<table border=\"1\" class=\"dataframe\">\n",
              "  <thead>\n",
              "    <tr style=\"text-align: right;\">\n",
              "      <th></th>\n",
              "      <th>domain</th>\n",
              "      <th>full_domain</th>\n",
              "      <th>category</th>\n",
              "      <th>prediction</th>\n",
              "    </tr>\n",
              "  </thead>\n",
              "  <tbody>\n",
              "    <tr>\n",
              "      <th>776017</th>\n",
              "      <td>123pagina-server1</td>\n",
              "      <td>123pagina-server1.com</td>\n",
              "      <td>benign</td>\n",
              "      <td>1.096749e-07</td>\n",
              "    </tr>\n",
              "    <tr>\n",
              "      <th>11656144</th>\n",
              "      <td>ametazone</td>\n",
              "      <td>ametazone.com</td>\n",
              "      <td>benign</td>\n",
              "      <td>2.952193e-03</td>\n",
              "    </tr>\n",
              "    <tr>\n",
              "      <th>14763721</th>\n",
              "      <td>ascenttial</td>\n",
              "      <td>ascenttial.com</td>\n",
              "      <td>benign</td>\n",
              "      <td>6.498698e-03</td>\n",
              "    </tr>\n",
              "    <tr>\n",
              "      <th>1846362</th>\n",
              "      <td>24pay7158</td>\n",
              "      <td>24pay7158.com</td>\n",
              "      <td>benign</td>\n",
              "      <td>5.663818e-04</td>\n",
              "    </tr>\n",
              "    <tr>\n",
              "      <th>11041270</th>\n",
              "      <td>alterarte</td>\n",
              "      <td>alterarte.com</td>\n",
              "      <td>benign</td>\n",
              "      <td>7.485280e-03</td>\n",
              "    </tr>\n",
              "    <tr>\n",
              "      <th>16295513</th>\n",
              "      <td>autoshanghaifair</td>\n",
              "      <td>autoshanghaifair.com</td>\n",
              "      <td>benign</td>\n",
              "      <td>5.539132e-04</td>\n",
              "    </tr>\n",
              "    <tr>\n",
              "      <th>1101140</th>\n",
              "      <td>17xia8</td>\n",
              "      <td>17xia8.com</td>\n",
              "      <td>benign</td>\n",
              "      <td>2.230055e-03</td>\n",
              "    </tr>\n",
              "    <tr>\n",
              "      <th>11983437</th>\n",
              "      <td>analog-switch</td>\n",
              "      <td>analog-switch.com</td>\n",
              "      <td>benign</td>\n",
              "      <td>2.827720e-04</td>\n",
              "    </tr>\n",
              "    <tr>\n",
              "      <th>13139811</th>\n",
              "      <td>apartmani-mim</td>\n",
              "      <td>apartmani-mim.com</td>\n",
              "      <td>benign</td>\n",
              "      <td>4.919773e-06</td>\n",
              "    </tr>\n",
              "    <tr>\n",
              "      <th>10808162</th>\n",
              "      <td>alna-bioscience</td>\n",
              "      <td>alna-bioscience.com</td>\n",
              "      <td>benign</td>\n",
              "      <td>3.077610e-05</td>\n",
              "    </tr>\n",
              "  </tbody>\n",
              "</table>\n",
              "</div>\n",
              "      <button class=\"colab-df-convert\" onclick=\"convertToInteractive('df-a27710f6-8544-41c0-ba8a-defd9e85eb75')\"\n",
              "              title=\"Convert this dataframe to an interactive table.\"\n",
              "              style=\"display:none;\">\n",
              "        \n",
              "  <svg xmlns=\"http://www.w3.org/2000/svg\" height=\"24px\"viewBox=\"0 0 24 24\"\n",
              "       width=\"24px\">\n",
              "    <path d=\"M0 0h24v24H0V0z\" fill=\"none\"/>\n",
              "    <path d=\"M18.56 5.44l.94 2.06.94-2.06 2.06-.94-2.06-.94-.94-2.06-.94 2.06-2.06.94zm-11 1L8.5 8.5l.94-2.06 2.06-.94-2.06-.94L8.5 2.5l-.94 2.06-2.06.94zm10 10l.94 2.06.94-2.06 2.06-.94-2.06-.94-.94-2.06-.94 2.06-2.06.94z\"/><path d=\"M17.41 7.96l-1.37-1.37c-.4-.4-.92-.59-1.43-.59-.52 0-1.04.2-1.43.59L10.3 9.45l-7.72 7.72c-.78.78-.78 2.05 0 2.83L4 21.41c.39.39.9.59 1.41.59.51 0 1.02-.2 1.41-.59l7.78-7.78 2.81-2.81c.8-.78.8-2.07 0-2.86zM5.41 20L4 18.59l7.72-7.72 1.47 1.35L5.41 20z\"/>\n",
              "  </svg>\n",
              "      </button>\n",
              "      \n",
              "  <style>\n",
              "    .colab-df-container {\n",
              "      display:flex;\n",
              "      flex-wrap:wrap;\n",
              "      gap: 12px;\n",
              "    }\n",
              "\n",
              "    .colab-df-convert {\n",
              "      background-color: #E8F0FE;\n",
              "      border: none;\n",
              "      border-radius: 50%;\n",
              "      cursor: pointer;\n",
              "      display: none;\n",
              "      fill: #1967D2;\n",
              "      height: 32px;\n",
              "      padding: 0 0 0 0;\n",
              "      width: 32px;\n",
              "    }\n",
              "\n",
              "    .colab-df-convert:hover {\n",
              "      background-color: #E2EBFA;\n",
              "      box-shadow: 0px 1px 2px rgba(60, 64, 67, 0.3), 0px 1px 3px 1px rgba(60, 64, 67, 0.15);\n",
              "      fill: #174EA6;\n",
              "    }\n",
              "\n",
              "    [theme=dark] .colab-df-convert {\n",
              "      background-color: #3B4455;\n",
              "      fill: #D2E3FC;\n",
              "    }\n",
              "\n",
              "    [theme=dark] .colab-df-convert:hover {\n",
              "      background-color: #434B5C;\n",
              "      box-shadow: 0px 1px 3px 1px rgba(0, 0, 0, 0.15);\n",
              "      filter: drop-shadow(0px 1px 2px rgba(0, 0, 0, 0.3));\n",
              "      fill: #FFFFFF;\n",
              "    }\n",
              "  </style>\n",
              "\n",
              "      <script>\n",
              "        const buttonEl =\n",
              "          document.querySelector('#df-a27710f6-8544-41c0-ba8a-defd9e85eb75 button.colab-df-convert');\n",
              "        buttonEl.style.display =\n",
              "          google.colab.kernel.accessAllowed ? 'block' : 'none';\n",
              "\n",
              "        async function convertToInteractive(key) {\n",
              "          const element = document.querySelector('#df-a27710f6-8544-41c0-ba8a-defd9e85eb75');\n",
              "          const dataTable =\n",
              "            await google.colab.kernel.invokeFunction('convertToInteractive',\n",
              "                                                     [key], {});\n",
              "          if (!dataTable) return;\n",
              "\n",
              "          const docLinkHtml = 'Like what you see? Visit the ' +\n",
              "            '<a target=\"_blank\" href=https://colab.research.google.com/notebooks/data_table.ipynb>data table notebook</a>'\n",
              "            + ' to learn more about interactive tables.';\n",
              "          element.innerHTML = '';\n",
              "          dataTable['output_type'] = 'display_data';\n",
              "          await google.colab.output.renderOutput(dataTable, element);\n",
              "          const docLink = document.createElement('div');\n",
              "          docLink.innerHTML = docLinkHtml;\n",
              "          element.appendChild(docLink);\n",
              "        }\n",
              "      </script>\n",
              "    </div>\n",
              "  </div>\n",
              "  "
            ]
          },
          "metadata": {},
          "execution_count": 13
        }
      ],
      "source": [
        "#df[df.category=='benign'].sample(10)\n",
        "df[df.prediction<0.01].sample(10)"
      ]
    },
    {
      "cell_type": "markdown",
      "source": [
        "Muestra de **dominios malignos**. Se toman los valores de predicción más cercanos a 1, los cuales son más representativos:"
      ],
      "metadata": {
        "id": "b9c7lFASzH_s"
      }
    },
    {
      "cell_type": "code",
      "execution_count": 14,
      "metadata": {
        "id": "yaAJgCdwSLfi",
        "colab": {
          "base_uri": "https://localhost:8080/",
          "height": 427
        },
        "outputId": "97ea8155-5acf-4a73-f73a-eed0bc34330c"
      },
      "outputs": [
        {
          "output_type": "execute_result",
          "data": {
            "text/plain": [
              "                                    domain  \\\n",
              "4647993   6l23iuodf181d98iu59ahttg1c371dln   \n",
              "3827183   54blifec8q8kbqbjcbbphnr5gvl2uvug   \n",
              "4367716   643raju36jdutug26j0j28ofgdfb43k4   \n",
              "5698257   8m28lhrifahj88ach85rdjth9e64g2q2   \n",
              "17646027                    balazsbezeczky   \n",
              "2240176   2ult53jkjm12lc2eg0miu7j0ihbog5dc   \n",
              "381203    0gl78iqnrj02rr97ik1o7a985a99m0ns   \n",
              "1770121   23ec1vdeg25lhpt7u7t2boumcag2qcal   \n",
              "2871944   3kia9052nloe24ldr2jvs82g5iuv0ca5   \n",
              "413698    0lt7m4nsu88lsd53871o209q2s3fj41r   \n",
              "\n",
              "                                   full_domain category  prediction  \n",
              "4647993   6l23iuodf181d98iu59ahttg1c371dln.com   malign    1.000000  \n",
              "3827183   54blifec8q8kbqbjcbbphnr5gvl2uvug.com   malign    1.000000  \n",
              "4367716   643raju36jdutug26j0j28ofgdfb43k4.com   malign    0.999999  \n",
              "5698257   8m28lhrifahj88ach85rdjth9e64g2q2.com   malign    1.000000  \n",
              "17646027                    balazsbezeczky.com   malign    0.969893  \n",
              "2240176   2ult53jkjm12lc2eg0miu7j0ihbog5dc.com   malign    1.000000  \n",
              "381203    0gl78iqnrj02rr97ik1o7a985a99m0ns.com   malign    1.000000  \n",
              "1770121   23ec1vdeg25lhpt7u7t2boumcag2qcal.com   malign    1.000000  \n",
              "2871944   3kia9052nloe24ldr2jvs82g5iuv0ca5.com   malign    1.000000  \n",
              "413698    0lt7m4nsu88lsd53871o209q2s3fj41r.com   malign    1.000000  "
            ],
            "text/html": [
              "\n",
              "  <div id=\"df-3973a9cd-7b04-4102-811d-d7953e42b586\">\n",
              "    <div class=\"colab-df-container\">\n",
              "      <div>\n",
              "<style scoped>\n",
              "    .dataframe tbody tr th:only-of-type {\n",
              "        vertical-align: middle;\n",
              "    }\n",
              "\n",
              "    .dataframe tbody tr th {\n",
              "        vertical-align: top;\n",
              "    }\n",
              "\n",
              "    .dataframe thead th {\n",
              "        text-align: right;\n",
              "    }\n",
              "</style>\n",
              "<table border=\"1\" class=\"dataframe\">\n",
              "  <thead>\n",
              "    <tr style=\"text-align: right;\">\n",
              "      <th></th>\n",
              "      <th>domain</th>\n",
              "      <th>full_domain</th>\n",
              "      <th>category</th>\n",
              "      <th>prediction</th>\n",
              "    </tr>\n",
              "  </thead>\n",
              "  <tbody>\n",
              "    <tr>\n",
              "      <th>4647993</th>\n",
              "      <td>6l23iuodf181d98iu59ahttg1c371dln</td>\n",
              "      <td>6l23iuodf181d98iu59ahttg1c371dln.com</td>\n",
              "      <td>malign</td>\n",
              "      <td>1.000000</td>\n",
              "    </tr>\n",
              "    <tr>\n",
              "      <th>3827183</th>\n",
              "      <td>54blifec8q8kbqbjcbbphnr5gvl2uvug</td>\n",
              "      <td>54blifec8q8kbqbjcbbphnr5gvl2uvug.com</td>\n",
              "      <td>malign</td>\n",
              "      <td>1.000000</td>\n",
              "    </tr>\n",
              "    <tr>\n",
              "      <th>4367716</th>\n",
              "      <td>643raju36jdutug26j0j28ofgdfb43k4</td>\n",
              "      <td>643raju36jdutug26j0j28ofgdfb43k4.com</td>\n",
              "      <td>malign</td>\n",
              "      <td>0.999999</td>\n",
              "    </tr>\n",
              "    <tr>\n",
              "      <th>5698257</th>\n",
              "      <td>8m28lhrifahj88ach85rdjth9e64g2q2</td>\n",
              "      <td>8m28lhrifahj88ach85rdjth9e64g2q2.com</td>\n",
              "      <td>malign</td>\n",
              "      <td>1.000000</td>\n",
              "    </tr>\n",
              "    <tr>\n",
              "      <th>17646027</th>\n",
              "      <td>balazsbezeczky</td>\n",
              "      <td>balazsbezeczky.com</td>\n",
              "      <td>malign</td>\n",
              "      <td>0.969893</td>\n",
              "    </tr>\n",
              "    <tr>\n",
              "      <th>2240176</th>\n",
              "      <td>2ult53jkjm12lc2eg0miu7j0ihbog5dc</td>\n",
              "      <td>2ult53jkjm12lc2eg0miu7j0ihbog5dc.com</td>\n",
              "      <td>malign</td>\n",
              "      <td>1.000000</td>\n",
              "    </tr>\n",
              "    <tr>\n",
              "      <th>381203</th>\n",
              "      <td>0gl78iqnrj02rr97ik1o7a985a99m0ns</td>\n",
              "      <td>0gl78iqnrj02rr97ik1o7a985a99m0ns.com</td>\n",
              "      <td>malign</td>\n",
              "      <td>1.000000</td>\n",
              "    </tr>\n",
              "    <tr>\n",
              "      <th>1770121</th>\n",
              "      <td>23ec1vdeg25lhpt7u7t2boumcag2qcal</td>\n",
              "      <td>23ec1vdeg25lhpt7u7t2boumcag2qcal.com</td>\n",
              "      <td>malign</td>\n",
              "      <td>1.000000</td>\n",
              "    </tr>\n",
              "    <tr>\n",
              "      <th>2871944</th>\n",
              "      <td>3kia9052nloe24ldr2jvs82g5iuv0ca5</td>\n",
              "      <td>3kia9052nloe24ldr2jvs82g5iuv0ca5.com</td>\n",
              "      <td>malign</td>\n",
              "      <td>1.000000</td>\n",
              "    </tr>\n",
              "    <tr>\n",
              "      <th>413698</th>\n",
              "      <td>0lt7m4nsu88lsd53871o209q2s3fj41r</td>\n",
              "      <td>0lt7m4nsu88lsd53871o209q2s3fj41r.com</td>\n",
              "      <td>malign</td>\n",
              "      <td>1.000000</td>\n",
              "    </tr>\n",
              "  </tbody>\n",
              "</table>\n",
              "</div>\n",
              "      <button class=\"colab-df-convert\" onclick=\"convertToInteractive('df-3973a9cd-7b04-4102-811d-d7953e42b586')\"\n",
              "              title=\"Convert this dataframe to an interactive table.\"\n",
              "              style=\"display:none;\">\n",
              "        \n",
              "  <svg xmlns=\"http://www.w3.org/2000/svg\" height=\"24px\"viewBox=\"0 0 24 24\"\n",
              "       width=\"24px\">\n",
              "    <path d=\"M0 0h24v24H0V0z\" fill=\"none\"/>\n",
              "    <path d=\"M18.56 5.44l.94 2.06.94-2.06 2.06-.94-2.06-.94-.94-2.06-.94 2.06-2.06.94zm-11 1L8.5 8.5l.94-2.06 2.06-.94-2.06-.94L8.5 2.5l-.94 2.06-2.06.94zm10 10l.94 2.06.94-2.06 2.06-.94-2.06-.94-.94-2.06-.94 2.06-2.06.94z\"/><path d=\"M17.41 7.96l-1.37-1.37c-.4-.4-.92-.59-1.43-.59-.52 0-1.04.2-1.43.59L10.3 9.45l-7.72 7.72c-.78.78-.78 2.05 0 2.83L4 21.41c.39.39.9.59 1.41.59.51 0 1.02-.2 1.41-.59l7.78-7.78 2.81-2.81c.8-.78.8-2.07 0-2.86zM5.41 20L4 18.59l7.72-7.72 1.47 1.35L5.41 20z\"/>\n",
              "  </svg>\n",
              "      </button>\n",
              "      \n",
              "  <style>\n",
              "    .colab-df-container {\n",
              "      display:flex;\n",
              "      flex-wrap:wrap;\n",
              "      gap: 12px;\n",
              "    }\n",
              "\n",
              "    .colab-df-convert {\n",
              "      background-color: #E8F0FE;\n",
              "      border: none;\n",
              "      border-radius: 50%;\n",
              "      cursor: pointer;\n",
              "      display: none;\n",
              "      fill: #1967D2;\n",
              "      height: 32px;\n",
              "      padding: 0 0 0 0;\n",
              "      width: 32px;\n",
              "    }\n",
              "\n",
              "    .colab-df-convert:hover {\n",
              "      background-color: #E2EBFA;\n",
              "      box-shadow: 0px 1px 2px rgba(60, 64, 67, 0.3), 0px 1px 3px 1px rgba(60, 64, 67, 0.15);\n",
              "      fill: #174EA6;\n",
              "    }\n",
              "\n",
              "    [theme=dark] .colab-df-convert {\n",
              "      background-color: #3B4455;\n",
              "      fill: #D2E3FC;\n",
              "    }\n",
              "\n",
              "    [theme=dark] .colab-df-convert:hover {\n",
              "      background-color: #434B5C;\n",
              "      box-shadow: 0px 1px 3px 1px rgba(0, 0, 0, 0.15);\n",
              "      filter: drop-shadow(0px 1px 2px rgba(0, 0, 0, 0.3));\n",
              "      fill: #FFFFFF;\n",
              "    }\n",
              "  </style>\n",
              "\n",
              "      <script>\n",
              "        const buttonEl =\n",
              "          document.querySelector('#df-3973a9cd-7b04-4102-811d-d7953e42b586 button.colab-df-convert');\n",
              "        buttonEl.style.display =\n",
              "          google.colab.kernel.accessAllowed ? 'block' : 'none';\n",
              "\n",
              "        async function convertToInteractive(key) {\n",
              "          const element = document.querySelector('#df-3973a9cd-7b04-4102-811d-d7953e42b586');\n",
              "          const dataTable =\n",
              "            await google.colab.kernel.invokeFunction('convertToInteractive',\n",
              "                                                     [key], {});\n",
              "          if (!dataTable) return;\n",
              "\n",
              "          const docLinkHtml = 'Like what you see? Visit the ' +\n",
              "            '<a target=\"_blank\" href=https://colab.research.google.com/notebooks/data_table.ipynb>data table notebook</a>'\n",
              "            + ' to learn more about interactive tables.';\n",
              "          element.innerHTML = '';\n",
              "          dataTable['output_type'] = 'display_data';\n",
              "          await google.colab.output.renderOutput(dataTable, element);\n",
              "          const docLink = document.createElement('div');\n",
              "          docLink.innerHTML = docLinkHtml;\n",
              "          element.appendChild(docLink);\n",
              "        }\n",
              "      </script>\n",
              "    </div>\n",
              "  </div>\n",
              "  "
            ]
          },
          "metadata": {},
          "execution_count": 14
        }
      ],
      "source": [
        "#df[df.category=='malign'].sample(10)\n",
        "df[df.prediction>0.95].sample(10)"
      ]
    },
    {
      "cell_type": "markdown",
      "source": [
        "Los dominios malignos, aparentemente, tienen apariencia de DGA.\n",
        "\n",
        "Veamos a continuación cuantos de los dominios se consideran benignos y cuantos malignos:"
      ],
      "metadata": {
        "id": "pmW5VhTpzRLk"
      }
    },
    {
      "cell_type": "code",
      "execution_count": 15,
      "metadata": {
        "id": "Gae6aWEiW08t",
        "colab": {
          "base_uri": "https://localhost:8080/",
          "height": 441
        },
        "outputId": "6c870a51-6435-442f-dfde-b9a93bebc1ff"
      },
      "outputs": [
        {
          "output_type": "display_data",
          "data": {
            "text/plain": [
              "<Figure size 504x432 with 1 Axes>"
            ],
            "image/png": "[encoded data removed]"
          },
          "metadata": {}
        }
      ],
      "source": [
        "#df['category'].value_counts(ascending=False).plot(kind='bar')\n",
        "sns.set(font_scale=1.4)\n",
        "df['category'].value_counts(ascending=False).plot(kind='bar', figsize=(7, 6), rot=0)\n",
        "plt.xlabel(\"Categoría\", labelpad=14)\n",
        "plt.ylabel(\"Dominios\", labelpad=14)\n",
        "plt.title(\"Clasificación dominios benignos Vs DGA\", y=1.02);"
      ]
    },
    {
      "cell_type": "code",
      "source": [
        "df['category'].value_counts(normalize=True).mul(100).round(1).astype(str) + '%'"
      ],
      "metadata": {
        "colab": {
          "base_uri": "https://localhost:8080/"
        },
        "id": "Hr5Ltn4Gylgv",
        "outputId": "d4b421b7-b047-4500-8023-ae6d88b19171"
      },
      "execution_count": 17,
      "outputs": [
        {
          "output_type": "execute_result",
          "data": {
            "text/plain": [
              "benign    86.5%\n",
              "malign    13.5%\n",
              "Name: category, dtype: object"
            ]
          },
          "metadata": {},
          "execution_count": 17
        }
      ]
    },
    {
      "cell_type": "markdown",
      "source": [
        "Un 86,5% de los dominios analizados se identifican como benignos y el resto (13,5%) como malignos."
      ],
      "metadata": {
        "id": "i3DdskvbzL5x"
      }
    }
  ],
  "metadata": {
    "accelerator": "GPU",
    "colab": {
      "provenance": [],
      "mount_file_id": "1vqpvTf6Af0q45ypbdPdwc--jNNnP_5OO",
      "authorship_tag": "ABX9TyNT4q7ACBG+LW+CsIkI5i10",
      "include_colab_link": true
    },
    "gpuClass": "standard",
    "kernelspec": {
      "display_name": "Python 3",
      "name": "python3"
    },
    "language_info": {
      "name": "python"
    }
  },
  "nbformat": 4,
  "nbformat_minor": 0
}