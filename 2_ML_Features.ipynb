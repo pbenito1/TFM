{
  "nbformat": 4,
  "nbformat_minor": 0,
  "metadata": {
    "colab": {
      "provenance": [],
      "collapsed_sections": [],
      "mount_file_id": "1KerXOY17JRN8VosLhUWgwYwk04JzsJPP",
      "authorship_tag": "ABX9TyOhRWM79NFItEV81wDjrnDu",
      "include_colab_link": true
    },
    "kernelspec": {
      "name": "python3",
      "display_name": "Python 3"
    },
    "language_info": {
      "name": "python"
    }
  },
  "cells": [
    {
      "cell_type": "markdown",
      "metadata": {
        "id": "view-in-github",
        "colab_type": "text"
      },
      "source": [
        "<a href=\"https://colab.research.google.com/github/pbenito1/TFM/blob/main/2_ML_Features.ipynb\" target=\"_parent\"><img src=\"https://colab.research.google.com/assets/colab-badge.svg\" alt=\"Open In Colab\"/></a>"
      ]
    },
    {
      "cell_type": "code",
      "execution_count": 1,
      "metadata": {
        "id": "RcGWZUYFaVtF"
      },
      "outputs": [],
      "source": [
        "# Imports\n",
        "import re\n",
        "import os\n",
        "from collections import Counter\n",
        "import pandas as pd\n",
        "from math import log\n",
        "import numpy as np\n",
        "import seaborn as sns\n",
        "import matplotlib.pyplot as plt\n",
        "import sklearn\n",
        "from sklearn import ensemble\n",
        "from sklearn import feature_extraction\n",
        "from sklearn.model_selection import train_test_split\n",
        "from sklearn.metrics import f1_score, accuracy_score, recall_score, confusion_matrix, plot_confusion_matrix\n",
        "from sklearn.model_selection import cross_val_score\n",
        "\n",
        "# Clasificadores\n",
        "\n",
        "from sklearn import svm\n",
        "from sklearn.ensemble import RandomForestClassifier\n",
        "from sklearn.linear_model import LogisticRegression, LogisticRegressionCV\n",
        "\n",
        "\n",
        "\n",
        "%matplotlib inline"
      ]
    },
    {
      "cell_type": "code",
      "source": [
        "def custom_cm(cf_matrix):\n",
        "  # Ref: https://medium.com/@dtuk81/confusion-matrix-visualization-fc31e3f30fea\n",
        "  group_names = ['TN','FP','FN','TP']\n",
        "  group_counts = [\"{0:0.0f}\".format(value) for value in cf_matrix.flatten()]\n",
        "  group_percentages = [\"{0:.2%}\".format(value) for value in cf_matrix.flatten()/np.sum(cf_matrix)]\n",
        "  labels = [f\"{v1}\\n{v2}\\n{v3}\" for v1, v2, v3 in zip(group_names,group_counts,group_percentages)]\n",
        "  labels = np.asarray(labels).reshape(2,2)\n",
        "  sns.heatmap(cf_matrix, annot=labels, fmt='', cmap='Blues')"
      ],
      "metadata": {
        "id": "JGG0ngZgagjV"
      },
      "execution_count": 2,
      "outputs": []
    },
    {
      "cell_type": "code",
      "source": [
        "# Cargamos datos\n",
        "DATASET_PATH='/content/drive/MyDrive/TFM/data_processed/dga.csv'\n",
        "df = pd.read_csv(DATASET_PATH,index_col=0)"
      ],
      "metadata": {
        "colab": {
          "base_uri": "https://localhost:8080/"
        },
        "id": "gI1GQBY6aohI",
        "outputId": "f339a2da-2196-46b4-b77e-f7ca051731a5"
      },
      "execution_count": 3,
      "outputs": [
        {
          "output_type": "stream",
          "name": "stderr",
          "text": [
            "/usr/local/lib/python3.7/dist-packages/IPython/core/interactiveshell.py:3326: DtypeWarning: Columns (2) have mixed types.Specify dtype option on import or set low_memory=False.\n",
            "  exec(code_obj, self.user_global_ns, self.user_ns)\n"
          ]
        }
      ]
    },
    {
      "cell_type": "code",
      "source": [
        "df.sample(10)"
      ],
      "metadata": {
        "colab": {
          "base_uri": "https://localhost:8080/",
          "height": 363
        },
        "id": "kRJ-p9DjbE2R",
        "outputId": "502b3581-0aa7-434a-fcbb-c6fdd49fbc5f"
      },
      "execution_count": 4,
      "outputs": [
        {
          "output_type": "execute_result",
          "data": {
            "text/plain": [
              "                             domain    family category  tld  \\\n",
              "573441            skimresources.com       NaN   benign  com   \n",
              "550056                   doudouf.ch    tofsee   malign   ch   \n",
              "1003828                    cbmm.org       NaN   benign  org   \n",
              "243874               heardwomen.net  suppobox   malign  net   \n",
              "391082       ev7n3lahpmy4165bws.com    rovnix   malign  com   \n",
              "496226           powerkissshock.com    matsnu   malign  com   \n",
              "810377                    259zb.com       NaN   benign  com   \n",
              "37846    edy0what7x7hc6cnclap3fw.ws   corebot   malign   ws   \n",
              "523290         skaiyyqqcgqakakq.org     ramdo   malign  org   \n",
              "504514              gienelmbgro.net   oderoor   malign  net   \n",
              "\n",
              "                             sld  subdomains_number  digits  length  \\\n",
              "573441             skimresources                  3       0      13   \n",
              "550056                   doudouf                  3       0       7   \n",
              "1003828                     cbmm                  3       0       4   \n",
              "243874                heardwomen                  3       0      10   \n",
              "391082        ev7n3lahpmy4165bws                  3       6      18   \n",
              "496226            powerkissshock                  3       0      14   \n",
              "810377                     259zb                  3       3       5   \n",
              "37846    edy0what7x7hc6cnclap3fw                  3       5      23   \n",
              "523290          skaiyyqqcgqakakq                  3       0      16   \n",
              "504514               gienelmbgro                  3       0      11   \n",
              "\n",
              "         num_dashes   entropy  ratio_vc  \n",
              "573441            0  3.026987  0.625000  \n",
              "550056            0  1.950212  1.333333  \n",
              "1003828           0  1.500000  0.000000  \n",
              "243874            0  3.121928  0.666667  \n",
              "391082            0  4.169925  0.125000  \n",
              "496226            0  3.182006  0.400000  \n",
              "810377            0  2.321928  0.000000  \n",
              "37846             0  3.969002  0.150000  \n",
              "523290            0  2.780639  0.333333  \n",
              "504514            0  3.095795  0.571429  "
            ],
            "text/html": [
              "\n",
              "  <div id=\"df-f6923826-f62a-42f9-ad7a-3b83b835984e\">\n",
              "    <div class=\"colab-df-container\">\n",
              "      <div>\n",
              "<style scoped>\n",
              "    .dataframe tbody tr th:only-of-type {\n",
              "        vertical-align: middle;\n",
              "    }\n",
              "\n",
              "    .dataframe tbody tr th {\n",
              "        vertical-align: top;\n",
              "    }\n",
              "\n",
              "    .dataframe thead th {\n",
              "        text-align: right;\n",
              "    }\n",
              "</style>\n",
              "<table border=\"1\" class=\"dataframe\">\n",
              "  <thead>\n",
              "    <tr style=\"text-align: right;\">\n",
              "      <th></th>\n",
              "      <th>domain</th>\n",
              "      <th>family</th>\n",
              "      <th>category</th>\n",
              "      <th>tld</th>\n",
              "      <th>sld</th>\n",
              "      <th>subdomains_number</th>\n",
              "      <th>digits</th>\n",
              "      <th>length</th>\n",
              "      <th>num_dashes</th>\n",
              "      <th>entropy</th>\n",
              "      <th>ratio_vc</th>\n",
              "    </tr>\n",
              "  </thead>\n",
              "  <tbody>\n",
              "    <tr>\n",
              "      <th>573441</th>\n",
              "      <td>skimresources.com</td>\n",
              "      <td>NaN</td>\n",
              "      <td>benign</td>\n",
              "      <td>com</td>\n",
              "      <td>skimresources</td>\n",
              "      <td>3</td>\n",
              "      <td>0</td>\n",
              "      <td>13</td>\n",
              "      <td>0</td>\n",
              "      <td>3.026987</td>\n",
              "      <td>0.625000</td>\n",
              "    </tr>\n",
              "    <tr>\n",
              "      <th>550056</th>\n",
              "      <td>doudouf.ch</td>\n",
              "      <td>tofsee</td>\n",
              "      <td>malign</td>\n",
              "      <td>ch</td>\n",
              "      <td>doudouf</td>\n",
              "      <td>3</td>\n",
              "      <td>0</td>\n",
              "      <td>7</td>\n",
              "      <td>0</td>\n",
              "      <td>1.950212</td>\n",
              "      <td>1.333333</td>\n",
              "    </tr>\n",
              "    <tr>\n",
              "      <th>1003828</th>\n",
              "      <td>cbmm.org</td>\n",
              "      <td>NaN</td>\n",
              "      <td>benign</td>\n",
              "      <td>org</td>\n",
              "      <td>cbmm</td>\n",
              "      <td>3</td>\n",
              "      <td>0</td>\n",
              "      <td>4</td>\n",
              "      <td>0</td>\n",
              "      <td>1.500000</td>\n",
              "      <td>0.000000</td>\n",
              "    </tr>\n",
              "    <tr>\n",
              "      <th>243874</th>\n",
              "      <td>heardwomen.net</td>\n",
              "      <td>suppobox</td>\n",
              "      <td>malign</td>\n",
              "      <td>net</td>\n",
              "      <td>heardwomen</td>\n",
              "      <td>3</td>\n",
              "      <td>0</td>\n",
              "      <td>10</td>\n",
              "      <td>0</td>\n",
              "      <td>3.121928</td>\n",
              "      <td>0.666667</td>\n",
              "    </tr>\n",
              "    <tr>\n",
              "      <th>391082</th>\n",
              "      <td>ev7n3lahpmy4165bws.com</td>\n",
              "      <td>rovnix</td>\n",
              "      <td>malign</td>\n",
              "      <td>com</td>\n",
              "      <td>ev7n3lahpmy4165bws</td>\n",
              "      <td>3</td>\n",
              "      <td>6</td>\n",
              "      <td>18</td>\n",
              "      <td>0</td>\n",
              "      <td>4.169925</td>\n",
              "      <td>0.125000</td>\n",
              "    </tr>\n",
              "    <tr>\n",
              "      <th>496226</th>\n",
              "      <td>powerkissshock.com</td>\n",
              "      <td>matsnu</td>\n",
              "      <td>malign</td>\n",
              "      <td>com</td>\n",
              "      <td>powerkissshock</td>\n",
              "      <td>3</td>\n",
              "      <td>0</td>\n",
              "      <td>14</td>\n",
              "      <td>0</td>\n",
              "      <td>3.182006</td>\n",
              "      <td>0.400000</td>\n",
              "    </tr>\n",
              "    <tr>\n",
              "      <th>810377</th>\n",
              "      <td>259zb.com</td>\n",
              "      <td>NaN</td>\n",
              "      <td>benign</td>\n",
              "      <td>com</td>\n",
              "      <td>259zb</td>\n",
              "      <td>3</td>\n",
              "      <td>3</td>\n",
              "      <td>5</td>\n",
              "      <td>0</td>\n",
              "      <td>2.321928</td>\n",
              "      <td>0.000000</td>\n",
              "    </tr>\n",
              "    <tr>\n",
              "      <th>37846</th>\n",
              "      <td>edy0what7x7hc6cnclap3fw.ws</td>\n",
              "      <td>corebot</td>\n",
              "      <td>malign</td>\n",
              "      <td>ws</td>\n",
              "      <td>edy0what7x7hc6cnclap3fw</td>\n",
              "      <td>3</td>\n",
              "      <td>5</td>\n",
              "      <td>23</td>\n",
              "      <td>0</td>\n",
              "      <td>3.969002</td>\n",
              "      <td>0.150000</td>\n",
              "    </tr>\n",
              "    <tr>\n",
              "      <th>523290</th>\n",
              "      <td>skaiyyqqcgqakakq.org</td>\n",
              "      <td>ramdo</td>\n",
              "      <td>malign</td>\n",
              "      <td>org</td>\n",
              "      <td>skaiyyqqcgqakakq</td>\n",
              "      <td>3</td>\n",
              "      <td>0</td>\n",
              "      <td>16</td>\n",
              "      <td>0</td>\n",
              "      <td>2.780639</td>\n",
              "      <td>0.333333</td>\n",
              "    </tr>\n",
              "    <tr>\n",
              "      <th>504514</th>\n",
              "      <td>gienelmbgro.net</td>\n",
              "      <td>oderoor</td>\n",
              "      <td>malign</td>\n",
              "      <td>net</td>\n",
              "      <td>gienelmbgro</td>\n",
              "      <td>3</td>\n",
              "      <td>0</td>\n",
              "      <td>11</td>\n",
              "      <td>0</td>\n",
              "      <td>3.095795</td>\n",
              "      <td>0.571429</td>\n",
              "    </tr>\n",
              "  </tbody>\n",
              "</table>\n",
              "</div>\n",
              "      <button class=\"colab-df-convert\" onclick=\"convertToInteractive('df-f6923826-f62a-42f9-ad7a-3b83b835984e')\"\n",
              "              title=\"Convert this dataframe to an interactive table.\"\n",
              "              style=\"display:none;\">\n",
              "        \n",
              "  <svg xmlns=\"http://www.w3.org/2000/svg\" height=\"24px\"viewBox=\"0 0 24 24\"\n",
              "       width=\"24px\">\n",
              "    <path d=\"M0 0h24v24H0V0z\" fill=\"none\"/>\n",
              "    <path d=\"M18.56 5.44l.94 2.06.94-2.06 2.06-.94-2.06-.94-.94-2.06-.94 2.06-2.06.94zm-11 1L8.5 8.5l.94-2.06 2.06-.94-2.06-.94L8.5 2.5l-.94 2.06-2.06.94zm10 10l.94 2.06.94-2.06 2.06-.94-2.06-.94-.94-2.06-.94 2.06-2.06.94z\"/><path d=\"M17.41 7.96l-1.37-1.37c-.4-.4-.92-.59-1.43-.59-.52 0-1.04.2-1.43.59L10.3 9.45l-7.72 7.72c-.78.78-.78 2.05 0 2.83L4 21.41c.39.39.9.59 1.41.59.51 0 1.02-.2 1.41-.59l7.78-7.78 2.81-2.81c.8-.78.8-2.07 0-2.86zM5.41 20L4 18.59l7.72-7.72 1.47 1.35L5.41 20z\"/>\n",
              "  </svg>\n",
              "      </button>\n",
              "      \n",
              "  <style>\n",
              "    .colab-df-container {\n",
              "      display:flex;\n",
              "      flex-wrap:wrap;\n",
              "      gap: 12px;\n",
              "    }\n",
              "\n",
              "    .colab-df-convert {\n",
              "      background-color: #E8F0FE;\n",
              "      border: none;\n",
              "      border-radius: 50%;\n",
              "      cursor: pointer;\n",
              "      display: none;\n",
              "      fill: #1967D2;\n",
              "      height: 32px;\n",
              "      padding: 0 0 0 0;\n",
              "      width: 32px;\n",
              "    }\n",
              "\n",
              "    .colab-df-convert:hover {\n",
              "      background-color: #E2EBFA;\n",
              "      box-shadow: 0px 1px 2px rgba(60, 64, 67, 0.3), 0px 1px 3px 1px rgba(60, 64, 67, 0.15);\n",
              "      fill: #174EA6;\n",
              "    }\n",
              "\n",
              "    [theme=dark] .colab-df-convert {\n",
              "      background-color: #3B4455;\n",
              "      fill: #D2E3FC;\n",
              "    }\n",
              "\n",
              "    [theme=dark] .colab-df-convert:hover {\n",
              "      background-color: #434B5C;\n",
              "      box-shadow: 0px 1px 3px 1px rgba(0, 0, 0, 0.15);\n",
              "      filter: drop-shadow(0px 1px 2px rgba(0, 0, 0, 0.3));\n",
              "      fill: #FFFFFF;\n",
              "    }\n",
              "  </style>\n",
              "\n",
              "      <script>\n",
              "        const buttonEl =\n",
              "          document.querySelector('#df-f6923826-f62a-42f9-ad7a-3b83b835984e button.colab-df-convert');\n",
              "        buttonEl.style.display =\n",
              "          google.colab.kernel.accessAllowed ? 'block' : 'none';\n",
              "\n",
              "        async function convertToInteractive(key) {\n",
              "          const element = document.querySelector('#df-f6923826-f62a-42f9-ad7a-3b83b835984e');\n",
              "          const dataTable =\n",
              "            await google.colab.kernel.invokeFunction('convertToInteractive',\n",
              "                                                     [key], {});\n",
              "          if (!dataTable) return;\n",
              "\n",
              "          const docLinkHtml = 'Like what you see? Visit the ' +\n",
              "            '<a target=\"_blank\" href=https://colab.research.google.com/notebooks/data_table.ipynb>data table notebook</a>'\n",
              "            + ' to learn more about interactive tables.';\n",
              "          element.innerHTML = '';\n",
              "          dataTable['output_type'] = 'display_data';\n",
              "          await google.colab.output.renderOutput(dataTable, element);\n",
              "          const docLink = document.createElement('div');\n",
              "          docLink.innerHTML = docLinkHtml;\n",
              "          element.appendChild(docLink);\n",
              "        }\n",
              "      </script>\n",
              "    </div>\n",
              "  </div>\n",
              "  "
            ]
          },
          "metadata": {},
          "execution_count": 4
        }
      ]
    },
    {
      "cell_type": "code",
      "source": [
        "#df=df.sample(100000)"
      ],
      "metadata": {
        "id": "RUnVbOHNby2C"
      },
      "execution_count": 5,
      "outputs": []
    },
    {
      "cell_type": "code",
      "source": [
        "y = df['category']\n",
        "X = df.drop(['family','category','domain','tld','sld'], axis=1)"
      ],
      "metadata": {
        "id": "uSar-ur_a5bp"
      },
      "execution_count": 6,
      "outputs": []
    },
    {
      "cell_type": "code",
      "source": [
        "df.family = df.family.fillna('benign')"
      ],
      "metadata": {
        "id": "CaYLvw952RPu"
      },
      "execution_count": 7,
      "outputs": []
    },
    {
      "cell_type": "code",
      "source": [
        "# sampleo estratificado por familia. Importante, dado que hay familias con pocas muestras.\n",
        "X_train, X_test, y_train, y_test = train_test_split(X, y, test_size=0.2, random_state=42, stratify=df['family'])"
      ],
      "metadata": {
        "id": "y7rIiQ67bp-d"
      },
      "execution_count": 8,
      "outputs": []
    },
    {
      "cell_type": "markdown",
      "source": [
        "# Random Forest"
      ],
      "metadata": {
        "id": "o3wngh27ajhm"
      }
    },
    {
      "cell_type": "code",
      "source": [
        "rf = RandomForestClassifier()\n",
        "rf.fit(X_train, y_train)\n",
        "y_pred_rf = rf.predict(X_test)"
      ],
      "metadata": {
        "id": "IHx8-tqbanfP"
      },
      "execution_count": 9,
      "outputs": []
    },
    {
      "cell_type": "code",
      "source": [
        "print(\"El accuracy del modelo Random Forest es:\",rf.score(X_test, y_test))"
      ],
      "metadata": {
        "colab": {
          "base_uri": "https://localhost:8080/"
        },
        "id": "6gbRVkvfcoyD",
        "outputId": "f615a5f0-f0d8-4d3f-a1fb-de9e6fb2f197"
      },
      "execution_count": 10,
      "outputs": [
        {
          "output_type": "stream",
          "name": "stdout",
          "text": [
            "El accuracy del modelo Random Forest es: 0.8220631225164984\n"
          ]
        }
      ]
    },
    {
      "cell_type": "code",
      "source": [
        "plot_confusion_matrix(rf, X_test, y_test)"
      ],
      "metadata": {
        "colab": {
          "base_uri": "https://localhost:8080/",
          "height": 353
        },
        "id": "F6Y0txsLdxm-",
        "outputId": "6790e28c-0d9a-498b-b42f-fb45cde85756"
      },
      "execution_count": 11,
      "outputs": [
        {
          "output_type": "stream",
          "name": "stderr",
          "text": [
            "/usr/local/lib/python3.7/dist-packages/sklearn/utils/deprecation.py:87: FutureWarning: Function plot_confusion_matrix is deprecated; Function `plot_confusion_matrix` is deprecated in 1.0 and will be removed in 1.2. Use one of the class methods: ConfusionMatrixDisplay.from_predictions or ConfusionMatrixDisplay.from_estimator.\n",
            "  warnings.warn(msg, category=FutureWarning)\n"
          ]
        },
        {
          "output_type": "execute_result",
          "data": {
            "text/plain": [
              "<sklearn.metrics._plot.confusion_matrix.ConfusionMatrixDisplay at 0x7ff03c122fd0>"
            ]
          },
          "metadata": {},
          "execution_count": 11
        },
        {
          "output_type": "display_data",
          "data": {
            "text/plain": [
              "<Figure size 432x288 with 2 Axes>"
            ],
            "image/png": "[encoded data removed]"
          },
          "metadata": {
            "needs_background": "light"
          }
        }
      ]
    },
    {
      "cell_type": "code",
      "source": [
        "cf_matrix = confusion_matrix(y_test, y_pred_rf)\n",
        "custom_cm(cf_matrix)"
      ],
      "metadata": {
        "colab": {
          "base_uri": "https://localhost:8080/",
          "height": 265
        },
        "id": "bLrO1FlzcphT",
        "outputId": "7f210742-de13-4515-b082-5284aaa502fa"
      },
      "execution_count": 12,
      "outputs": [
        {
          "output_type": "display_data",
          "data": {
            "text/plain": [
              "<Figure size 432x288 with 2 Axes>"
            ],
            "image/png": "[encoded data removed]"
          },
          "metadata": {
            "needs_background": "light"
          }
        }
      ]
    }
  ]
}