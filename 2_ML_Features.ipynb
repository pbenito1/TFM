{
  "nbformat": 4,
  "nbformat_minor": 0,
  "metadata": {
    "colab": {
      "provenance": [],
      "mount_file_id": "1KerXOY17JRN8VosLhUWgwYwk04JzsJPP",
      "authorship_tag": "ABX9TyOASZgRnkXVBU3OpuVvCogG",
      "include_colab_link": true
    },
    "kernelspec": {
      "name": "python3",
      "display_name": "Python 3"
    },
    "language_info": {
      "name": "python"
    }
  },
  "cells": [
    {
      "cell_type": "markdown",
      "metadata": {
        "id": "view-in-github",
        "colab_type": "text"
      },
      "source": [
        "<a href=\"https://colab.research.google.com/github/pbenito1/TFM/blob/main/2_ML_Features.ipynb\" target=\"_parent\"><img src=\"https://colab.research.google.com/assets/colab-badge.svg\" alt=\"Open In Colab\"/></a>"
      ]
    },
    {
      "cell_type": "code",
      "source": [
        "!pip install auto-sklearn"
      ],
      "metadata": {
        "colab": {
          "base_uri": "https://localhost:8080/",
          "height": 1000
        },
        "id": "CwVqPCrkacgz",
        "outputId": "4db4b067-ad0c-4c55-c579-8f4062de3f1f"
      },
      "execution_count": 2,
      "outputs": [
        {
          "output_type": "stream",
          "name": "stdout",
          "text": [
            "Looking in indexes: https://pypi.org/simple, https://us-python.pkg.dev/colab-wheels/public/simple/\n",
            "Collecting auto-sklearn\n",
            "  Downloading auto-sklearn-0.15.0.tar.gz (6.5 MB)\n",
            "\u001b[K     |████████████████████████████████| 6.5 MB 5.0 MB/s \n",
            "\u001b[?25h  Installing build dependencies ... \u001b[?25l\u001b[?25hdone\n",
            "  Getting requirements to build wheel ... \u001b[?25l\u001b[?25hdone\n",
            "    Preparing wheel metadata ... \u001b[?25l\u001b[?25hdone\n",
            "Collecting scikit-learn<0.25.0,>=0.24.0\n",
            "  Downloading scikit_learn-0.24.2-cp38-cp38-manylinux2010_x86_64.whl (24.9 MB)\n",
            "\u001b[K     |████████████████████████████████| 24.9 MB 1.5 MB/s \n",
            "\u001b[?25hRequirement already satisfied: numpy>=1.9.0 in /usr/local/lib/python3.8/dist-packages (from auto-sklearn) (1.21.6)\n",
            "Requirement already satisfied: joblib in /usr/local/lib/python3.8/dist-packages (from auto-sklearn) (1.2.0)\n",
            "Requirement already satisfied: pandas>=1.0 in /usr/local/lib/python3.8/dist-packages (from auto-sklearn) (1.3.5)\n",
            "Collecting distro\n",
            "  Downloading distro-1.8.0-py3-none-any.whl (20 kB)\n",
            "Collecting pyrfr<0.9,>=0.8.1\n",
            "  Downloading pyrfr-0.8.3-cp38-cp38-manylinux_2_17_x86_64.manylinux2014_x86_64.whl (4.4 MB)\n",
            "\u001b[K     |████████████████████████████████| 4.4 MB 63.5 MB/s \n",
            "\u001b[?25hCollecting smac<1.3,>=1.2\n",
            "  Downloading smac-1.2.tar.gz (260 kB)\n",
            "\u001b[K     |████████████████████████████████| 260 kB 68.1 MB/s \n",
            "\u001b[?25hRequirement already satisfied: typing-extensions in /usr/local/lib/python3.8/dist-packages (from auto-sklearn) (4.4.0)\n",
            "Requirement already satisfied: distributed>=2012.12 in /usr/local/lib/python3.8/dist-packages (from auto-sklearn) (2022.2.1)\n",
            "Collecting liac-arff\n",
            "  Downloading liac-arff-2.5.0.tar.gz (13 kB)\n",
            "Requirement already satisfied: setuptools in /usr/local/lib/python3.8/dist-packages (from auto-sklearn) (57.4.0)\n",
            "Collecting pynisher<0.7,>=0.6.3\n",
            "  Downloading pynisher-0.6.4.tar.gz (11 kB)\n",
            "Requirement already satisfied: threadpoolctl in /usr/local/lib/python3.8/dist-packages (from auto-sklearn) (3.1.0)\n",
            "Requirement already satisfied: pyyaml in /usr/local/lib/python3.8/dist-packages (from auto-sklearn) (6.0)\n",
            "Requirement already satisfied: scipy>=1.7.0 in /usr/local/lib/python3.8/dist-packages (from auto-sklearn) (1.7.3)\n",
            "Collecting ConfigSpace<0.5,>=0.4.21\n",
            "  Downloading ConfigSpace-0.4.21-cp38-cp38-manylinux_2_17_x86_64.manylinux2014_x86_64.whl (4.9 MB)\n",
            "\u001b[K     |████████████████████████████████| 4.9 MB 66.5 MB/s \n",
            "\u001b[?25hRequirement already satisfied: dask>=2021.12 in /usr/local/lib/python3.8/dist-packages (from auto-sklearn) (2022.2.1)\n",
            "Requirement already satisfied: cython in /usr/local/lib/python3.8/dist-packages (from ConfigSpace<0.5,>=0.4.21->auto-sklearn) (0.29.32)\n",
            "Requirement already satisfied: pyparsing in /usr/local/lib/python3.8/dist-packages (from ConfigSpace<0.5,>=0.4.21->auto-sklearn) (3.0.9)\n",
            "Requirement already satisfied: packaging>=20.0 in /usr/local/lib/python3.8/dist-packages (from dask>=2021.12->auto-sklearn) (21.3)\n",
            "Requirement already satisfied: fsspec>=0.6.0 in /usr/local/lib/python3.8/dist-packages (from dask>=2021.12->auto-sklearn) (2022.11.0)\n",
            "Requirement already satisfied: cloudpickle>=1.1.1 in /usr/local/lib/python3.8/dist-packages (from dask>=2021.12->auto-sklearn) (1.5.0)\n",
            "Requirement already satisfied: partd>=0.3.10 in /usr/local/lib/python3.8/dist-packages (from dask>=2021.12->auto-sklearn) (1.3.0)\n",
            "Requirement already satisfied: toolz>=0.8.2 in /usr/local/lib/python3.8/dist-packages (from dask>=2021.12->auto-sklearn) (0.12.0)\n",
            "Requirement already satisfied: psutil>=5.0 in /usr/local/lib/python3.8/dist-packages (from distributed>=2012.12->auto-sklearn) (5.4.8)\n",
            "Requirement already satisfied: tblib>=1.6.0 in /usr/local/lib/python3.8/dist-packages (from distributed>=2012.12->auto-sklearn) (1.7.0)\n",
            "Requirement already satisfied: zict>=0.1.3 in /usr/local/lib/python3.8/dist-packages (from distributed>=2012.12->auto-sklearn) (2.2.0)\n",
            "Requirement already satisfied: msgpack>=0.6.0 in /usr/local/lib/python3.8/dist-packages (from distributed>=2012.12->auto-sklearn) (1.0.4)\n",
            "Requirement already satisfied: click>=6.6 in /usr/local/lib/python3.8/dist-packages (from distributed>=2012.12->auto-sklearn) (7.1.2)\n",
            "Requirement already satisfied: tornado>=6.0.3 in /usr/local/lib/python3.8/dist-packages (from distributed>=2012.12->auto-sklearn) (6.0.4)\n",
            "Requirement already satisfied: jinja2 in /usr/local/lib/python3.8/dist-packages (from distributed>=2012.12->auto-sklearn) (2.11.3)\n",
            "Requirement already satisfied: sortedcontainers!=2.0.0,!=2.0.1 in /usr/local/lib/python3.8/dist-packages (from distributed>=2012.12->auto-sklearn) (2.4.0)\n",
            "Requirement already satisfied: python-dateutil>=2.7.3 in /usr/local/lib/python3.8/dist-packages (from pandas>=1.0->auto-sklearn) (2.8.2)\n",
            "Requirement already satisfied: pytz>=2017.3 in /usr/local/lib/python3.8/dist-packages (from pandas>=1.0->auto-sklearn) (2022.6)\n",
            "Requirement already satisfied: locket in /usr/local/lib/python3.8/dist-packages (from partd>=0.3.10->dask>=2021.12->auto-sklearn) (1.0.0)\n",
            "Requirement already satisfied: six>=1.5 in /usr/local/lib/python3.8/dist-packages (from python-dateutil>=2.7.3->pandas>=1.0->auto-sklearn) (1.15.0)\n",
            "Collecting emcee>=3.0.0\n",
            "  Downloading emcee-3.1.3-py2.py3-none-any.whl (46 kB)\n",
            "\u001b[K     |████████████████████████████████| 46 kB 4.0 MB/s \n",
            "\u001b[?25hRequirement already satisfied: heapdict in /usr/local/lib/python3.8/dist-packages (from zict>=0.1.3->distributed>=2012.12->auto-sklearn) (1.0.1)\n",
            "Requirement already satisfied: MarkupSafe>=0.23 in /usr/local/lib/python3.8/dist-packages (from jinja2->distributed>=2012.12->auto-sklearn) (2.0.1)\n",
            "Building wheels for collected packages: auto-sklearn, pynisher, smac, liac-arff\n",
            "  Building wheel for auto-sklearn (PEP 517) ... \u001b[?25l\u001b[?25hdone\n",
            "  Created wheel for auto-sklearn: filename=auto_sklearn-0.15.0-py3-none-any.whl size=6641945 sha256=d4d20045e35c80efd5d127c1c415122167a719c24f75ace3a3ceb32246f86f91\n",
            "  Stored in directory: /root/.cache/pip/wheels/c5/11/0e/aeac2cee929fa4388e528737b49deb2eea05486e6f80d61c1a\n",
            "  Building wheel for pynisher (setup.py) ... \u001b[?25l\u001b[?25hdone\n",
            "  Created wheel for pynisher: filename=pynisher-0.6.4-py3-none-any.whl size=7044 sha256=8edf0d5104878466282a10eef9dfe9d939978f8681fe6207c3fec678f34e5ef6\n",
            "  Stored in directory: /root/.cache/pip/wheels/a7/0b/c3/169e35bcd72f20d0d5e24c37dd2dff8282cc16c06df9762ff5\n",
            "  Building wheel for smac (setup.py) ... \u001b[?25l\u001b[?25hdone\n",
            "  Created wheel for smac: filename=smac-1.2-py3-none-any.whl size=215930 sha256=29826fae330816b041de26bf64f221db49d602fda9cbaec3a8bd12ec78d6bb59\n",
            "  Stored in directory: /root/.cache/pip/wheels/1c/0d/63/29515e546f52561bf5ff41e3968fe2c35afe4ae366be54b2c4\n",
            "  Building wheel for liac-arff (setup.py) ... \u001b[?25l\u001b[?25hdone\n",
            "  Created wheel for liac-arff: filename=liac_arff-2.5.0-py3-none-any.whl size=11732 sha256=0f1f7c19bca4decaed62816e26404ed169ca5eb580953e8d7541418d24590bab\n",
            "  Stored in directory: /root/.cache/pip/wheels/a2/de/68/bf3972de3ecb31e32bef59a7f4c75f0687a3674c476b347c14\n",
            "Successfully built auto-sklearn pynisher smac liac-arff\n",
            "Installing collected packages: scikit-learn, pyrfr, pynisher, emcee, ConfigSpace, smac, liac-arff, distro, auto-sklearn\n",
            "  Attempting uninstall: scikit-learn\n",
            "    Found existing installation: scikit-learn 1.0.2\n",
            "    Uninstalling scikit-learn-1.0.2:\n",
            "      Successfully uninstalled scikit-learn-1.0.2\n",
            "\u001b[31mERROR: pip's dependency resolver does not currently take into account all the packages that are installed. This behaviour is the source of the following dependency conflicts.\n",
            "yellowbrick 1.5 requires scikit-learn>=1.0.0, but you have scikit-learn 0.24.2 which is incompatible.\u001b[0m\n",
            "Successfully installed ConfigSpace-0.4.21 auto-sklearn-0.15.0 distro-1.8.0 emcee-3.1.3 liac-arff-2.5.0 pynisher-0.6.4 pyrfr-0.8.3 scikit-learn-0.24.2 smac-1.2\n"
          ]
        },
        {
          "output_type": "display_data",
          "data": {
            "application/vnd.colab-display-data+json": {
              "pip_warning": {
                "packages": [
                  "sklearn"
                ]
              }
            }
          },
          "metadata": {}
        }
      ]
    },
    {
      "cell_type": "code",
      "execution_count": 4,
      "metadata": {
        "id": "RcGWZUYFaVtF"
      },
      "outputs": [],
      "source": [
        "# Imports\n",
        "import re\n",
        "import os\n",
        "from collections import Counter\n",
        "import pandas as pd\n",
        "from math import log\n",
        "import numpy as np\n",
        "import seaborn as sns\n",
        "import matplotlib.pyplot as plt\n",
        "import sklearn\n",
        "from sklearn import ensemble\n",
        "from sklearn import feature_extraction\n",
        "from sklearn.model_selection import train_test_split\n",
        "#from sklearn.metrics import f1_score, accuracy_score, recall_score, confusion_matrix, plot_confusion_matrix, classification_report\n",
        "from sklearn.metrics import f1_score, accuracy_score, recall_score, classification_report, confusion_matrix, ConfusionMatrixDisplay\n",
        "from sklearn.model_selection import cross_val_score,train_test_split, GridSearchCV\n",
        "import autosklearn.classification\n",
        "from sklearn.preprocessing import StandardScaler\n",
        "from sklearn.decomposition import PCA\n",
        "\n",
        "# Clasificadores\n",
        "\n",
        "from sklearn import svm\n",
        "from sklearn.ensemble import RandomForestClassifier, GradientBoostingClassifier, RandomForestRegressor\n",
        "from sklearn.linear_model import LogisticRegression, LogisticRegressionCV\n",
        "from sklearn.neighbors import KNeighborsClassifier\n",
        "from sklearn.tree import DecisionTreeClassifier, DecisionTreeRegressor, export_graphviz\n",
        "\n",
        "\n",
        "\n",
        "\n",
        "%matplotlib inline"
      ]
    },
    {
      "cell_type": "code",
      "source": [
        "# Estilos seaborn\n",
        "sns.set(rc={\"figure.dpi\":200, 'savefig.dpi':200})\n",
        "sns.set_context('notebook')\n",
        "sns.set_style(\"ticks\")\n",
        "\n",
        "from IPython.display import set_matplotlib_formats\n",
        "set_matplotlib_formats('png')"
      ],
      "metadata": {
        "id": "qLjABzN-UjWH"
      },
      "execution_count": 47,
      "outputs": []
    },
    {
      "cell_type": "code",
      "source": [
        "def custom_cm(cf_matrix):\n",
        "  # Ref: https://medium.com/@dtuk81/confusion-matrix-visualization-fc31e3f30fea\n",
        "  group_names = ['TN','FP','FN','TP']\n",
        "  group_counts = [\"{0:0.0f}\".format(value) for value in cf_matrix.flatten()]\n",
        "  group_percentages = [\"{0:.2%}\".format(value) for value in cf_matrix.flatten()/np.sum(cf_matrix)]\n",
        "  labels = [f\"{v1}\\n{v2}\\n{v3}\" for v1, v2, v3 in zip(group_names,group_counts,group_percentages)]\n",
        "  labels = np.asarray(labels).reshape(2,2)\n",
        "  sns.heatmap(cf_matrix, annot=labels, fmt='', cmap='Blues')"
      ],
      "metadata": {
        "id": "JGG0ngZgagjV"
      },
      "execution_count": 6,
      "outputs": []
    },
    {
      "cell_type": "code",
      "source": [
        "# Cargamos datos\n",
        "DATASET_PATH='/content/drive/MyDrive/TFM/data_processed/dga.csv'\n",
        "df = pd.read_csv(DATASET_PATH,index_col=0)"
      ],
      "metadata": {
        "id": "gI1GQBY6aohI"
      },
      "execution_count": 7,
      "outputs": []
    },
    {
      "cell_type": "code",
      "source": [
        "df.sample(10)"
      ],
      "metadata": {
        "colab": {
          "base_uri": "https://localhost:8080/",
          "height": 427
        },
        "id": "kRJ-p9DjbE2R",
        "outputId": "350b6357-c7a7-4837-82b8-1c4cba85dc35"
      },
      "execution_count": 8,
      "outputs": [
        {
          "output_type": "execute_result",
          "data": {
            "text/plain": [
              "                                         domain    family category  tld  \\\n",
              "146604                     fmeoakckceedcfck.com  padcrypt   malign  com   \n",
              "582836                     freemusicarchive.org    benign   benign  org   \n",
              "149800                      dnbfnmoekfdbenla.cc  padcrypt   malign   cc   \n",
              "918247                                myefox.pl    benign   benign   pl   \n",
              "557398                          gorollufoww.com   vawtrak   malign  com   \n",
              "599274                              nfrance.com    benign   benign  com   \n",
              "1142395                              xmytjs.com    benign   benign  com   \n",
              "804867                       letsbookmarkit.com    benign   benign  com   \n",
              "423      a2408cbf6aebb20c5b036ee54198f91a.cz.cc   bamital   malign   cc   \n",
              "438065                     smjvvzsekrprhnzy.net   murofet   malign  net   \n",
              "\n",
              "                      sld  subdomains_number  digits  length  num_dashes  \\\n",
              "146604   fmeoakckceedcfck                  2       0      16           0   \n",
              "582836   freemusicarchive                  2       0      16           0   \n",
              "149800   dnbfnmoekfdbenla                  2       0      16           0   \n",
              "918247             myefox                  2       0       6           0   \n",
              "557398        gorollufoww                  2       0      11           0   \n",
              "599274            nfrance                  2       0       7           0   \n",
              "1142395            xmytjs                  2       0       6           0   \n",
              "804867     letsbookmarkit                  2       0      14           0   \n",
              "423                    cz                  3       0       2           0   \n",
              "438065   smjvvzsekrprhnzy                  2       0      16           0   \n",
              "\n",
              "          entropy  ratio_vc  3gram  4gram  5gram  6gram  \n",
              "146604   2.780639  0.454545     14      9      1      0  \n",
              "582836   3.327820  0.777778     14     13     12     11  \n",
              "149800   3.202820  0.333333     14      7      1      0  \n",
              "918247   2.584963  0.500000      4      3      2      1  \n",
              "557398   2.663533  0.571429      9      6      4      1  \n",
              "599274   2.521641  0.400000      5      4      3      2  \n",
              "1142395  2.584963  0.000000      4      3      2      1  \n",
              "804867   3.378783  0.555556     12     11     10      9  \n",
              "423      1.000000  0.000000      0      0      0      0  \n",
              "438065   3.500000  0.066667     14      6      0      0  "
            ],
            "text/html": [
              "\n",
              "  <div id=\"df-33dcea9d-8768-4bd5-a25b-0c0e82ee558b\">\n",
              "    <div class=\"colab-df-container\">\n",
              "      <div>\n",
              "<style scoped>\n",
              "    .dataframe tbody tr th:only-of-type {\n",
              "        vertical-align: middle;\n",
              "    }\n",
              "\n",
              "    .dataframe tbody tr th {\n",
              "        vertical-align: top;\n",
              "    }\n",
              "\n",
              "    .dataframe thead th {\n",
              "        text-align: right;\n",
              "    }\n",
              "</style>\n",
              "<table border=\"1\" class=\"dataframe\">\n",
              "  <thead>\n",
              "    <tr style=\"text-align: right;\">\n",
              "      <th></th>\n",
              "      <th>domain</th>\n",
              "      <th>family</th>\n",
              "      <th>category</th>\n",
              "      <th>tld</th>\n",
              "      <th>sld</th>\n",
              "      <th>subdomains_number</th>\n",
              "      <th>digits</th>\n",
              "      <th>length</th>\n",
              "      <th>num_dashes</th>\n",
              "      <th>entropy</th>\n",
              "      <th>ratio_vc</th>\n",
              "      <th>3gram</th>\n",
              "      <th>4gram</th>\n",
              "      <th>5gram</th>\n",
              "      <th>6gram</th>\n",
              "    </tr>\n",
              "  </thead>\n",
              "  <tbody>\n",
              "    <tr>\n",
              "      <th>146604</th>\n",
              "      <td>fmeoakckceedcfck.com</td>\n",
              "      <td>padcrypt</td>\n",
              "      <td>malign</td>\n",
              "      <td>com</td>\n",
              "      <td>fmeoakckceedcfck</td>\n",
              "      <td>2</td>\n",
              "      <td>0</td>\n",
              "      <td>16</td>\n",
              "      <td>0</td>\n",
              "      <td>2.780639</td>\n",
              "      <td>0.454545</td>\n",
              "      <td>14</td>\n",
              "      <td>9</td>\n",
              "      <td>1</td>\n",
              "      <td>0</td>\n",
              "    </tr>\n",
              "    <tr>\n",
              "      <th>582836</th>\n",
              "      <td>freemusicarchive.org</td>\n",
              "      <td>benign</td>\n",
              "      <td>benign</td>\n",
              "      <td>org</td>\n",
              "      <td>freemusicarchive</td>\n",
              "      <td>2</td>\n",
              "      <td>0</td>\n",
              "      <td>16</td>\n",
              "      <td>0</td>\n",
              "      <td>3.327820</td>\n",
              "      <td>0.777778</td>\n",
              "      <td>14</td>\n",
              "      <td>13</td>\n",
              "      <td>12</td>\n",
              "      <td>11</td>\n",
              "    </tr>\n",
              "    <tr>\n",
              "      <th>149800</th>\n",
              "      <td>dnbfnmoekfdbenla.cc</td>\n",
              "      <td>padcrypt</td>\n",
              "      <td>malign</td>\n",
              "      <td>cc</td>\n",
              "      <td>dnbfnmoekfdbenla</td>\n",
              "      <td>2</td>\n",
              "      <td>0</td>\n",
              "      <td>16</td>\n",
              "      <td>0</td>\n",
              "      <td>3.202820</td>\n",
              "      <td>0.333333</td>\n",
              "      <td>14</td>\n",
              "      <td>7</td>\n",
              "      <td>1</td>\n",
              "      <td>0</td>\n",
              "    </tr>\n",
              "    <tr>\n",
              "      <th>918247</th>\n",
              "      <td>myefox.pl</td>\n",
              "      <td>benign</td>\n",
              "      <td>benign</td>\n",
              "      <td>pl</td>\n",
              "      <td>myefox</td>\n",
              "      <td>2</td>\n",
              "      <td>0</td>\n",
              "      <td>6</td>\n",
              "      <td>0</td>\n",
              "      <td>2.584963</td>\n",
              "      <td>0.500000</td>\n",
              "      <td>4</td>\n",
              "      <td>3</td>\n",
              "      <td>2</td>\n",
              "      <td>1</td>\n",
              "    </tr>\n",
              "    <tr>\n",
              "      <th>557398</th>\n",
              "      <td>gorollufoww.com</td>\n",
              "      <td>vawtrak</td>\n",
              "      <td>malign</td>\n",
              "      <td>com</td>\n",
              "      <td>gorollufoww</td>\n",
              "      <td>2</td>\n",
              "      <td>0</td>\n",
              "      <td>11</td>\n",
              "      <td>0</td>\n",
              "      <td>2.663533</td>\n",
              "      <td>0.571429</td>\n",
              "      <td>9</td>\n",
              "      <td>6</td>\n",
              "      <td>4</td>\n",
              "      <td>1</td>\n",
              "    </tr>\n",
              "    <tr>\n",
              "      <th>599274</th>\n",
              "      <td>nfrance.com</td>\n",
              "      <td>benign</td>\n",
              "      <td>benign</td>\n",
              "      <td>com</td>\n",
              "      <td>nfrance</td>\n",
              "      <td>2</td>\n",
              "      <td>0</td>\n",
              "      <td>7</td>\n",
              "      <td>0</td>\n",
              "      <td>2.521641</td>\n",
              "      <td>0.400000</td>\n",
              "      <td>5</td>\n",
              "      <td>4</td>\n",
              "      <td>3</td>\n",
              "      <td>2</td>\n",
              "    </tr>\n",
              "    <tr>\n",
              "      <th>1142395</th>\n",
              "      <td>xmytjs.com</td>\n",
              "      <td>benign</td>\n",
              "      <td>benign</td>\n",
              "      <td>com</td>\n",
              "      <td>xmytjs</td>\n",
              "      <td>2</td>\n",
              "      <td>0</td>\n",
              "      <td>6</td>\n",
              "      <td>0</td>\n",
              "      <td>2.584963</td>\n",
              "      <td>0.000000</td>\n",
              "      <td>4</td>\n",
              "      <td>3</td>\n",
              "      <td>2</td>\n",
              "      <td>1</td>\n",
              "    </tr>\n",
              "    <tr>\n",
              "      <th>804867</th>\n",
              "      <td>letsbookmarkit.com</td>\n",
              "      <td>benign</td>\n",
              "      <td>benign</td>\n",
              "      <td>com</td>\n",
              "      <td>letsbookmarkit</td>\n",
              "      <td>2</td>\n",
              "      <td>0</td>\n",
              "      <td>14</td>\n",
              "      <td>0</td>\n",
              "      <td>3.378783</td>\n",
              "      <td>0.555556</td>\n",
              "      <td>12</td>\n",
              "      <td>11</td>\n",
              "      <td>10</td>\n",
              "      <td>9</td>\n",
              "    </tr>\n",
              "    <tr>\n",
              "      <th>423</th>\n",
              "      <td>a2408cbf6aebb20c5b036ee54198f91a.cz.cc</td>\n",
              "      <td>bamital</td>\n",
              "      <td>malign</td>\n",
              "      <td>cc</td>\n",
              "      <td>cz</td>\n",
              "      <td>3</td>\n",
              "      <td>0</td>\n",
              "      <td>2</td>\n",
              "      <td>0</td>\n",
              "      <td>1.000000</td>\n",
              "      <td>0.000000</td>\n",
              "      <td>0</td>\n",
              "      <td>0</td>\n",
              "      <td>0</td>\n",
              "      <td>0</td>\n",
              "    </tr>\n",
              "    <tr>\n",
              "      <th>438065</th>\n",
              "      <td>smjvvzsekrprhnzy.net</td>\n",
              "      <td>murofet</td>\n",
              "      <td>malign</td>\n",
              "      <td>net</td>\n",
              "      <td>smjvvzsekrprhnzy</td>\n",
              "      <td>2</td>\n",
              "      <td>0</td>\n",
              "      <td>16</td>\n",
              "      <td>0</td>\n",
              "      <td>3.500000</td>\n",
              "      <td>0.066667</td>\n",
              "      <td>14</td>\n",
              "      <td>6</td>\n",
              "      <td>0</td>\n",
              "      <td>0</td>\n",
              "    </tr>\n",
              "  </tbody>\n",
              "</table>\n",
              "</div>\n",
              "      <button class=\"colab-df-convert\" onclick=\"convertToInteractive('df-33dcea9d-8768-4bd5-a25b-0c0e82ee558b')\"\n",
              "              title=\"Convert this dataframe to an interactive table.\"\n",
              "              style=\"display:none;\">\n",
              "        \n",
              "  <svg xmlns=\"http://www.w3.org/2000/svg\" height=\"24px\"viewBox=\"0 0 24 24\"\n",
              "       width=\"24px\">\n",
              "    <path d=\"M0 0h24v24H0V0z\" fill=\"none\"/>\n",
              "    <path d=\"M18.56 5.44l.94 2.06.94-2.06 2.06-.94-2.06-.94-.94-2.06-.94 2.06-2.06.94zm-11 1L8.5 8.5l.94-2.06 2.06-.94-2.06-.94L8.5 2.5l-.94 2.06-2.06.94zm10 10l.94 2.06.94-2.06 2.06-.94-2.06-.94-.94-2.06-.94 2.06-2.06.94z\"/><path d=\"M17.41 7.96l-1.37-1.37c-.4-.4-.92-.59-1.43-.59-.52 0-1.04.2-1.43.59L10.3 9.45l-7.72 7.72c-.78.78-.78 2.05 0 2.83L4 21.41c.39.39.9.59 1.41.59.51 0 1.02-.2 1.41-.59l7.78-7.78 2.81-2.81c.8-.78.8-2.07 0-2.86zM5.41 20L4 18.59l7.72-7.72 1.47 1.35L5.41 20z\"/>\n",
              "  </svg>\n",
              "      </button>\n",
              "      \n",
              "  <style>\n",
              "    .colab-df-container {\n",
              "      display:flex;\n",
              "      flex-wrap:wrap;\n",
              "      gap: 12px;\n",
              "    }\n",
              "\n",
              "    .colab-df-convert {\n",
              "      background-color: #E8F0FE;\n",
              "      border: none;\n",
              "      border-radius: 50%;\n",
              "      cursor: pointer;\n",
              "      display: none;\n",
              "      fill: #1967D2;\n",
              "      height: 32px;\n",
              "      padding: 0 0 0 0;\n",
              "      width: 32px;\n",
              "    }\n",
              "\n",
              "    .colab-df-convert:hover {\n",
              "      background-color: #E2EBFA;\n",
              "      box-shadow: 0px 1px 2px rgba(60, 64, 67, 0.3), 0px 1px 3px 1px rgba(60, 64, 67, 0.15);\n",
              "      fill: #174EA6;\n",
              "    }\n",
              "\n",
              "    [theme=dark] .colab-df-convert {\n",
              "      background-color: #3B4455;\n",
              "      fill: #D2E3FC;\n",
              "    }\n",
              "\n",
              "    [theme=dark] .colab-df-convert:hover {\n",
              "      background-color: #434B5C;\n",
              "      box-shadow: 0px 1px 3px 1px rgba(0, 0, 0, 0.15);\n",
              "      filter: drop-shadow(0px 1px 2px rgba(0, 0, 0, 0.3));\n",
              "      fill: #FFFFFF;\n",
              "    }\n",
              "  </style>\n",
              "\n",
              "      <script>\n",
              "        const buttonEl =\n",
              "          document.querySelector('#df-33dcea9d-8768-4bd5-a25b-0c0e82ee558b button.colab-df-convert');\n",
              "        buttonEl.style.display =\n",
              "          google.colab.kernel.accessAllowed ? 'block' : 'none';\n",
              "\n",
              "        async function convertToInteractive(key) {\n",
              "          const element = document.querySelector('#df-33dcea9d-8768-4bd5-a25b-0c0e82ee558b');\n",
              "          const dataTable =\n",
              "            await google.colab.kernel.invokeFunction('convertToInteractive',\n",
              "                                                     [key], {});\n",
              "          if (!dataTable) return;\n",
              "\n",
              "          const docLinkHtml = 'Like what you see? Visit the ' +\n",
              "            '<a target=\"_blank\" href=https://colab.research.google.com/notebooks/data_table.ipynb>data table notebook</a>'\n",
              "            + ' to learn more about interactive tables.';\n",
              "          element.innerHTML = '';\n",
              "          dataTable['output_type'] = 'display_data';\n",
              "          await google.colab.output.renderOutput(dataTable, element);\n",
              "          const docLink = document.createElement('div');\n",
              "          docLink.innerHTML = docLinkHtml;\n",
              "          element.appendChild(docLink);\n",
              "        }\n",
              "      </script>\n",
              "    </div>\n",
              "  </div>\n",
              "  "
            ]
          },
          "metadata": {},
          "execution_count": 8
        }
      ]
    },
    {
      "cell_type": "code",
      "source": [
        "# Aplicamos *one-hot encoding* a la variable TLD\n",
        "# df = pd.concat([df, pd.get_dummies(df['tld'])], axis=1)\n",
        "\n",
        "# WARN: Aunque es posible aplicar one-hot encoding, luego no es posible \n",
        "# aplicar algoritmos de machine learning porque da fallo de memoria"
      ],
      "metadata": {
        "id": "8-SoMGr3_d8Z"
      },
      "execution_count": null,
      "outputs": []
    },
    {
      "cell_type": "markdown",
      "source": [
        "Eliminamos las variables tipo texto y los n-gramas"
      ],
      "metadata": {
        "id": "qBTnvyzFAYCx"
      }
    },
    {
      "cell_type": "code",
      "source": [
        "y = df['category']\n",
        "X = df.drop(['family','category','domain','tld','sld','3gram','4gram','5gram','6gram',], axis=1)"
      ],
      "metadata": {
        "id": "uSar-ur_a5bp"
      },
      "execution_count": 25,
      "outputs": []
    },
    {
      "cell_type": "markdown",
      "source": [
        "Aplicamos a las variables restantes un escalado estandar, en el cual a cada columna se le resta la media de esa columna y se le divide por su desviación típica. Utilizamos para ello la función `StandarScaler` de la librería `sklearn`:"
      ],
      "metadata": {
        "id": "w8wvs3-YM1rz"
      }
    },
    {
      "cell_type": "code",
      "source": [
        "X_std_scaler = StandardScaler().fit_transform(X)\n",
        "X_std = pd.DataFrame(X_std_scaler, index=X.index, columns=X.columns)"
      ],
      "metadata": {
        "id": "U5uscbtBMx71"
      },
      "execution_count": 39,
      "outputs": []
    },
    {
      "cell_type": "markdown",
      "source": [
        "Realizamos un muestreo estratificado en función de la familia."
      ],
      "metadata": {
        "id": "8IDsdDqDAiVi"
      }
    },
    {
      "cell_type": "code",
      "source": [
        "X_train, X_test, y_train, y_test = train_test_split(X, y, test_size=0.2, random_state=42, stratify=df['family'])\n",
        "X_train_std, X_test_std, y_train, y_test = train_test_split(X, y, test_size=0.2, random_state=42, stratify=df['family'])"
      ],
      "metadata": {
        "id": "y7rIiQ67bp-d"
      },
      "execution_count": 40,
      "outputs": []
    },
    {
      "cell_type": "markdown",
      "source": [
        "# Reducción de la dimensionalidad con análisis de componentes principales (PCA)\n",
        "\n",
        "Para poder visualizar los resultados de los clasificaddores, realizaremos una reducción de la dimensionalidad utilizando PCA"
      ],
      "metadata": {
        "id": "-Kq8GBMuKANF"
      }
    },
    {
      "cell_type": "code",
      "source": [
        "pca2 = PCA(n_components=2)\n",
        "\n",
        "pca = pca2.fit_transform(X_std)\n",
        "pca_df = pd.DataFrame(data = pca, columns = ['PC1', 'PC2'])"
      ],
      "metadata": {
        "id": "LdoHW3ivKPxD"
      },
      "execution_count": 41,
      "outputs": []
    },
    {
      "cell_type": "markdown",
      "source": [
        "Visualización de los datos"
      ],
      "metadata": {
        "id": "KNSnMKVzPyd7"
      }
    },
    {
      "cell_type": "code",
      "source": [
        "colors = {'malign':'red', 'benign':'green'}\n",
        "plt.scatter(pca_df['PC1'].tolist(), \n",
        "            pca_df['PC2'].tolist(),\n",
        "            alpha=0.2,\n",
        "            s=1,\n",
        "            c=y.map(colors))\n",
        "plt.xlabel('PC1')\n",
        "plt.ylabel('PC2')\n",
        "plt.title(\"PCA\")"
      ],
      "metadata": {
        "colab": {
          "base_uri": "https://localhost:8080/",
          "height": 624
        },
        "id": "FfJ79YQNP4Dl",
        "outputId": "72e60b6c-ba06-499b-8a4f-1213937612be"
      },
      "execution_count": 42,
      "outputs": [
        {
          "output_type": "execute_result",
          "data": {
            "text/plain": [
              "Text(0.5, 1.0, 'PCA')"
            ]
          },
          "metadata": {},
          "execution_count": 42
        },
        {
          "output_type": "display_data",
          "data": {
            "text/plain": [
              "<Figure size 900x600 with 1 Axes>"
            ],
            "image/png": "[encoded data removed]"
          },
          "metadata": {}
        }
      ]
    },
    {
      "cell_type": "markdown",
      "source": [
        "#$k$-nn (_K Nearest Neighbours_)\n",
        "\n"
      ],
      "metadata": {
        "id": "q6U6b3N0I8LB"
      }
    },
    {
      "cell_type": "code",
      "source": [
        "grid_params={'n_neighbors': [2],\n",
        "             'weights': ['uniform','distance']}\n",
        "gs=GridSearchCV(\n",
        "    KNeighborsClassifier(),\n",
        "    grid_params,\n",
        "    verbose = 1,\n",
        "    cv=4,\n",
        "    n_jobs=-1)\n",
        "\n",
        "gs_results=gs.fit(X_train,y_train)\n",
        "print(gs_results.best_params_)"
      ],
      "metadata": {
        "colab": {
          "base_uri": "https://localhost:8080/",
          "height": 389
        },
        "id": "Tjmy39YjJOcF",
        "outputId": "7ee273e4-3b0b-40a5-fc18-3646f5fa9e1e"
      },
      "execution_count": 11,
      "outputs": [
        {
          "output_type": "stream",
          "name": "stdout",
          "text": [
            "Fitting 4 folds for each of 2 candidates, totalling 8 fits\n"
          ]
        },
        {
          "output_type": "error",
          "ename": "KeyboardInterrupt",
          "evalue": "ignored",
          "traceback": [
            "\u001b[0;31m---------------------------------------------------------------------------\u001b[0m",
            "\u001b[0;31mKeyboardInterrupt\u001b[0m                         Traceback (most recent call last)",
            "\u001b[0;32m<ipython-input-11-f19ac0fc0ba7>\u001b[0m in \u001b[0;36m<module>\u001b[0;34m\u001b[0m\n\u001b[1;32m      8\u001b[0m     n_jobs=-1)\n\u001b[1;32m      9\u001b[0m \u001b[0;34m\u001b[0m\u001b[0m\n\u001b[0;32m---> 10\u001b[0;31m \u001b[0mgs_results\u001b[0m\u001b[0;34m=\u001b[0m\u001b[0mgs\u001b[0m\u001b[0;34m.\u001b[0m\u001b[0mfit\u001b[0m\u001b[0;34m(\u001b[0m\u001b[0mX_train\u001b[0m\u001b[0;34m,\u001b[0m\u001b[0my_train\u001b[0m\u001b[0;34m)\u001b[0m\u001b[0;34m\u001b[0m\u001b[0;34m\u001b[0m\u001b[0m\n\u001b[0m\u001b[1;32m     11\u001b[0m \u001b[0mprint\u001b[0m\u001b[0;34m(\u001b[0m\u001b[0mgs_results\u001b[0m\u001b[0;34m.\u001b[0m\u001b[0mbest_params_\u001b[0m\u001b[0;34m)\u001b[0m\u001b[0;34m\u001b[0m\u001b[0;34m\u001b[0m\u001b[0m\n",
            "\u001b[0;32m/usr/local/lib/python3.8/dist-packages/sklearn/utils/validation.py\u001b[0m in \u001b[0;36minner_f\u001b[0;34m(*args, **kwargs)\u001b[0m\n\u001b[1;32m     61\u001b[0m             \u001b[0mextra_args\u001b[0m \u001b[0;34m=\u001b[0m \u001b[0mlen\u001b[0m\u001b[0;34m(\u001b[0m\u001b[0margs\u001b[0m\u001b[0;34m)\u001b[0m \u001b[0;34m-\u001b[0m \u001b[0mlen\u001b[0m\u001b[0;34m(\u001b[0m\u001b[0mall_args\u001b[0m\u001b[0;34m)\u001b[0m\u001b[0;34m\u001b[0m\u001b[0;34m\u001b[0m\u001b[0m\n\u001b[1;32m     62\u001b[0m             \u001b[0;32mif\u001b[0m \u001b[0mextra_args\u001b[0m \u001b[0;34m<=\u001b[0m \u001b[0;36m0\u001b[0m\u001b[0;34m:\u001b[0m\u001b[0;34m\u001b[0m\u001b[0;34m\u001b[0m\u001b[0m\n\u001b[0;32m---> 63\u001b[0;31m                 \u001b[0;32mreturn\u001b[0m \u001b[0mf\u001b[0m\u001b[0;34m(\u001b[0m\u001b[0;34m*\u001b[0m\u001b[0margs\u001b[0m\u001b[0;34m,\u001b[0m \u001b[0;34m**\u001b[0m\u001b[0mkwargs\u001b[0m\u001b[0;34m)\u001b[0m\u001b[0;34m\u001b[0m\u001b[0;34m\u001b[0m\u001b[0m\n\u001b[0m\u001b[1;32m     64\u001b[0m \u001b[0;34m\u001b[0m\u001b[0m\n\u001b[1;32m     65\u001b[0m             \u001b[0;31m# extra_args > 0\u001b[0m\u001b[0;34m\u001b[0m\u001b[0;34m\u001b[0m\u001b[0;34m\u001b[0m\u001b[0m\n",
            "\u001b[0;32m/usr/local/lib/python3.8/dist-packages/sklearn/model_selection/_search.py\u001b[0m in \u001b[0;36mfit\u001b[0;34m(self, X, y, groups, **fit_params)\u001b[0m\n\u001b[1;32m    839\u001b[0m                 \u001b[0;32mreturn\u001b[0m \u001b[0mresults\u001b[0m\u001b[0;34m\u001b[0m\u001b[0;34m\u001b[0m\u001b[0m\n\u001b[1;32m    840\u001b[0m \u001b[0;34m\u001b[0m\u001b[0m\n\u001b[0;32m--> 841\u001b[0;31m             \u001b[0mself\u001b[0m\u001b[0;34m.\u001b[0m\u001b[0m_run_search\u001b[0m\u001b[0;34m(\u001b[0m\u001b[0mevaluate_candidates\u001b[0m\u001b[0;34m)\u001b[0m\u001b[0;34m\u001b[0m\u001b[0;34m\u001b[0m\u001b[0m\n\u001b[0m\u001b[1;32m    842\u001b[0m \u001b[0;34m\u001b[0m\u001b[0m\n\u001b[1;32m    843\u001b[0m             \u001b[0;31m# multimetric is determined here because in the case of a callable\u001b[0m\u001b[0;34m\u001b[0m\u001b[0;34m\u001b[0m\u001b[0;34m\u001b[0m\u001b[0m\n",
            "\u001b[0;32m/usr/local/lib/python3.8/dist-packages/sklearn/model_selection/_search.py\u001b[0m in \u001b[0;36m_run_search\u001b[0;34m(self, evaluate_candidates)\u001b[0m\n\u001b[1;32m   1294\u001b[0m     \u001b[0;32mdef\u001b[0m \u001b[0m_run_search\u001b[0m\u001b[0;34m(\u001b[0m\u001b[0mself\u001b[0m\u001b[0;34m,\u001b[0m \u001b[0mevaluate_candidates\u001b[0m\u001b[0;34m)\u001b[0m\u001b[0;34m:\u001b[0m\u001b[0;34m\u001b[0m\u001b[0;34m\u001b[0m\u001b[0m\n\u001b[1;32m   1295\u001b[0m         \u001b[0;34m\"\"\"Search all candidates in param_grid\"\"\"\u001b[0m\u001b[0;34m\u001b[0m\u001b[0;34m\u001b[0m\u001b[0m\n\u001b[0;32m-> 1296\u001b[0;31m         \u001b[0mevaluate_candidates\u001b[0m\u001b[0;34m(\u001b[0m\u001b[0mParameterGrid\u001b[0m\u001b[0;34m(\u001b[0m\u001b[0mself\u001b[0m\u001b[0;34m.\u001b[0m\u001b[0mparam_grid\u001b[0m\u001b[0;34m)\u001b[0m\u001b[0;34m)\u001b[0m\u001b[0;34m\u001b[0m\u001b[0;34m\u001b[0m\u001b[0m\n\u001b[0m\u001b[1;32m   1297\u001b[0m \u001b[0;34m\u001b[0m\u001b[0m\n\u001b[1;32m   1298\u001b[0m \u001b[0;34m\u001b[0m\u001b[0m\n",
            "\u001b[0;32m/usr/local/lib/python3.8/dist-packages/sklearn/model_selection/_search.py\u001b[0m in \u001b[0;36mevaluate_candidates\u001b[0;34m(candidate_params, cv, more_results)\u001b[0m\n\u001b[1;32m    793\u001b[0m                               n_splits, n_candidates, n_candidates * n_splits))\n\u001b[1;32m    794\u001b[0m \u001b[0;34m\u001b[0m\u001b[0m\n\u001b[0;32m--> 795\u001b[0;31m                 out = parallel(delayed(_fit_and_score)(clone(base_estimator),\n\u001b[0m\u001b[1;32m    796\u001b[0m                                                        \u001b[0mX\u001b[0m\u001b[0;34m,\u001b[0m \u001b[0my\u001b[0m\u001b[0;34m,\u001b[0m\u001b[0;34m\u001b[0m\u001b[0;34m\u001b[0m\u001b[0m\n\u001b[1;32m    797\u001b[0m                                                        \u001b[0mtrain\u001b[0m\u001b[0;34m=\u001b[0m\u001b[0mtrain\u001b[0m\u001b[0;34m,\u001b[0m \u001b[0mtest\u001b[0m\u001b[0;34m=\u001b[0m\u001b[0mtest\u001b[0m\u001b[0;34m,\u001b[0m\u001b[0;34m\u001b[0m\u001b[0;34m\u001b[0m\u001b[0m\n",
            "\u001b[0;32m/usr/local/lib/python3.8/dist-packages/joblib/parallel.py\u001b[0m in \u001b[0;36m__call__\u001b[0;34m(self, iterable)\u001b[0m\n\u001b[1;32m   1096\u001b[0m \u001b[0;34m\u001b[0m\u001b[0m\n\u001b[1;32m   1097\u001b[0m             \u001b[0;32mwith\u001b[0m \u001b[0mself\u001b[0m\u001b[0;34m.\u001b[0m\u001b[0m_backend\u001b[0m\u001b[0;34m.\u001b[0m\u001b[0mretrieval_context\u001b[0m\u001b[0;34m(\u001b[0m\u001b[0;34m)\u001b[0m\u001b[0;34m:\u001b[0m\u001b[0;34m\u001b[0m\u001b[0;34m\u001b[0m\u001b[0m\n\u001b[0;32m-> 1098\u001b[0;31m                 \u001b[0mself\u001b[0m\u001b[0;34m.\u001b[0m\u001b[0mretrieve\u001b[0m\u001b[0;34m(\u001b[0m\u001b[0;34m)\u001b[0m\u001b[0;34m\u001b[0m\u001b[0;34m\u001b[0m\u001b[0m\n\u001b[0m\u001b[1;32m   1099\u001b[0m             \u001b[0;31m# Make sure that we get a last message telling us we are done\u001b[0m\u001b[0;34m\u001b[0m\u001b[0;34m\u001b[0m\u001b[0;34m\u001b[0m\u001b[0m\n\u001b[1;32m   1100\u001b[0m             \u001b[0melapsed_time\u001b[0m \u001b[0;34m=\u001b[0m \u001b[0mtime\u001b[0m\u001b[0;34m.\u001b[0m\u001b[0mtime\u001b[0m\u001b[0;34m(\u001b[0m\u001b[0;34m)\u001b[0m \u001b[0;34m-\u001b[0m \u001b[0mself\u001b[0m\u001b[0;34m.\u001b[0m\u001b[0m_start_time\u001b[0m\u001b[0;34m\u001b[0m\u001b[0;34m\u001b[0m\u001b[0m\n",
            "\u001b[0;32m/usr/local/lib/python3.8/dist-packages/joblib/parallel.py\u001b[0m in \u001b[0;36mretrieve\u001b[0;34m(self)\u001b[0m\n\u001b[1;32m    973\u001b[0m             \u001b[0;32mtry\u001b[0m\u001b[0;34m:\u001b[0m\u001b[0;34m\u001b[0m\u001b[0;34m\u001b[0m\u001b[0m\n\u001b[1;32m    974\u001b[0m                 \u001b[0;32mif\u001b[0m \u001b[0mgetattr\u001b[0m\u001b[0;34m(\u001b[0m\u001b[0mself\u001b[0m\u001b[0;34m.\u001b[0m\u001b[0m_backend\u001b[0m\u001b[0;34m,\u001b[0m \u001b[0;34m'supports_timeout'\u001b[0m\u001b[0;34m,\u001b[0m \u001b[0;32mFalse\u001b[0m\u001b[0;34m)\u001b[0m\u001b[0;34m:\u001b[0m\u001b[0;34m\u001b[0m\u001b[0;34m\u001b[0m\u001b[0m\n\u001b[0;32m--> 975\u001b[0;31m                     \u001b[0mself\u001b[0m\u001b[0;34m.\u001b[0m\u001b[0m_output\u001b[0m\u001b[0;34m.\u001b[0m\u001b[0mextend\u001b[0m\u001b[0;34m(\u001b[0m\u001b[0mjob\u001b[0m\u001b[0;34m.\u001b[0m\u001b[0mget\u001b[0m\u001b[0;34m(\u001b[0m\u001b[0mtimeout\u001b[0m\u001b[0;34m=\u001b[0m\u001b[0mself\u001b[0m\u001b[0;34m.\u001b[0m\u001b[0mtimeout\u001b[0m\u001b[0;34m)\u001b[0m\u001b[0;34m)\u001b[0m\u001b[0;34m\u001b[0m\u001b[0;34m\u001b[0m\u001b[0m\n\u001b[0m\u001b[1;32m    976\u001b[0m                 \u001b[0;32melse\u001b[0m\u001b[0;34m:\u001b[0m\u001b[0;34m\u001b[0m\u001b[0;34m\u001b[0m\u001b[0m\n\u001b[1;32m    977\u001b[0m                     \u001b[0mself\u001b[0m\u001b[0;34m.\u001b[0m\u001b[0m_output\u001b[0m\u001b[0;34m.\u001b[0m\u001b[0mextend\u001b[0m\u001b[0;34m(\u001b[0m\u001b[0mjob\u001b[0m\u001b[0;34m.\u001b[0m\u001b[0mget\u001b[0m\u001b[0;34m(\u001b[0m\u001b[0;34m)\u001b[0m\u001b[0;34m)\u001b[0m\u001b[0;34m\u001b[0m\u001b[0;34m\u001b[0m\u001b[0m\n",
            "\u001b[0;32m/usr/local/lib/python3.8/dist-packages/joblib/_parallel_backends.py\u001b[0m in \u001b[0;36mwrap_future_result\u001b[0;34m(future, timeout)\u001b[0m\n\u001b[1;32m    565\u001b[0m         AsyncResults.get from multiprocessing.\"\"\"\n\u001b[1;32m    566\u001b[0m         \u001b[0;32mtry\u001b[0m\u001b[0;34m:\u001b[0m\u001b[0;34m\u001b[0m\u001b[0;34m\u001b[0m\u001b[0m\n\u001b[0;32m--> 567\u001b[0;31m             \u001b[0;32mreturn\u001b[0m \u001b[0mfuture\u001b[0m\u001b[0;34m.\u001b[0m\u001b[0mresult\u001b[0m\u001b[0;34m(\u001b[0m\u001b[0mtimeout\u001b[0m\u001b[0;34m=\u001b[0m\u001b[0mtimeout\u001b[0m\u001b[0;34m)\u001b[0m\u001b[0;34m\u001b[0m\u001b[0;34m\u001b[0m\u001b[0m\n\u001b[0m\u001b[1;32m    568\u001b[0m         \u001b[0;32mexcept\u001b[0m \u001b[0mCfTimeoutError\u001b[0m \u001b[0;32mas\u001b[0m \u001b[0me\u001b[0m\u001b[0;34m:\u001b[0m\u001b[0;34m\u001b[0m\u001b[0;34m\u001b[0m\u001b[0m\n\u001b[1;32m    569\u001b[0m             \u001b[0;32mraise\u001b[0m \u001b[0mTimeoutError\u001b[0m \u001b[0;32mfrom\u001b[0m \u001b[0me\u001b[0m\u001b[0;34m\u001b[0m\u001b[0;34m\u001b[0m\u001b[0m\n",
            "\u001b[0;32m/usr/lib/python3.8/concurrent/futures/_base.py\u001b[0m in \u001b[0;36mresult\u001b[0;34m(self, timeout)\u001b[0m\n\u001b[1;32m    437\u001b[0m                     \u001b[0;32mreturn\u001b[0m \u001b[0mself\u001b[0m\u001b[0;34m.\u001b[0m\u001b[0m__get_result\u001b[0m\u001b[0;34m(\u001b[0m\u001b[0;34m)\u001b[0m\u001b[0;34m\u001b[0m\u001b[0;34m\u001b[0m\u001b[0m\n\u001b[1;32m    438\u001b[0m \u001b[0;34m\u001b[0m\u001b[0m\n\u001b[0;32m--> 439\u001b[0;31m                 \u001b[0mself\u001b[0m\u001b[0;34m.\u001b[0m\u001b[0m_condition\u001b[0m\u001b[0;34m.\u001b[0m\u001b[0mwait\u001b[0m\u001b[0;34m(\u001b[0m\u001b[0mtimeout\u001b[0m\u001b[0;34m)\u001b[0m\u001b[0;34m\u001b[0m\u001b[0;34m\u001b[0m\u001b[0m\n\u001b[0m\u001b[1;32m    440\u001b[0m \u001b[0;34m\u001b[0m\u001b[0m\n\u001b[1;32m    441\u001b[0m                 \u001b[0;32mif\u001b[0m \u001b[0mself\u001b[0m\u001b[0;34m.\u001b[0m\u001b[0m_state\u001b[0m \u001b[0;32min\u001b[0m \u001b[0;34m[\u001b[0m\u001b[0mCANCELLED\u001b[0m\u001b[0;34m,\u001b[0m \u001b[0mCANCELLED_AND_NOTIFIED\u001b[0m\u001b[0;34m]\u001b[0m\u001b[0;34m:\u001b[0m\u001b[0;34m\u001b[0m\u001b[0;34m\u001b[0m\u001b[0m\n",
            "\u001b[0;32m/usr/lib/python3.8/threading.py\u001b[0m in \u001b[0;36mwait\u001b[0;34m(self, timeout)\u001b[0m\n\u001b[1;32m    300\u001b[0m         \u001b[0;32mtry\u001b[0m\u001b[0;34m:\u001b[0m    \u001b[0;31m# restore state no matter what (e.g., KeyboardInterrupt)\u001b[0m\u001b[0;34m\u001b[0m\u001b[0;34m\u001b[0m\u001b[0m\n\u001b[1;32m    301\u001b[0m             \u001b[0;32mif\u001b[0m \u001b[0mtimeout\u001b[0m \u001b[0;32mis\u001b[0m \u001b[0;32mNone\u001b[0m\u001b[0;34m:\u001b[0m\u001b[0;34m\u001b[0m\u001b[0;34m\u001b[0m\u001b[0m\n\u001b[0;32m--> 302\u001b[0;31m                 \u001b[0mwaiter\u001b[0m\u001b[0;34m.\u001b[0m\u001b[0macquire\u001b[0m\u001b[0;34m(\u001b[0m\u001b[0;34m)\u001b[0m\u001b[0;34m\u001b[0m\u001b[0;34m\u001b[0m\u001b[0m\n\u001b[0m\u001b[1;32m    303\u001b[0m                 \u001b[0mgotit\u001b[0m \u001b[0;34m=\u001b[0m \u001b[0;32mTrue\u001b[0m\u001b[0;34m\u001b[0m\u001b[0;34m\u001b[0m\u001b[0m\n\u001b[1;32m    304\u001b[0m             \u001b[0;32melse\u001b[0m\u001b[0;34m:\u001b[0m\u001b[0;34m\u001b[0m\u001b[0;34m\u001b[0m\u001b[0m\n",
            "\u001b[0;31mKeyboardInterrupt\u001b[0m: "
          ]
        }
      ]
    },
    {
      "cell_type": "markdown",
      "source": [
        "# Arbol de decision"
      ],
      "metadata": {
        "id": "uf9H7bNKfmwJ"
      }
    },
    {
      "cell_type": "code",
      "source": [
        "type(y_train)"
      ],
      "metadata": {
        "colab": {
          "base_uri": "https://localhost:8080/"
        },
        "id": "ABjlligxmE08",
        "outputId": "e65a52a1-fa7e-494d-b447-8effc72da836"
      },
      "execution_count": 24,
      "outputs": [
        {
          "output_type": "execute_result",
          "data": {
            "text/plain": [
              "pandas.core.series.Series"
            ]
          },
          "metadata": {},
          "execution_count": 24
        }
      ]
    },
    {
      "cell_type": "code",
      "source": [
        "df[df['category']=='benign'].describe()"
      ],
      "metadata": {
        "colab": {
          "base_uri": "https://localhost:8080/",
          "height": 364
        },
        "id": "hGYh6k5CnXaL",
        "outputId": "5b110a1a-0ebf-4515-dec2-0f8f3316330b"
      },
      "execution_count": 36,
      "outputs": [
        {
          "output_type": "execute_result",
          "data": {
            "text/plain": [
              "       subdomains_number         digits         length     num_dashes  \\\n",
              "count      571268.000000  571268.000000  571268.000000  571268.000000   \n",
              "mean            2.071473       0.189065       9.918824       0.121488   \n",
              "std             0.259374       0.767918       4.267554       0.375681   \n",
              "min             2.000000       0.000000       1.000000       0.000000   \n",
              "25%             2.000000       0.000000       7.000000       0.000000   \n",
              "50%             2.000000       0.000000       9.000000       0.000000   \n",
              "75%             2.000000       0.000000      12.000000       0.000000   \n",
              "max             4.000000      39.000000      63.000000      25.000000   \n",
              "\n",
              "             entropy       ratio_vc          3gram          4gram  \\\n",
              "count  571268.000000  571268.000000  571268.000000  571268.000000   \n",
              "mean        2.779243       0.596386       7.918887       6.920575   \n",
              "std         0.507418       0.336913       4.267430       4.264495   \n",
              "min        -0.000000       0.000000       0.000000       0.000000   \n",
              "25%         2.503258       0.400000       5.000000       4.000000   \n",
              "50%         2.845351       0.571429       7.000000       6.000000   \n",
              "75%         3.128085       0.750000      10.000000       9.000000   \n",
              "max         4.638563      19.666667      61.000000      60.000000   \n",
              "\n",
              "               5gram          6gram  \n",
              "count  571268.000000  571268.000000  \n",
              "mean        5.940865       5.008919  \n",
              "std         4.233788       4.144850  \n",
              "min         0.000000       0.000000  \n",
              "25%         3.000000       2.000000  \n",
              "50%         5.000000       4.000000  \n",
              "75%         8.000000       7.000000  \n",
              "max        59.000000      58.000000  "
            ],
            "text/html": [
              "\n",
              "  <div id=\"df-e3a0e667-1826-419c-9506-52202de1a93c\">\n",
              "    <div class=\"colab-df-container\">\n",
              "      <div>\n",
              "<style scoped>\n",
              "    .dataframe tbody tr th:only-of-type {\n",
              "        vertical-align: middle;\n",
              "    }\n",
              "\n",
              "    .dataframe tbody tr th {\n",
              "        vertical-align: top;\n",
              "    }\n",
              "\n",
              "    .dataframe thead th {\n",
              "        text-align: right;\n",
              "    }\n",
              "</style>\n",
              "<table border=\"1\" class=\"dataframe\">\n",
              "  <thead>\n",
              "    <tr style=\"text-align: right;\">\n",
              "      <th></th>\n",
              "      <th>subdomains_number</th>\n",
              "      <th>digits</th>\n",
              "      <th>length</th>\n",
              "      <th>num_dashes</th>\n",
              "      <th>entropy</th>\n",
              "      <th>ratio_vc</th>\n",
              "      <th>3gram</th>\n",
              "      <th>4gram</th>\n",
              "      <th>5gram</th>\n",
              "      <th>6gram</th>\n",
              "    </tr>\n",
              "  </thead>\n",
              "  <tbody>\n",
              "    <tr>\n",
              "      <th>count</th>\n",
              "      <td>571268.000000</td>\n",
              "      <td>571268.000000</td>\n",
              "      <td>571268.000000</td>\n",
              "      <td>571268.000000</td>\n",
              "      <td>571268.000000</td>\n",
              "      <td>571268.000000</td>\n",
              "      <td>571268.000000</td>\n",
              "      <td>571268.000000</td>\n",
              "      <td>571268.000000</td>\n",
              "      <td>571268.000000</td>\n",
              "    </tr>\n",
              "    <tr>\n",
              "      <th>mean</th>\n",
              "      <td>2.071473</td>\n",
              "      <td>0.189065</td>\n",
              "      <td>9.918824</td>\n",
              "      <td>0.121488</td>\n",
              "      <td>2.779243</td>\n",
              "      <td>0.596386</td>\n",
              "      <td>7.918887</td>\n",
              "      <td>6.920575</td>\n",
              "      <td>5.940865</td>\n",
              "      <td>5.008919</td>\n",
              "    </tr>\n",
              "    <tr>\n",
              "      <th>std</th>\n",
              "      <td>0.259374</td>\n",
              "      <td>0.767918</td>\n",
              "      <td>4.267554</td>\n",
              "      <td>0.375681</td>\n",
              "      <td>0.507418</td>\n",
              "      <td>0.336913</td>\n",
              "      <td>4.267430</td>\n",
              "      <td>4.264495</td>\n",
              "      <td>4.233788</td>\n",
              "      <td>4.144850</td>\n",
              "    </tr>\n",
              "    <tr>\n",
              "      <th>min</th>\n",
              "      <td>2.000000</td>\n",
              "      <td>0.000000</td>\n",
              "      <td>1.000000</td>\n",
              "      <td>0.000000</td>\n",
              "      <td>-0.000000</td>\n",
              "      <td>0.000000</td>\n",
              "      <td>0.000000</td>\n",
              "      <td>0.000000</td>\n",
              "      <td>0.000000</td>\n",
              "      <td>0.000000</td>\n",
              "    </tr>\n",
              "    <tr>\n",
              "      <th>25%</th>\n",
              "      <td>2.000000</td>\n",
              "      <td>0.000000</td>\n",
              "      <td>7.000000</td>\n",
              "      <td>0.000000</td>\n",
              "      <td>2.503258</td>\n",
              "      <td>0.400000</td>\n",
              "      <td>5.000000</td>\n",
              "      <td>4.000000</td>\n",
              "      <td>3.000000</td>\n",
              "      <td>2.000000</td>\n",
              "    </tr>\n",
              "    <tr>\n",
              "      <th>50%</th>\n",
              "      <td>2.000000</td>\n",
              "      <td>0.000000</td>\n",
              "      <td>9.000000</td>\n",
              "      <td>0.000000</td>\n",
              "      <td>2.845351</td>\n",
              "      <td>0.571429</td>\n",
              "      <td>7.000000</td>\n",
              "      <td>6.000000</td>\n",
              "      <td>5.000000</td>\n",
              "      <td>4.000000</td>\n",
              "    </tr>\n",
              "    <tr>\n",
              "      <th>75%</th>\n",
              "      <td>2.000000</td>\n",
              "      <td>0.000000</td>\n",
              "      <td>12.000000</td>\n",
              "      <td>0.000000</td>\n",
              "      <td>3.128085</td>\n",
              "      <td>0.750000</td>\n",
              "      <td>10.000000</td>\n",
              "      <td>9.000000</td>\n",
              "      <td>8.000000</td>\n",
              "      <td>7.000000</td>\n",
              "    </tr>\n",
              "    <tr>\n",
              "      <th>max</th>\n",
              "      <td>4.000000</td>\n",
              "      <td>39.000000</td>\n",
              "      <td>63.000000</td>\n",
              "      <td>25.000000</td>\n",
              "      <td>4.638563</td>\n",
              "      <td>19.666667</td>\n",
              "      <td>61.000000</td>\n",
              "      <td>60.000000</td>\n",
              "      <td>59.000000</td>\n",
              "      <td>58.000000</td>\n",
              "    </tr>\n",
              "  </tbody>\n",
              "</table>\n",
              "</div>\n",
              "      <button class=\"colab-df-convert\" onclick=\"convertToInteractive('df-e3a0e667-1826-419c-9506-52202de1a93c')\"\n",
              "              title=\"Convert this dataframe to an interactive table.\"\n",
              "              style=\"display:none;\">\n",
              "        \n",
              "  <svg xmlns=\"http://www.w3.org/2000/svg\" height=\"24px\"viewBox=\"0 0 24 24\"\n",
              "       width=\"24px\">\n",
              "    <path d=\"M0 0h24v24H0V0z\" fill=\"none\"/>\n",
              "    <path d=\"M18.56 5.44l.94 2.06.94-2.06 2.06-.94-2.06-.94-.94-2.06-.94 2.06-2.06.94zm-11 1L8.5 8.5l.94-2.06 2.06-.94-2.06-.94L8.5 2.5l-.94 2.06-2.06.94zm10 10l.94 2.06.94-2.06 2.06-.94-2.06-.94-.94-2.06-.94 2.06-2.06.94z\"/><path d=\"M17.41 7.96l-1.37-1.37c-.4-.4-.92-.59-1.43-.59-.52 0-1.04.2-1.43.59L10.3 9.45l-7.72 7.72c-.78.78-.78 2.05 0 2.83L4 21.41c.39.39.9.59 1.41.59.51 0 1.02-.2 1.41-.59l7.78-7.78 2.81-2.81c.8-.78.8-2.07 0-2.86zM5.41 20L4 18.59l7.72-7.72 1.47 1.35L5.41 20z\"/>\n",
              "  </svg>\n",
              "      </button>\n",
              "      \n",
              "  <style>\n",
              "    .colab-df-container {\n",
              "      display:flex;\n",
              "      flex-wrap:wrap;\n",
              "      gap: 12px;\n",
              "    }\n",
              "\n",
              "    .colab-df-convert {\n",
              "      background-color: #E8F0FE;\n",
              "      border: none;\n",
              "      border-radius: 50%;\n",
              "      cursor: pointer;\n",
              "      display: none;\n",
              "      fill: #1967D2;\n",
              "      height: 32px;\n",
              "      padding: 0 0 0 0;\n",
              "      width: 32px;\n",
              "    }\n",
              "\n",
              "    .colab-df-convert:hover {\n",
              "      background-color: #E2EBFA;\n",
              "      box-shadow: 0px 1px 2px rgba(60, 64, 67, 0.3), 0px 1px 3px 1px rgba(60, 64, 67, 0.15);\n",
              "      fill: #174EA6;\n",
              "    }\n",
              "\n",
              "    [theme=dark] .colab-df-convert {\n",
              "      background-color: #3B4455;\n",
              "      fill: #D2E3FC;\n",
              "    }\n",
              "\n",
              "    [theme=dark] .colab-df-convert:hover {\n",
              "      background-color: #434B5C;\n",
              "      box-shadow: 0px 1px 3px 1px rgba(0, 0, 0, 0.15);\n",
              "      filter: drop-shadow(0px 1px 2px rgba(0, 0, 0, 0.3));\n",
              "      fill: #FFFFFF;\n",
              "    }\n",
              "  </style>\n",
              "\n",
              "      <script>\n",
              "        const buttonEl =\n",
              "          document.querySelector('#df-e3a0e667-1826-419c-9506-52202de1a93c button.colab-df-convert');\n",
              "        buttonEl.style.display =\n",
              "          google.colab.kernel.accessAllowed ? 'block' : 'none';\n",
              "\n",
              "        async function convertToInteractive(key) {\n",
              "          const element = document.querySelector('#df-e3a0e667-1826-419c-9506-52202de1a93c');\n",
              "          const dataTable =\n",
              "            await google.colab.kernel.invokeFunction('convertToInteractive',\n",
              "                                                     [key], {});\n",
              "          if (!dataTable) return;\n",
              "\n",
              "          const docLinkHtml = 'Like what you see? Visit the ' +\n",
              "            '<a target=\"_blank\" href=https://colab.research.google.com/notebooks/data_table.ipynb>data table notebook</a>'\n",
              "            + ' to learn more about interactive tables.';\n",
              "          element.innerHTML = '';\n",
              "          dataTable['output_type'] = 'display_data';\n",
              "          await google.colab.output.renderOutput(dataTable, element);\n",
              "          const docLink = document.createElement('div');\n",
              "          docLink.innerHTML = docLinkHtml;\n",
              "          element.appendChild(docLink);\n",
              "        }\n",
              "      </script>\n",
              "    </div>\n",
              "  </div>\n",
              "  "
            ]
          },
          "metadata": {},
          "execution_count": 36
        }
      ]
    },
    {
      "cell_type": "code",
      "source": [
        "df[df['category']=='malign'].describe()"
      ],
      "metadata": {
        "colab": {
          "base_uri": "https://localhost:8080/",
          "height": 364
        },
        "id": "tn-XrPVsnqKH",
        "outputId": "e8e71d9f-6886-467f-83d1-9262444f8d5a"
      },
      "execution_count": 37,
      "outputs": [
        {
          "output_type": "execute_result",
          "data": {
            "text/plain": [
              "       subdomains_number         digits         length     num_dashes  \\\n",
              "count      571268.000000  571268.000000  571268.000000  571268.000000   \n",
              "mean            2.044877       2.578683      13.889863       0.017001   \n",
              "std             0.207043       5.412918       7.597795       0.467018   \n",
              "min             2.000000       0.000000       2.000000       0.000000   \n",
              "25%             2.000000       0.000000       9.000000       0.000000   \n",
              "50%             2.000000       0.000000      12.000000       0.000000   \n",
              "75%             2.000000       3.000000      16.000000       0.000000   \n",
              "max             4.000000      30.000000      54.000000      26.000000   \n",
              "\n",
              "             entropy       ratio_vc          3gram          4gram  \\\n",
              "count  571268.000000  571268.000000  571268.000000  571268.000000   \n",
              "mean        3.054487       0.314770      11.025713       4.202940   \n",
              "std         0.598991       0.312404       6.657508       3.771575   \n",
              "min        -0.000000       0.000000       0.000000       0.000000   \n",
              "25%         2.750000       0.111111       6.000000       1.000000   \n",
              "50%         3.095795       0.230769      10.000000       3.000000   \n",
              "75%         3.454822       0.444444      14.000000       6.000000   \n",
              "max         4.879506       9.000000      52.000000      28.000000   \n",
              "\n",
              "               5gram          6gram  \n",
              "count  571268.000000  571268.000000  \n",
              "mean        1.242550       0.561467  \n",
              "std         2.942663       1.972232  \n",
              "min         0.000000       0.000000  \n",
              "25%         0.000000       0.000000  \n",
              "50%         0.000000       0.000000  \n",
              "75%         1.000000       0.000000  \n",
              "max        24.000000      22.000000  "
            ],
            "text/html": [
              "\n",
              "  <div id=\"df-0c018ad3-25fa-4ffb-9d29-ac52e92d3dde\">\n",
              "    <div class=\"colab-df-container\">\n",
              "      <div>\n",
              "<style scoped>\n",
              "    .dataframe tbody tr th:only-of-type {\n",
              "        vertical-align: middle;\n",
              "    }\n",
              "\n",
              "    .dataframe tbody tr th {\n",
              "        vertical-align: top;\n",
              "    }\n",
              "\n",
              "    .dataframe thead th {\n",
              "        text-align: right;\n",
              "    }\n",
              "</style>\n",
              "<table border=\"1\" class=\"dataframe\">\n",
              "  <thead>\n",
              "    <tr style=\"text-align: right;\">\n",
              "      <th></th>\n",
              "      <th>subdomains_number</th>\n",
              "      <th>digits</th>\n",
              "      <th>length</th>\n",
              "      <th>num_dashes</th>\n",
              "      <th>entropy</th>\n",
              "      <th>ratio_vc</th>\n",
              "      <th>3gram</th>\n",
              "      <th>4gram</th>\n",
              "      <th>5gram</th>\n",
              "      <th>6gram</th>\n",
              "    </tr>\n",
              "  </thead>\n",
              "  <tbody>\n",
              "    <tr>\n",
              "      <th>count</th>\n",
              "      <td>571268.000000</td>\n",
              "      <td>571268.000000</td>\n",
              "      <td>571268.000000</td>\n",
              "      <td>571268.000000</td>\n",
              "      <td>571268.000000</td>\n",
              "      <td>571268.000000</td>\n",
              "      <td>571268.000000</td>\n",
              "      <td>571268.000000</td>\n",
              "      <td>571268.000000</td>\n",
              "      <td>571268.000000</td>\n",
              "    </tr>\n",
              "    <tr>\n",
              "      <th>mean</th>\n",
              "      <td>2.044877</td>\n",
              "      <td>2.578683</td>\n",
              "      <td>13.889863</td>\n",
              "      <td>0.017001</td>\n",
              "      <td>3.054487</td>\n",
              "      <td>0.314770</td>\n",
              "      <td>11.025713</td>\n",
              "      <td>4.202940</td>\n",
              "      <td>1.242550</td>\n",
              "      <td>0.561467</td>\n",
              "    </tr>\n",
              "    <tr>\n",
              "      <th>std</th>\n",
              "      <td>0.207043</td>\n",
              "      <td>5.412918</td>\n",
              "      <td>7.597795</td>\n",
              "      <td>0.467018</td>\n",
              "      <td>0.598991</td>\n",
              "      <td>0.312404</td>\n",
              "      <td>6.657508</td>\n",
              "      <td>3.771575</td>\n",
              "      <td>2.942663</td>\n",
              "      <td>1.972232</td>\n",
              "    </tr>\n",
              "    <tr>\n",
              "      <th>min</th>\n",
              "      <td>2.000000</td>\n",
              "      <td>0.000000</td>\n",
              "      <td>2.000000</td>\n",
              "      <td>0.000000</td>\n",
              "      <td>-0.000000</td>\n",
              "      <td>0.000000</td>\n",
              "      <td>0.000000</td>\n",
              "      <td>0.000000</td>\n",
              "      <td>0.000000</td>\n",
              "      <td>0.000000</td>\n",
              "    </tr>\n",
              "    <tr>\n",
              "      <th>25%</th>\n",
              "      <td>2.000000</td>\n",
              "      <td>0.000000</td>\n",
              "      <td>9.000000</td>\n",
              "      <td>0.000000</td>\n",
              "      <td>2.750000</td>\n",
              "      <td>0.111111</td>\n",
              "      <td>6.000000</td>\n",
              "      <td>1.000000</td>\n",
              "      <td>0.000000</td>\n",
              "      <td>0.000000</td>\n",
              "    </tr>\n",
              "    <tr>\n",
              "      <th>50%</th>\n",
              "      <td>2.000000</td>\n",
              "      <td>0.000000</td>\n",
              "      <td>12.000000</td>\n",
              "      <td>0.000000</td>\n",
              "      <td>3.095795</td>\n",
              "      <td>0.230769</td>\n",
              "      <td>10.000000</td>\n",
              "      <td>3.000000</td>\n",
              "      <td>0.000000</td>\n",
              "      <td>0.000000</td>\n",
              "    </tr>\n",
              "    <tr>\n",
              "      <th>75%</th>\n",
              "      <td>2.000000</td>\n",
              "      <td>3.000000</td>\n",
              "      <td>16.000000</td>\n",
              "      <td>0.000000</td>\n",
              "      <td>3.454822</td>\n",
              "      <td>0.444444</td>\n",
              "      <td>14.000000</td>\n",
              "      <td>6.000000</td>\n",
              "      <td>1.000000</td>\n",
              "      <td>0.000000</td>\n",
              "    </tr>\n",
              "    <tr>\n",
              "      <th>max</th>\n",
              "      <td>4.000000</td>\n",
              "      <td>30.000000</td>\n",
              "      <td>54.000000</td>\n",
              "      <td>26.000000</td>\n",
              "      <td>4.879506</td>\n",
              "      <td>9.000000</td>\n",
              "      <td>52.000000</td>\n",
              "      <td>28.000000</td>\n",
              "      <td>24.000000</td>\n",
              "      <td>22.000000</td>\n",
              "    </tr>\n",
              "  </tbody>\n",
              "</table>\n",
              "</div>\n",
              "      <button class=\"colab-df-convert\" onclick=\"convertToInteractive('df-0c018ad3-25fa-4ffb-9d29-ac52e92d3dde')\"\n",
              "              title=\"Convert this dataframe to an interactive table.\"\n",
              "              style=\"display:none;\">\n",
              "        \n",
              "  <svg xmlns=\"http://www.w3.org/2000/svg\" height=\"24px\"viewBox=\"0 0 24 24\"\n",
              "       width=\"24px\">\n",
              "    <path d=\"M0 0h24v24H0V0z\" fill=\"none\"/>\n",
              "    <path d=\"M18.56 5.44l.94 2.06.94-2.06 2.06-.94-2.06-.94-.94-2.06-.94 2.06-2.06.94zm-11 1L8.5 8.5l.94-2.06 2.06-.94-2.06-.94L8.5 2.5l-.94 2.06-2.06.94zm10 10l.94 2.06.94-2.06 2.06-.94-2.06-.94-.94-2.06-.94 2.06-2.06.94z\"/><path d=\"M17.41 7.96l-1.37-1.37c-.4-.4-.92-.59-1.43-.59-.52 0-1.04.2-1.43.59L10.3 9.45l-7.72 7.72c-.78.78-.78 2.05 0 2.83L4 21.41c.39.39.9.59 1.41.59.51 0 1.02-.2 1.41-.59l7.78-7.78 2.81-2.81c.8-.78.8-2.07 0-2.86zM5.41 20L4 18.59l7.72-7.72 1.47 1.35L5.41 20z\"/>\n",
              "  </svg>\n",
              "      </button>\n",
              "      \n",
              "  <style>\n",
              "    .colab-df-container {\n",
              "      display:flex;\n",
              "      flex-wrap:wrap;\n",
              "      gap: 12px;\n",
              "    }\n",
              "\n",
              "    .colab-df-convert {\n",
              "      background-color: #E8F0FE;\n",
              "      border: none;\n",
              "      border-radius: 50%;\n",
              "      cursor: pointer;\n",
              "      display: none;\n",
              "      fill: #1967D2;\n",
              "      height: 32px;\n",
              "      padding: 0 0 0 0;\n",
              "      width: 32px;\n",
              "    }\n",
              "\n",
              "    .colab-df-convert:hover {\n",
              "      background-color: #E2EBFA;\n",
              "      box-shadow: 0px 1px 2px rgba(60, 64, 67, 0.3), 0px 1px 3px 1px rgba(60, 64, 67, 0.15);\n",
              "      fill: #174EA6;\n",
              "    }\n",
              "\n",
              "    [theme=dark] .colab-df-convert {\n",
              "      background-color: #3B4455;\n",
              "      fill: #D2E3FC;\n",
              "    }\n",
              "\n",
              "    [theme=dark] .colab-df-convert:hover {\n",
              "      background-color: #434B5C;\n",
              "      box-shadow: 0px 1px 3px 1px rgba(0, 0, 0, 0.15);\n",
              "      filter: drop-shadow(0px 1px 2px rgba(0, 0, 0, 0.3));\n",
              "      fill: #FFFFFF;\n",
              "    }\n",
              "  </style>\n",
              "\n",
              "      <script>\n",
              "        const buttonEl =\n",
              "          document.querySelector('#df-0c018ad3-25fa-4ffb-9d29-ac52e92d3dde button.colab-df-convert');\n",
              "        buttonEl.style.display =\n",
              "          google.colab.kernel.accessAllowed ? 'block' : 'none';\n",
              "\n",
              "        async function convertToInteractive(key) {\n",
              "          const element = document.querySelector('#df-0c018ad3-25fa-4ffb-9d29-ac52e92d3dde');\n",
              "          const dataTable =\n",
              "            await google.colab.kernel.invokeFunction('convertToInteractive',\n",
              "                                                     [key], {});\n",
              "          if (!dataTable) return;\n",
              "\n",
              "          const docLinkHtml = 'Like what you see? Visit the ' +\n",
              "            '<a target=\"_blank\" href=https://colab.research.google.com/notebooks/data_table.ipynb>data table notebook</a>'\n",
              "            + ' to learn more about interactive tables.';\n",
              "          element.innerHTML = '';\n",
              "          dataTable['output_type'] = 'display_data';\n",
              "          await google.colab.output.renderOutput(dataTable, element);\n",
              "          const docLink = document.createElement('div');\n",
              "          docLink.innerHTML = docLinkHtml;\n",
              "          element.appendChild(docLink);\n",
              "        }\n",
              "      </script>\n",
              "    </div>\n",
              "  </div>\n",
              "  "
            ]
          },
          "metadata": {},
          "execution_count": 37
        }
      ]
    },
    {
      "cell_type": "code",
      "source": [
        "from sklearn.tree import DecisionTreeClassifier\n",
        "from sklearn import tree\n",
        "from sklearn import metrics\n",
        "import graphviz \n",
        "# Instanciamos DecisionTreeClassifier de sklearn\n",
        "dt_cls = DecisionTreeClassifier(max_depth = 3,  # Máxima profundidad del árbol\n",
        "                             random_state = 42) # Semilla pseudoaleatorios\n",
        "# Entrenamos el modelo\n",
        "dt_cls.fit(X_train, y_train)\n",
        "\n",
        "# Representamos el arbol\n",
        "fig, axes = plt.subplots(nrows = 1,ncols = 1,figsize = (3,3), dpi=300)\n",
        "'''\n",
        "tree.plot_tree(dt_cls,feature_names = X_train.columns, \n",
        "               class_names=['malign','benign'],\n",
        "               filled = True,ax=axes);\n",
        "'''\n",
        "\n",
        "crossv=cross_val_score(dt_cls, X_train, y_train, cv = 5).mean()\n",
        "print (\"Cross validation score para el conjunto de entrenamiento: \"+str(crossv))\n",
        "\n",
        "y_test_pred = dt_cls.predict(X_test)\n",
        "print(\"Accuracy para el conjunto de test:\", sklearn.metrics.accuracy_score(y_test, y_test_pred))\n",
        "\n",
        "# Guardar como PDF el Graphviz\n",
        "'''\n",
        "dot_data = tree.export_graphviz(dt_cls, out_file=None) \n",
        "graph = graphviz.Source(dot_data) \n",
        "graph.render(\"dga_decision_tree\") \n",
        "'''\n",
        "\n",
        "\n",
        "dot_data = tree.export_graphviz(dt_cls, out_file=None, \n",
        "                                feature_names=X_train.columns,  \n",
        "                                class_names=['malign','benign'],  \n",
        "                                filled=True, rounded=True,  \n",
        "                                special_characters=True)  \n",
        "graph = graphviz.Source(dot_data)  \n",
        "graph "
      ],
      "metadata": {
        "colab": {
          "base_uri": "https://localhost:8080/",
          "height": 1000
        },
        "id": "h5VmOsF_fmDM",
        "outputId": "5920b7b0-0ece-421d-d96c-ac8edc91b2dc"
      },
      "execution_count": 61,
      "outputs": [
        {
          "output_type": "stream",
          "name": "stdout",
          "text": [
            "Cross validation score para el conjunto de entrenamiento: 0.7883150171808939\n",
            "Accuracy para el conjunto de test: 0.7882699949235913\n"
          ]
        },
        {
          "output_type": "execute_result",
          "data": {
            "text/plain": [
              "<graphviz.files.Source at 0x7f18afa516d0>"
            ],
            "image/svg+xml": "<?xml version=\"1.0\" encoding=\"UTF-8\" standalone=\"no\"?>\n<!DOCTYPE svg PUBLIC \"-//W3C//DTD SVG 1.1//EN\"\n \"http://www.w3.org/Graphics/SVG/1.1/DTD/svg11.dtd\">\n<!-- Generated by graphviz version 2.40.1 (20161225.0304)\n -->\n<!-- Title: Tree Pages: 1 -->\n<svg width=\"1430pt\" height=\"433pt\"\n viewBox=\"0.00 0.00 1430.00 433.00\" xmlns=\"http://www.w3.org/2000/svg\" xmlns:xlink=\"http://www.w3.org/1999/xlink\">\n<g id=\"graph0\" class=\"graph\" transform=\"scale(1 1) rotate(0) translate(4 429)\">\n<title>Tree</title>\n<polygon fill=\"#ffffff\" stroke=\"transparent\" points=\"-4,4 -4,-429 1426,-429 1426,4 -4,4\"/>\n<!-- 0 -->\n<g id=\"node1\" class=\"node\">\n<title>0</title>\n<path fill=\"#ffffff\" stroke=\"#000000\" d=\"M763.5,-425C763.5,-425 605.5,-425 605.5,-425 599.5,-425 593.5,-419 593.5,-413 593.5,-413 593.5,-354 593.5,-354 593.5,-348 599.5,-342 605.5,-342 605.5,-342 763.5,-342 763.5,-342 769.5,-342 775.5,-348 775.5,-354 775.5,-354 775.5,-413 775.5,-413 775.5,-419 769.5,-425 763.5,-425\"/>\n<text text-anchor=\"start\" x=\"633\" y=\"-409.8\" font-family=\"Helvetica,sans-Serif\" font-size=\"14.00\" fill=\"#000000\">ratio_vc ≤ 0.328</text>\n<text text-anchor=\"start\" x=\"655\" y=\"-394.8\" font-family=\"Helvetica,sans-Serif\" font-size=\"14.00\" fill=\"#000000\">gini = 0.5</text>\n<text text-anchor=\"start\" x=\"624\" y=\"-379.8\" font-family=\"Helvetica,sans-Serif\" font-size=\"14.00\" fill=\"#000000\">samples = 914028</text>\n<text text-anchor=\"start\" x=\"601.5\" y=\"-364.8\" font-family=\"Helvetica,sans-Serif\" font-size=\"14.00\" fill=\"#000000\">value = [457014, 457014]</text>\n<text text-anchor=\"start\" x=\"638\" y=\"-349.8\" font-family=\"Helvetica,sans-Serif\" font-size=\"14.00\" fill=\"#000000\">class = malign</text>\n</g>\n<!-- 1 -->\n<g id=\"node2\" class=\"node\">\n<title>1</title>\n<path fill=\"#67b4eb\" stroke=\"#000000\" d=\"M594,-306C594,-306 445,-306 445,-306 439,-306 433,-300 433,-294 433,-294 433,-235 433,-235 433,-229 439,-223 445,-223 445,-223 594,-223 594,-223 600,-223 606,-229 606,-235 606,-235 606,-294 606,-294 606,-300 600,-306 594,-306\"/>\n<text text-anchor=\"start\" x=\"481.5\" y=\"-290.8\" font-family=\"Helvetica,sans-Serif\" font-size=\"14.00\" fill=\"#000000\">length ≤ 6.5</text>\n<text text-anchor=\"start\" x=\"481.5\" y=\"-275.8\" font-family=\"Helvetica,sans-Serif\" font-size=\"14.00\" fill=\"#000000\">gini = 0.307</text>\n<text text-anchor=\"start\" x=\"459\" y=\"-260.8\" font-family=\"Helvetica,sans-Serif\" font-size=\"14.00\" fill=\"#000000\">samples = 346362</text>\n<text text-anchor=\"start\" x=\"441\" y=\"-245.8\" font-family=\"Helvetica,sans-Serif\" font-size=\"14.00\" fill=\"#000000\">value = [65693, 280669]</text>\n<text text-anchor=\"start\" x=\"472.5\" y=\"-230.8\" font-family=\"Helvetica,sans-Serif\" font-size=\"14.00\" fill=\"#000000\">class = benign</text>\n</g>\n<!-- 0&#45;&gt;1 -->\n<g id=\"edge1\" class=\"edge\">\n<title>0&#45;&gt;1</title>\n<path fill=\"none\" stroke=\"#000000\" d=\"M626.791,-341.8796C613.477,-332.2774 599.2134,-321.9903 585.5741,-312.1534\"/>\n<polygon fill=\"#000000\" stroke=\"#000000\" points=\"587.3345,-309.1077 577.1764,-306.0969 583.2398,-314.7852 587.3345,-309.1077\"/>\n<text text-anchor=\"middle\" x=\"581.1736\" y=\"-327.0753\" font-family=\"Helvetica,sans-Serif\" font-size=\"14.00\" fill=\"#000000\">True</text>\n</g>\n<!-- 8 -->\n<g id=\"node9\" class=\"node\">\n<title>8</title>\n<path fill=\"#f1ba92\" stroke=\"#000000\" d=\"M950.5,-306C950.5,-306 792.5,-306 792.5,-306 786.5,-306 780.5,-300 780.5,-294 780.5,-294 780.5,-235 780.5,-235 780.5,-229 786.5,-223 792.5,-223 792.5,-223 950.5,-223 950.5,-223 956.5,-223 962.5,-229 962.5,-235 962.5,-235 962.5,-294 962.5,-294 962.5,-300 956.5,-306 950.5,-306\"/>\n<text text-anchor=\"start\" x=\"820\" y=\"-290.8\" font-family=\"Helvetica,sans-Serif\" font-size=\"14.00\" fill=\"#000000\">ratio_vc ≤ 0.491</text>\n<text text-anchor=\"start\" x=\"833.5\" y=\"-275.8\" font-family=\"Helvetica,sans-Serif\" font-size=\"14.00\" fill=\"#000000\">gini = 0.428</text>\n<text text-anchor=\"start\" x=\"811\" y=\"-260.8\" font-family=\"Helvetica,sans-Serif\" font-size=\"14.00\" fill=\"#000000\">samples = 567666</text>\n<text text-anchor=\"start\" x=\"788.5\" y=\"-245.8\" font-family=\"Helvetica,sans-Serif\" font-size=\"14.00\" fill=\"#000000\">value = [391321, 176345]</text>\n<text text-anchor=\"start\" x=\"825\" y=\"-230.8\" font-family=\"Helvetica,sans-Serif\" font-size=\"14.00\" fill=\"#000000\">class = malign</text>\n</g>\n<!-- 0&#45;&gt;8 -->\n<g id=\"edge8\" class=\"edge\">\n<title>0&#45;&gt;8</title>\n<path fill=\"none\" stroke=\"#000000\" d=\"M749.9035,-341.8796C765.2774,-332.0962 781.7685,-321.6019 797.4902,-311.5971\"/>\n<polygon fill=\"#000000\" stroke=\"#000000\" points=\"799.5759,-314.4185 806.1334,-306.0969 795.8177,-308.5129 799.5759,-314.4185\"/>\n<text text-anchor=\"middle\" x=\"800.7101\" y=\"-326.8016\" font-family=\"Helvetica,sans-Serif\" font-size=\"14.00\" fill=\"#000000\">False</text>\n</g>\n<!-- 2 -->\n<g id=\"node3\" class=\"node\">\n<title>2</title>\n<path fill=\"#f5cfb4\" stroke=\"#000000\" d=\"M336,-187C336,-187 171,-187 171,-187 165,-187 159,-181 159,-175 159,-175 159,-116 159,-116 159,-110 165,-104 171,-104 171,-104 336,-104 336,-104 342,-104 348,-110 348,-116 348,-116 348,-175 348,-175 348,-181 342,-187 336,-187\"/>\n<text text-anchor=\"start\" x=\"167\" y=\"-171.8\" font-family=\"Helvetica,sans-Serif\" font-size=\"14.00\" fill=\"#000000\">subdomains_number ≤ 2.5</text>\n<text text-anchor=\"start\" x=\"215.5\" y=\"-156.8\" font-family=\"Helvetica,sans-Serif\" font-size=\"14.00\" fill=\"#000000\">gini = 0.473</text>\n<text text-anchor=\"start\" x=\"197.5\" y=\"-141.8\" font-family=\"Helvetica,sans-Serif\" font-size=\"14.00\" fill=\"#000000\">samples = 60516</text>\n<text text-anchor=\"start\" x=\"179\" y=\"-126.8\" font-family=\"Helvetica,sans-Serif\" font-size=\"14.00\" fill=\"#000000\">value = [37339, 23177]</text>\n<text text-anchor=\"start\" x=\"207\" y=\"-111.8\" font-family=\"Helvetica,sans-Serif\" font-size=\"14.00\" fill=\"#000000\">class = malign</text>\n</g>\n<!-- 1&#45;&gt;2 -->\n<g id=\"edge2\" class=\"edge\">\n<title>1&#45;&gt;2</title>\n<path fill=\"none\" stroke=\"#000000\" d=\"M432.7697,-225.6996C408.1948,-214.7056 381.2122,-202.6344 355.8095,-191.27\"/>\n<polygon fill=\"#000000\" stroke=\"#000000\" points=\"357.087,-188.0073 346.5295,-187.1185 354.2284,-194.3971 357.087,-188.0073\"/>\n</g>\n<!-- 5 -->\n<g id=\"node6\" class=\"node\">\n<title>5</title>\n<path fill=\"#4fa8e8\" stroke=\"#000000\" d=\"M594,-187C594,-187 445,-187 445,-187 439,-187 433,-181 433,-175 433,-175 433,-116 433,-116 433,-110 439,-104 445,-104 445,-104 594,-104 594,-104 600,-104 606,-110 606,-116 606,-116 606,-175 606,-175 606,-181 600,-187 594,-187\"/>\n<text text-anchor=\"start\" x=\"459\" y=\"-171.8\" font-family=\"Helvetica,sans-Serif\" font-size=\"14.00\" fill=\"#000000\">num_dashes ≤ 0.5</text>\n<text text-anchor=\"start\" x=\"481.5\" y=\"-156.8\" font-family=\"Helvetica,sans-Serif\" font-size=\"14.00\" fill=\"#000000\">gini = 0.179</text>\n<text text-anchor=\"start\" x=\"459\" y=\"-141.8\" font-family=\"Helvetica,sans-Serif\" font-size=\"14.00\" fill=\"#000000\">samples = 285846</text>\n<text text-anchor=\"start\" x=\"441\" y=\"-126.8\" font-family=\"Helvetica,sans-Serif\" font-size=\"14.00\" fill=\"#000000\">value = [28354, 257492]</text>\n<text text-anchor=\"start\" x=\"472.5\" y=\"-111.8\" font-family=\"Helvetica,sans-Serif\" font-size=\"14.00\" fill=\"#000000\">class = benign</text>\n</g>\n<!-- 1&#45;&gt;5 -->\n<g id=\"edge5\" class=\"edge\">\n<title>1&#45;&gt;5</title>\n<path fill=\"none\" stroke=\"#000000\" d=\"M519.5,-222.8796C519.5,-214.6838 519.5,-205.9891 519.5,-197.5013\"/>\n<polygon fill=\"#000000\" stroke=\"#000000\" points=\"523.0001,-197.298 519.5,-187.2981 516.0001,-197.2981 523.0001,-197.298\"/>\n</g>\n<!-- 3 -->\n<g id=\"node4\" class=\"node\">\n<title>3</title>\n<path fill=\"#eba06a\" stroke=\"#000000\" d=\"M145,-68C145,-68 12,-68 12,-68 6,-68 0,-62 0,-56 0,-56 0,-12 0,-12 0,-6 6,0 12,0 12,0 145,0 145,0 151,0 157,-6 157,-12 157,-12 157,-56 157,-56 157,-62 151,-68 145,-68\"/>\n<text text-anchor=\"start\" x=\"40.5\" y=\"-52.8\" font-family=\"Helvetica,sans-Serif\" font-size=\"14.00\" fill=\"#000000\">gini = 0.317</text>\n<text text-anchor=\"start\" x=\"22.5\" y=\"-37.8\" font-family=\"Helvetica,sans-Serif\" font-size=\"14.00\" fill=\"#000000\">samples = 41818</text>\n<text text-anchor=\"start\" x=\"8\" y=\"-22.8\" font-family=\"Helvetica,sans-Serif\" font-size=\"14.00\" fill=\"#000000\">value = [33550, 8268]</text>\n<text text-anchor=\"start\" x=\"32\" y=\"-7.8\" font-family=\"Helvetica,sans-Serif\" font-size=\"14.00\" fill=\"#000000\">class = malign</text>\n</g>\n<!-- 2&#45;&gt;3 -->\n<g id=\"edge3\" class=\"edge\">\n<title>2&#45;&gt;3</title>\n<path fill=\"none\" stroke=\"#000000\" d=\"M188.3365,-103.9815C172.6757,-94.0034 155.9918,-83.3733 140.4805,-73.4904\"/>\n<polygon fill=\"#000000\" stroke=\"#000000\" points=\"142.312,-70.5073 131.9976,-68.0856 138.5506,-76.4109 142.312,-70.5073\"/>\n</g>\n<!-- 4 -->\n<g id=\"node5\" class=\"node\">\n<title>4</title>\n<path fill=\"#6bb6ec\" stroke=\"#000000\" d=\"M320,-68C320,-68 187,-68 187,-68 181,-68 175,-62 175,-56 175,-56 175,-12 175,-12 175,-6 181,0 187,0 187,0 320,0 320,0 326,0 332,-6 332,-12 332,-12 332,-56 332,-56 332,-62 326,-68 320,-68\"/>\n<text text-anchor=\"start\" x=\"215.5\" y=\"-52.8\" font-family=\"Helvetica,sans-Serif\" font-size=\"14.00\" fill=\"#000000\">gini = 0.323</text>\n<text text-anchor=\"start\" x=\"197.5\" y=\"-37.8\" font-family=\"Helvetica,sans-Serif\" font-size=\"14.00\" fill=\"#000000\">samples = 18698</text>\n<text text-anchor=\"start\" x=\"183\" y=\"-22.8\" font-family=\"Helvetica,sans-Serif\" font-size=\"14.00\" fill=\"#000000\">value = [3789, 14909]</text>\n<text text-anchor=\"start\" x=\"206.5\" y=\"-7.8\" font-family=\"Helvetica,sans-Serif\" font-size=\"14.00\" fill=\"#000000\">class = benign</text>\n</g>\n<!-- 2&#45;&gt;4 -->\n<g id=\"edge4\" class=\"edge\">\n<title>2&#45;&gt;4</title>\n<path fill=\"none\" stroke=\"#000000\" d=\"M253.5,-103.9815C253.5,-95.618 253.5,-86.7965 253.5,-78.3409\"/>\n<polygon fill=\"#000000\" stroke=\"#000000\" points=\"257.0001,-78.2636 253.5,-68.2637 250.0001,-78.2637 257.0001,-78.2636\"/>\n</g>\n<!-- 6 -->\n<g id=\"node7\" class=\"node\">\n<title>6</title>\n<path fill=\"#4ba6e7\" stroke=\"#000000\" d=\"M511,-68C511,-68 362,-68 362,-68 356,-68 350,-62 350,-56 350,-56 350,-12 350,-12 350,-6 356,0 362,0 362,0 511,0 511,0 517,0 523,-6 523,-12 523,-12 523,-56 523,-56 523,-62 517,-68 511,-68\"/>\n<text text-anchor=\"start\" x=\"398.5\" y=\"-52.8\" font-family=\"Helvetica,sans-Serif\" font-size=\"14.00\" fill=\"#000000\">gini = 0.152</text>\n<text text-anchor=\"start\" x=\"376\" y=\"-37.8\" font-family=\"Helvetica,sans-Serif\" font-size=\"14.00\" fill=\"#000000\">samples = 280440</text>\n<text text-anchor=\"start\" x=\"358\" y=\"-22.8\" font-family=\"Helvetica,sans-Serif\" font-size=\"14.00\" fill=\"#000000\">value = [23262, 257178]</text>\n<text text-anchor=\"start\" x=\"389.5\" y=\"-7.8\" font-family=\"Helvetica,sans-Serif\" font-size=\"14.00\" fill=\"#000000\">class = benign</text>\n</g>\n<!-- 5&#45;&gt;6 -->\n<g id=\"edge6\" class=\"edge\">\n<title>5&#45;&gt;6</title>\n<path fill=\"none\" stroke=\"#000000\" d=\"M488.5939,-103.9815C481.8892,-94.9747 474.7892,-85.4367 468.0597,-76.3965\"/>\n<polygon fill=\"#000000\" stroke=\"#000000\" points=\"470.7845,-74.1953 462.0057,-68.2637 465.1694,-78.3752 470.7845,-74.1953\"/>\n</g>\n<!-- 7 -->\n<g id=\"node8\" class=\"node\">\n<title>7</title>\n<path fill=\"#e78945\" stroke=\"#000000\" d=\"M669.5,-68C669.5,-68 553.5,-68 553.5,-68 547.5,-68 541.5,-62 541.5,-56 541.5,-56 541.5,-12 541.5,-12 541.5,-6 547.5,0 553.5,0 553.5,0 669.5,0 669.5,0 675.5,0 681.5,-6 681.5,-12 681.5,-12 681.5,-56 681.5,-56 681.5,-62 675.5,-68 669.5,-68\"/>\n<text text-anchor=\"start\" x=\"573.5\" y=\"-52.8\" font-family=\"Helvetica,sans-Serif\" font-size=\"14.00\" fill=\"#000000\">gini = 0.109</text>\n<text text-anchor=\"start\" x=\"559.5\" y=\"-37.8\" font-family=\"Helvetica,sans-Serif\" font-size=\"14.00\" fill=\"#000000\">samples = 5406</text>\n<text text-anchor=\"start\" x=\"549.5\" y=\"-22.8\" font-family=\"Helvetica,sans-Serif\" font-size=\"14.00\" fill=\"#000000\">value = [5092, 314]</text>\n<text text-anchor=\"start\" x=\"565\" y=\"-7.8\" font-family=\"Helvetica,sans-Serif\" font-size=\"14.00\" fill=\"#000000\">class = malign</text>\n</g>\n<!-- 5&#45;&gt;7 -->\n<g id=\"edge7\" class=\"edge\">\n<title>5&#45;&gt;7</title>\n<path fill=\"none\" stroke=\"#000000\" d=\"M553.7574,-103.9815C561.2649,-94.8828 569.2196,-85.242 576.7464,-76.1199\"/>\n<polygon fill=\"#000000\" stroke=\"#000000\" points=\"579.5639,-78.2045 583.2286,-68.2637 574.1646,-73.7495 579.5639,-78.2045\"/>\n</g>\n<!-- 9 -->\n<g id=\"node10\" class=\"node\">\n<title>9</title>\n<path fill=\"#fbede2\" stroke=\"#000000\" d=\"M942,-187C942,-187 801,-187 801,-187 795,-187 789,-181 789,-175 789,-175 789,-116 789,-116 789,-110 795,-104 801,-104 801,-104 942,-104 942,-104 948,-104 954,-110 954,-116 954,-116 954,-175 954,-175 954,-181 948,-187 942,-187\"/>\n<text text-anchor=\"start\" x=\"829.5\" y=\"-171.8\" font-family=\"Helvetica,sans-Serif\" font-size=\"14.00\" fill=\"#000000\">length ≤ 13.5</text>\n<text text-anchor=\"start\" x=\"833.5\" y=\"-156.8\" font-family=\"Helvetica,sans-Serif\" font-size=\"14.00\" fill=\"#000000\">gini = 0.497</text>\n<text text-anchor=\"start\" x=\"811\" y=\"-141.8\" font-family=\"Helvetica,sans-Serif\" font-size=\"14.00\" fill=\"#000000\">samples = 158807</text>\n<text text-anchor=\"start\" x=\"797\" y=\"-126.8\" font-family=\"Helvetica,sans-Serif\" font-size=\"14.00\" fill=\"#000000\">value = [85586, 73221]</text>\n<text text-anchor=\"start\" x=\"825\" y=\"-111.8\" font-family=\"Helvetica,sans-Serif\" font-size=\"14.00\" fill=\"#000000\">class = malign</text>\n</g>\n<!-- 8&#45;&gt;9 -->\n<g id=\"edge9\" class=\"edge\">\n<title>8&#45;&gt;9</title>\n<path fill=\"none\" stroke=\"#000000\" d=\"M871.5,-222.8796C871.5,-214.6838 871.5,-205.9891 871.5,-197.5013\"/>\n<polygon fill=\"#000000\" stroke=\"#000000\" points=\"875.0001,-197.298 871.5,-187.2981 868.0001,-197.2981 875.0001,-197.298\"/>\n</g>\n<!-- 12 -->\n<g id=\"node13\" class=\"node\">\n<title>12</title>\n<path fill=\"#eeab7c\" stroke=\"#000000\" d=\"M1231.5,-187C1231.5,-187 1073.5,-187 1073.5,-187 1067.5,-187 1061.5,-181 1061.5,-175 1061.5,-175 1061.5,-116 1061.5,-116 1061.5,-110 1067.5,-104 1073.5,-104 1073.5,-104 1231.5,-104 1231.5,-104 1237.5,-104 1243.5,-110 1243.5,-116 1243.5,-116 1243.5,-175 1243.5,-175 1243.5,-181 1237.5,-187 1231.5,-187\"/>\n<text text-anchor=\"start\" x=\"1110.5\" y=\"-171.8\" font-family=\"Helvetica,sans-Serif\" font-size=\"14.00\" fill=\"#000000\">length ≤ 13.5</text>\n<text text-anchor=\"start\" x=\"1114.5\" y=\"-156.8\" font-family=\"Helvetica,sans-Serif\" font-size=\"14.00\" fill=\"#000000\">gini = 0.377</text>\n<text text-anchor=\"start\" x=\"1092\" y=\"-141.8\" font-family=\"Helvetica,sans-Serif\" font-size=\"14.00\" fill=\"#000000\">samples = 408859</text>\n<text text-anchor=\"start\" x=\"1069.5\" y=\"-126.8\" font-family=\"Helvetica,sans-Serif\" font-size=\"14.00\" fill=\"#000000\">value = [305735, 103124]</text>\n<text text-anchor=\"start\" x=\"1106\" y=\"-111.8\" font-family=\"Helvetica,sans-Serif\" font-size=\"14.00\" fill=\"#000000\">class = malign</text>\n</g>\n<!-- 8&#45;&gt;12 -->\n<g id=\"edge12\" class=\"edge\">\n<title>8&#45;&gt;12</title>\n<path fill=\"none\" stroke=\"#000000\" d=\"M962.7326,-225.8641C991.2197,-213.8002 1022.8007,-200.426 1051.8934,-188.1056\"/>\n<polygon fill=\"#000000\" stroke=\"#000000\" points=\"1053.4012,-191.2681 1061.2446,-184.1455 1050.6714,-184.8223 1053.4012,-191.2681\"/>\n</g>\n<!-- 10 -->\n<g id=\"node11\" class=\"node\">\n<title>10</title>\n<path fill=\"#f4c8a8\" stroke=\"#000000\" d=\"M853,-68C853,-68 712,-68 712,-68 706,-68 700,-62 700,-56 700,-56 700,-12 700,-12 700,-6 706,0 712,0 712,0 853,0 853,0 859,0 865,-6 865,-12 865,-12 865,-56 865,-56 865,-62 859,-68 853,-68\"/>\n<text text-anchor=\"start\" x=\"744.5\" y=\"-52.8\" font-family=\"Helvetica,sans-Serif\" font-size=\"14.00\" fill=\"#000000\">gini = 0.461</text>\n<text text-anchor=\"start\" x=\"722\" y=\"-37.8\" font-family=\"Helvetica,sans-Serif\" font-size=\"14.00\" fill=\"#000000\">samples = 110123</text>\n<text text-anchor=\"start\" x=\"708\" y=\"-22.8\" font-family=\"Helvetica,sans-Serif\" font-size=\"14.00\" fill=\"#000000\">value = [70490, 39633]</text>\n<text text-anchor=\"start\" x=\"736\" y=\"-7.8\" font-family=\"Helvetica,sans-Serif\" font-size=\"14.00\" fill=\"#000000\">class = malign</text>\n</g>\n<!-- 9&#45;&gt;10 -->\n<g id=\"edge10\" class=\"edge\">\n<title>9&#45;&gt;10</title>\n<path fill=\"none\" stroke=\"#000000\" d=\"M838.3597,-103.9815C831.097,-94.8828 823.4017,-85.242 816.1204,-76.1199\"/>\n<polygon fill=\"#000000\" stroke=\"#000000\" points=\"818.8234,-73.8958 809.8495,-68.2637 813.3525,-78.2627 818.8234,-73.8958\"/>\n</g>\n<!-- 11 -->\n<g id=\"node12\" class=\"node\">\n<title>11</title>\n<path fill=\"#92c9f1\" stroke=\"#000000\" d=\"M1036,-68C1036,-68 895,-68 895,-68 889,-68 883,-62 883,-56 883,-56 883,-12 883,-12 883,-6 889,0 895,0 895,0 1036,0 1036,0 1042,0 1048,-6 1048,-12 1048,-12 1048,-56 1048,-56 1048,-62 1042,-68 1036,-68\"/>\n<text text-anchor=\"start\" x=\"927.5\" y=\"-52.8\" font-family=\"Helvetica,sans-Serif\" font-size=\"14.00\" fill=\"#000000\">gini = 0.428</text>\n<text text-anchor=\"start\" x=\"909.5\" y=\"-37.8\" font-family=\"Helvetica,sans-Serif\" font-size=\"14.00\" fill=\"#000000\">samples = 48684</text>\n<text text-anchor=\"start\" x=\"891\" y=\"-22.8\" font-family=\"Helvetica,sans-Serif\" font-size=\"14.00\" fill=\"#000000\">value = [15096, 33588]</text>\n<text text-anchor=\"start\" x=\"918.5\" y=\"-7.8\" font-family=\"Helvetica,sans-Serif\" font-size=\"14.00\" fill=\"#000000\">class = benign</text>\n</g>\n<!-- 9&#45;&gt;11 -->\n<g id=\"edge11\" class=\"edge\">\n<title>9&#45;&gt;11</title>\n<path fill=\"none\" stroke=\"#000000\" d=\"M906.5021,-103.9815C914.1728,-94.8828 922.3005,-85.242 929.9909,-76.1199\"/>\n<polygon fill=\"#000000\" stroke=\"#000000\" points=\"932.8444,-78.1652 936.614,-68.2637 927.4925,-73.6533 932.8444,-78.1652\"/>\n</g>\n<!-- 13 -->\n<g id=\"node14\" class=\"node\">\n<title>13</title>\n<path fill=\"#eca470\" stroke=\"#000000\" d=\"M1227,-68C1227,-68 1078,-68 1078,-68 1072,-68 1066,-62 1066,-56 1066,-56 1066,-12 1066,-12 1066,-6 1072,0 1078,0 1078,0 1227,0 1227,0 1233,0 1239,-6 1239,-12 1239,-12 1239,-56 1239,-56 1239,-62 1233,-68 1227,-68\"/>\n<text text-anchor=\"start\" x=\"1114.5\" y=\"-52.8\" font-family=\"Helvetica,sans-Serif\" font-size=\"14.00\" fill=\"#000000\">gini = 0.339</text>\n<text text-anchor=\"start\" x=\"1092\" y=\"-37.8\" font-family=\"Helvetica,sans-Serif\" font-size=\"14.00\" fill=\"#000000\">samples = 304097</text>\n<text text-anchor=\"start\" x=\"1074\" y=\"-22.8\" font-family=\"Helvetica,sans-Serif\" font-size=\"14.00\" fill=\"#000000\">value = [238460, 65637]</text>\n<text text-anchor=\"start\" x=\"1106\" y=\"-7.8\" font-family=\"Helvetica,sans-Serif\" font-size=\"14.00\" fill=\"#000000\">class = malign</text>\n</g>\n<!-- 12&#45;&gt;13 -->\n<g id=\"edge13\" class=\"edge\">\n<title>12&#45;&gt;13</title>\n<path fill=\"none\" stroke=\"#000000\" d=\"M1152.5,-103.9815C1152.5,-95.618 1152.5,-86.7965 1152.5,-78.3409\"/>\n<polygon fill=\"#000000\" stroke=\"#000000\" points=\"1156.0001,-78.2636 1152.5,-68.2637 1149.0001,-78.2637 1156.0001,-78.2636\"/>\n</g>\n<!-- 14 -->\n<g id=\"node15\" class=\"node\">\n<title>14</title>\n<path fill=\"#f3c7a7\" stroke=\"#000000\" d=\"M1410,-68C1410,-68 1269,-68 1269,-68 1263,-68 1257,-62 1257,-56 1257,-56 1257,-12 1257,-12 1257,-6 1263,0 1269,0 1269,0 1410,0 1410,0 1416,0 1422,-6 1422,-12 1422,-12 1422,-56 1422,-56 1422,-62 1416,-68 1410,-68\"/>\n<text text-anchor=\"start\" x=\"1306\" y=\"-52.8\" font-family=\"Helvetica,sans-Serif\" font-size=\"14.00\" fill=\"#000000\">gini = 0.46</text>\n<text text-anchor=\"start\" x=\"1279\" y=\"-37.8\" font-family=\"Helvetica,sans-Serif\" font-size=\"14.00\" fill=\"#000000\">samples = 104762</text>\n<text text-anchor=\"start\" x=\"1265\" y=\"-22.8\" font-family=\"Helvetica,sans-Serif\" font-size=\"14.00\" fill=\"#000000\">value = [67275, 37487]</text>\n<text text-anchor=\"start\" x=\"1293\" y=\"-7.8\" font-family=\"Helvetica,sans-Serif\" font-size=\"14.00\" fill=\"#000000\">class = malign</text>\n</g>\n<!-- 12&#45;&gt;14 -->\n<g id=\"edge14\" class=\"edge\">\n<title>12&#45;&gt;14</title>\n<path fill=\"none\" stroke=\"#000000\" d=\"M1222.1319,-103.9815C1239.0215,-93.911 1257.0247,-83.1764 1273.7295,-73.2161\"/>\n<polygon fill=\"#000000\" stroke=\"#000000\" points=\"1275.5373,-76.2132 1282.334,-68.0856 1271.9524,-70.2008 1275.5373,-76.2132\"/>\n</g>\n</g>\n</svg>\n"
          },
          "metadata": {},
          "execution_count": 61
        },
        {
          "output_type": "display_data",
          "data": {
            "text/plain": [
              "<Figure size 900x900 with 1 Axes>"
            ],
            "image/png": "[encoded data removed]"
          },
          "metadata": {}
        }
      ]
    },
    {
      "cell_type": "markdown",
      "source": [
        "Dado que el algoritmod de clasificación `Decision Tree` facilita la interpretación visual, para entrenar el clasificador se han utilizado los datos sin estandarizar y se ha limitado la profundidad del árbol a 3 niveles.\n",
        "\n",
        "El entrenamiento del clasificador ofrece un `accuracy`de 0,75. Se puede observar que las dos variables más significativas son el `ratio_vc` y `length`."
      ],
      "metadata": {
        "id": "IB9buvlvqpxc"
      }
    },
    {
      "cell_type": "code",
      "source": [
        "\n",
        "#dot_data = tree.export_graphviz(dt_cls, out_file=None) \n",
        "#graph = graphviz.Source(dot_data) \n",
        "#graph.render(\"iris\")\n"
      ],
      "metadata": {
        "colab": {
          "base_uri": "https://localhost:8080/",
          "height": 440
        },
        "id": "K6gOLUQsyYmt",
        "outputId": "d2adfda5-d7b6-47d5-986a-33e41fc54ed4"
      },
      "execution_count": 58,
      "outputs": [
        {
          "output_type": "execute_result",
          "data": {
            "text/plain": [
              "<graphviz.files.Source at 0x7f18ab049280>"
            ],
            "image/svg+xml": "<?xml version=\"1.0\" encoding=\"UTF-8\" standalone=\"no\"?>\n<!DOCTYPE svg PUBLIC \"-//W3C//DTD SVG 1.1//EN\"\n \"http://www.w3.org/Graphics/SVG/1.1/DTD/svg11.dtd\">\n<!-- Generated by graphviz version 2.40.1 (20161225.0304)\n -->\n<!-- Title: Tree Pages: 1 -->\n<svg width=\"752pt\" height=\"314pt\"\n viewBox=\"0.00 0.00 751.50 314.00\" xmlns=\"http://www.w3.org/2000/svg\" xmlns:xlink=\"http://www.w3.org/1999/xlink\">\n<g id=\"graph0\" class=\"graph\" transform=\"scale(1 1) rotate(0) translate(4 310)\">\n<title>Tree</title>\n<polygon fill=\"#ffffff\" stroke=\"transparent\" points=\"-4,4 -4,-310 747.5,-310 747.5,4 -4,4\"/>\n<!-- 0 -->\n<g id=\"node1\" class=\"node\">\n<title>0</title>\n<path fill=\"#ffffff\" stroke=\"#000000\" d=\"M443.5,-306C443.5,-306 285.5,-306 285.5,-306 279.5,-306 273.5,-300 273.5,-294 273.5,-294 273.5,-235 273.5,-235 273.5,-229 279.5,-223 285.5,-223 285.5,-223 443.5,-223 443.5,-223 449.5,-223 455.5,-229 455.5,-235 455.5,-235 455.5,-294 455.5,-294 455.5,-300 449.5,-306 443.5,-306\"/>\n<text text-anchor=\"start\" x=\"313\" y=\"-290.8\" font-family=\"Helvetica,sans-Serif\" font-size=\"14.00\" fill=\"#000000\">ratio_vc ≤ 0.328</text>\n<text text-anchor=\"start\" x=\"335\" y=\"-275.8\" font-family=\"Helvetica,sans-Serif\" font-size=\"14.00\" fill=\"#000000\">gini = 0.5</text>\n<text text-anchor=\"start\" x=\"304\" y=\"-260.8\" font-family=\"Helvetica,sans-Serif\" font-size=\"14.00\" fill=\"#000000\">samples = 914028</text>\n<text text-anchor=\"start\" x=\"281.5\" y=\"-245.8\" font-family=\"Helvetica,sans-Serif\" font-size=\"14.00\" fill=\"#000000\">value = [457014, 457014]</text>\n<text text-anchor=\"start\" x=\"318\" y=\"-230.8\" font-family=\"Helvetica,sans-Serif\" font-size=\"14.00\" fill=\"#000000\">class = malign</text>\n</g>\n<!-- 1 -->\n<g id=\"node2\" class=\"node\">\n<title>1</title>\n<path fill=\"#67b4eb\" stroke=\"#000000\" d=\"M341,-187C341,-187 192,-187 192,-187 186,-187 180,-181 180,-175 180,-175 180,-116 180,-116 180,-110 186,-104 192,-104 192,-104 341,-104 341,-104 347,-104 353,-110 353,-116 353,-116 353,-175 353,-175 353,-181 347,-187 341,-187\"/>\n<text text-anchor=\"start\" x=\"228.5\" y=\"-171.8\" font-family=\"Helvetica,sans-Serif\" font-size=\"14.00\" fill=\"#000000\">length ≤ 6.5</text>\n<text text-anchor=\"start\" x=\"228.5\" y=\"-156.8\" font-family=\"Helvetica,sans-Serif\" font-size=\"14.00\" fill=\"#000000\">gini = 0.307</text>\n<text text-anchor=\"start\" x=\"206\" y=\"-141.8\" font-family=\"Helvetica,sans-Serif\" font-size=\"14.00\" fill=\"#000000\">samples = 346362</text>\n<text text-anchor=\"start\" x=\"188\" y=\"-126.8\" font-family=\"Helvetica,sans-Serif\" font-size=\"14.00\" fill=\"#000000\">value = [65693, 280669]</text>\n<text text-anchor=\"start\" x=\"219.5\" y=\"-111.8\" font-family=\"Helvetica,sans-Serif\" font-size=\"14.00\" fill=\"#000000\">class = benign</text>\n</g>\n<!-- 0&#45;&gt;1 -->\n<g id=\"edge1\" class=\"edge\">\n<title>0&#45;&gt;1</title>\n<path fill=\"none\" stroke=\"#000000\" d=\"M330.2244,-222.8796C322.8816,-213.9633 315.0524,-204.4565 307.4854,-195.268\"/>\n<polygon fill=\"#000000\" stroke=\"#000000\" points=\"309.9808,-192.7924 300.9219,-187.2981 304.5773,-197.2424 309.9808,-192.7924\"/>\n<text text-anchor=\"middle\" x=\"298.5138\" y=\"-208.4818\" font-family=\"Helvetica,sans-Serif\" font-size=\"14.00\" fill=\"#000000\">True</text>\n</g>\n<!-- 4 -->\n<g id=\"node5\" class=\"node\">\n<title>4</title>\n<path fill=\"#f1ba92\" stroke=\"#000000\" d=\"M541.5,-187C541.5,-187 383.5,-187 383.5,-187 377.5,-187 371.5,-181 371.5,-175 371.5,-175 371.5,-116 371.5,-116 371.5,-110 377.5,-104 383.5,-104 383.5,-104 541.5,-104 541.5,-104 547.5,-104 553.5,-110 553.5,-116 553.5,-116 553.5,-175 553.5,-175 553.5,-181 547.5,-187 541.5,-187\"/>\n<text text-anchor=\"start\" x=\"411\" y=\"-171.8\" font-family=\"Helvetica,sans-Serif\" font-size=\"14.00\" fill=\"#000000\">ratio_vc ≤ 0.491</text>\n<text text-anchor=\"start\" x=\"424.5\" y=\"-156.8\" font-family=\"Helvetica,sans-Serif\" font-size=\"14.00\" fill=\"#000000\">gini = 0.428</text>\n<text text-anchor=\"start\" x=\"402\" y=\"-141.8\" font-family=\"Helvetica,sans-Serif\" font-size=\"14.00\" fill=\"#000000\">samples = 567666</text>\n<text text-anchor=\"start\" x=\"379.5\" y=\"-126.8\" font-family=\"Helvetica,sans-Serif\" font-size=\"14.00\" fill=\"#000000\">value = [391321, 176345]</text>\n<text text-anchor=\"start\" x=\"416\" y=\"-111.8\" font-family=\"Helvetica,sans-Serif\" font-size=\"14.00\" fill=\"#000000\">class = malign</text>\n</g>\n<!-- 0&#45;&gt;4 -->\n<g id=\"edge4\" class=\"edge\">\n<title>0&#45;&gt;4</title>\n<path fill=\"none\" stroke=\"#000000\" d=\"M398.7756,-222.8796C406.1184,-213.9633 413.9476,-204.4565 421.5146,-195.268\"/>\n<polygon fill=\"#000000\" stroke=\"#000000\" points=\"424.4227,-197.2424 428.0781,-187.2981 419.0192,-192.7924 424.4227,-197.2424\"/>\n<text text-anchor=\"middle\" x=\"430.4862\" y=\"-208.4818\" font-family=\"Helvetica,sans-Serif\" font-size=\"14.00\" fill=\"#000000\">False</text>\n</g>\n<!-- 2 -->\n<g id=\"node3\" class=\"node\">\n<title>2</title>\n<path fill=\"#f5cfb4\" stroke=\"#000000\" d=\"M153,-68C153,-68 12,-68 12,-68 6,-68 0,-62 0,-56 0,-56 0,-12 0,-12 0,-6 6,0 12,0 12,0 153,0 153,0 159,0 165,-6 165,-12 165,-12 165,-56 165,-56 165,-62 159,-68 153,-68\"/>\n<text text-anchor=\"start\" x=\"44.5\" y=\"-52.8\" font-family=\"Helvetica,sans-Serif\" font-size=\"14.00\" fill=\"#000000\">gini = 0.473</text>\n<text text-anchor=\"start\" x=\"26.5\" y=\"-37.8\" font-family=\"Helvetica,sans-Serif\" font-size=\"14.00\" fill=\"#000000\">samples = 60516</text>\n<text text-anchor=\"start\" x=\"8\" y=\"-22.8\" font-family=\"Helvetica,sans-Serif\" font-size=\"14.00\" fill=\"#000000\">value = [37339, 23177]</text>\n<text text-anchor=\"start\" x=\"36\" y=\"-7.8\" font-family=\"Helvetica,sans-Serif\" font-size=\"14.00\" fill=\"#000000\">class = malign</text>\n</g>\n<!-- 1&#45;&gt;2 -->\n<g id=\"edge2\" class=\"edge\">\n<title>1&#45;&gt;2</title>\n<path fill=\"none\" stroke=\"#000000\" d=\"M197.9852,-103.9815C181.519,-94.0034 163.9771,-83.3733 147.668,-73.4904\"/>\n<polygon fill=\"#000000\" stroke=\"#000000\" points=\"149.1151,-70.2749 138.7489,-68.0856 145.4873,-76.2615 149.1151,-70.2749\"/>\n</g>\n<!-- 3 -->\n<g id=\"node4\" class=\"node\">\n<title>3</title>\n<path fill=\"#4fa8e8\" stroke=\"#000000\" d=\"M344,-68C344,-68 195,-68 195,-68 189,-68 183,-62 183,-56 183,-56 183,-12 183,-12 183,-6 189,0 195,0 195,0 344,0 344,0 350,0 356,-6 356,-12 356,-12 356,-56 356,-56 356,-62 350,-68 344,-68\"/>\n<text text-anchor=\"start\" x=\"231.5\" y=\"-52.8\" font-family=\"Helvetica,sans-Serif\" font-size=\"14.00\" fill=\"#000000\">gini = 0.179</text>\n<text text-anchor=\"start\" x=\"209\" y=\"-37.8\" font-family=\"Helvetica,sans-Serif\" font-size=\"14.00\" fill=\"#000000\">samples = 285846</text>\n<text text-anchor=\"start\" x=\"191\" y=\"-22.8\" font-family=\"Helvetica,sans-Serif\" font-size=\"14.00\" fill=\"#000000\">value = [28354, 257492]</text>\n<text text-anchor=\"start\" x=\"222.5\" y=\"-7.8\" font-family=\"Helvetica,sans-Serif\" font-size=\"14.00\" fill=\"#000000\">class = benign</text>\n</g>\n<!-- 1&#45;&gt;3 -->\n<g id=\"edge3\" class=\"edge\">\n<title>1&#45;&gt;3</title>\n<path fill=\"none\" stroke=\"#000000\" d=\"M267.6171,-103.9815C267.8421,-95.618 268.0795,-86.7965 268.307,-78.3409\"/>\n<polygon fill=\"#000000\" stroke=\"#000000\" points=\"271.8078,-78.3542 268.5781,-68.2637 264.8103,-78.1659 271.8078,-78.3542\"/>\n</g>\n<!-- 5 -->\n<g id=\"node6\" class=\"node\">\n<title>5</title>\n<path fill=\"#fbede2\" stroke=\"#000000\" d=\"M531,-68C531,-68 390,-68 390,-68 384,-68 378,-62 378,-56 378,-56 378,-12 378,-12 378,-6 384,0 390,0 390,0 531,0 531,0 537,0 543,-6 543,-12 543,-12 543,-56 543,-56 543,-62 537,-68 531,-68\"/>\n<text text-anchor=\"start\" x=\"422.5\" y=\"-52.8\" font-family=\"Helvetica,sans-Serif\" font-size=\"14.00\" fill=\"#000000\">gini = 0.497</text>\n<text text-anchor=\"start\" x=\"400\" y=\"-37.8\" font-family=\"Helvetica,sans-Serif\" font-size=\"14.00\" fill=\"#000000\">samples = 158807</text>\n<text text-anchor=\"start\" x=\"386\" y=\"-22.8\" font-family=\"Helvetica,sans-Serif\" font-size=\"14.00\" fill=\"#000000\">value = [85586, 73221]</text>\n<text text-anchor=\"start\" x=\"414\" y=\"-7.8\" font-family=\"Helvetica,sans-Serif\" font-size=\"14.00\" fill=\"#000000\">class = malign</text>\n</g>\n<!-- 4&#45;&gt;5 -->\n<g id=\"edge5\" class=\"edge\">\n<title>4&#45;&gt;5</title>\n<path fill=\"none\" stroke=\"#000000\" d=\"M461.7553,-103.9815C461.6053,-95.618 461.447,-86.7965 461.2954,-78.3409\"/>\n<polygon fill=\"#000000\" stroke=\"#000000\" points=\"464.7935,-78.1993 461.1146,-68.2637 457.7946,-78.3249 464.7935,-78.1993\"/>\n</g>\n<!-- 6 -->\n<g id=\"node7\" class=\"node\">\n<title>6</title>\n<path fill=\"#eeab7c\" stroke=\"#000000\" d=\"M731.5,-68C731.5,-68 573.5,-68 573.5,-68 567.5,-68 561.5,-62 561.5,-56 561.5,-56 561.5,-12 561.5,-12 561.5,-6 567.5,0 573.5,0 573.5,0 731.5,0 731.5,0 737.5,0 743.5,-6 743.5,-12 743.5,-12 743.5,-56 743.5,-56 743.5,-62 737.5,-68 731.5,-68\"/>\n<text text-anchor=\"start\" x=\"614.5\" y=\"-52.8\" font-family=\"Helvetica,sans-Serif\" font-size=\"14.00\" fill=\"#000000\">gini = 0.377</text>\n<text text-anchor=\"start\" x=\"592\" y=\"-37.8\" font-family=\"Helvetica,sans-Serif\" font-size=\"14.00\" fill=\"#000000\">samples = 408859</text>\n<text text-anchor=\"start\" x=\"569.5\" y=\"-22.8\" font-family=\"Helvetica,sans-Serif\" font-size=\"14.00\" fill=\"#000000\">value = [305735, 103124]</text>\n<text text-anchor=\"start\" x=\"606\" y=\"-7.8\" font-family=\"Helvetica,sans-Serif\" font-size=\"14.00\" fill=\"#000000\">class = malign</text>\n</g>\n<!-- 4&#45;&gt;6 -->\n<g id=\"edge6\" class=\"edge\">\n<title>4&#45;&gt;6</title>\n<path fill=\"none\" stroke=\"#000000\" d=\"M533.249,-103.9815C550.4096,-93.911 568.7016,-83.1764 585.6744,-73.2161\"/>\n<polygon fill=\"#000000\" stroke=\"#000000\" points=\"587.5637,-76.1656 594.4169,-68.0856 584.0208,-70.1283 587.5637,-76.1656\"/>\n</g>\n</g>\n</svg>\n"
          },
          "metadata": {},
          "execution_count": 58
        }
      ]
    },
    {
      "cell_type": "markdown",
      "source": [
        "# AutoML\n",
        "La librería `auto-sklearn` nos permite evaluar de forma automática múltiples algoritmos de *machine learning* con diversos valores para sus correspondientes hiperparámetros. Asimismo, la librería construye un modelo compuesto tipo *ensemble*, en el que se utiliza una combinación de los mejorese modelos posibles.\n",
        "\n",
        "La librería permite ajustar divesos parámetros, como el tiempo máximo que se desea dedicar al proceso completo (parámetro `time_left_for_this_task`), así como el tiempo máximo a dedicar para cada algoritmo de clasificación (parámetro `per_run_time_limit`). Por ejemplo:\n",
        "```\n",
        "AutoSklearnClassifier(\n",
        "    time_left_for_this_task=5*60,\n",
        "    per_run_time_limit=30\n",
        ")\n",
        "```\n",
        "\n",
        "Asimismo es posible especificar que algoritmos de clasificación emplear y si se desea realizar algún preprocesamiento:\n",
        "```\n",
        "    automl = autosklearn.classification.AutoSklearnClassifier(\n",
        "    include = {\n",
        "        'classifier': [\"gaussian_nb\", \"k_nearest_neighbors\"],\n",
        "        'feature_preprocessor': [\"no_preprocessing\"]\n",
        "    },\n",
        "    exclude=None\n",
        ")\n",
        "```\n",
        "\n",
        "Ref: [Let the Script Find Out the ML Model that Outperforms Yours](https://towardsdatascience.com/python-automl-sklearn-fd85d3b3c5e)"
      ],
      "metadata": {
        "id": "4nWVLflxaSly"
      }
    },
    {
      "cell_type": "code",
      "source": [
        "cls = autosklearn.classification.AutoSklearnClassifier()\n",
        "cls.fit(X_train, y_train)\n",
        "predictions = cls.predict(X_test)"
      ],
      "metadata": {
        "colab": {
          "base_uri": "https://localhost:8080/"
        },
        "id": "4AveqlBUaU1S",
        "outputId": "e0d62b02-bf45-4abc-c9dc-bd6e32bb4f8d"
      },
      "execution_count": null,
      "outputs": [
        {
          "output_type": "stream",
          "name": "stdout",
          "text": [
            "[WARNING] [2022-11-26 10:17:57,775:Client-EnsembleBuilder] No runs were available to build an ensemble from\n"
          ]
        }
      ]
    },
    {
      "cell_type": "code",
      "source": [
        "y_test_pred = cls.predict(X_test)\n",
        "print(\"Accuracy score:\", sklearn.metrics.accuracy_score(y_test, y_test_pred))"
      ],
      "metadata": {
        "colab": {
          "base_uri": "https://localhost:8080/"
        },
        "id": "YZr_rhga1hGl",
        "outputId": "5d009e57-1149-4765-bf1d-fd5f36d39f8c"
      },
      "execution_count": null,
      "outputs": [
        {
          "output_type": "stream",
          "name": "stdout",
          "text": [
            "Accuracy score: 0.8218618166541215\n"
          ]
        }
      ]
    },
    {
      "cell_type": "code",
      "source": [
        "ConfusionMatrixDisplay.from_estimator(cls, X_test, y_test,normalize='all')"
      ],
      "metadata": {
        "colab": {
          "base_uri": "https://localhost:8080/",
          "height": 299
        },
        "id": "5KrysiZ1UKeB",
        "outputId": "bd0ab173-f6e5-43a9-9dea-6b75a8480569"
      },
      "execution_count": null,
      "outputs": [
        {
          "output_type": "execute_result",
          "data": {
            "text/plain": [
              "<sklearn.metrics._plot.confusion_matrix.ConfusionMatrixDisplay at 0x7f5654e742d0>"
            ]
          },
          "metadata": {},
          "execution_count": 46
        },
        {
          "output_type": "display_data",
          "data": {
            "text/plain": [
              "<Figure size 432x288 with 2 Axes>"
            ],
            "image/png": "[encoded data removed]"
          },
          "metadata": {
            "needs_background": "light"
          }
        }
      ]
    },
    {
      "cell_type": "code",
      "source": [
        "cls.leaderboard()"
      ],
      "metadata": {
        "colab": {
          "base_uri": "https://localhost:8080/",
          "height": 175
        },
        "id": "mEG7hObjbe4D",
        "outputId": "0fa9441b-9287-4ad8-e650-1efa37350d4d"
      },
      "execution_count": null,
      "outputs": [
        {
          "output_type": "execute_result",
          "data": {
            "text/plain": [
              "          rank  ensemble_weight               type      cost    duration\n",
              "model_id                                                                \n",
              "3            1             0.90  gradient_boosting  0.176912   88.230625\n",
              "7            2             0.08                mlp  0.198041  252.193568\n",
              "13           3             0.02                sgd  0.253920   42.009745"
            ],
            "text/html": [
              "\n",
              "  <div id=\"df-0296afad-5815-4be1-9adc-1763eaa350de\">\n",
              "    <div class=\"colab-df-container\">\n",
              "      <div>\n",
              "<style scoped>\n",
              "    .dataframe tbody tr th:only-of-type {\n",
              "        vertical-align: middle;\n",
              "    }\n",
              "\n",
              "    .dataframe tbody tr th {\n",
              "        vertical-align: top;\n",
              "    }\n",
              "\n",
              "    .dataframe thead th {\n",
              "        text-align: right;\n",
              "    }\n",
              "</style>\n",
              "<table border=\"1\" class=\"dataframe\">\n",
              "  <thead>\n",
              "    <tr style=\"text-align: right;\">\n",
              "      <th></th>\n",
              "      <th>rank</th>\n",
              "      <th>ensemble_weight</th>\n",
              "      <th>type</th>\n",
              "      <th>cost</th>\n",
              "      <th>duration</th>\n",
              "    </tr>\n",
              "    <tr>\n",
              "      <th>model_id</th>\n",
              "      <th></th>\n",
              "      <th></th>\n",
              "      <th></th>\n",
              "      <th></th>\n",
              "      <th></th>\n",
              "    </tr>\n",
              "  </thead>\n",
              "  <tbody>\n",
              "    <tr>\n",
              "      <th>3</th>\n",
              "      <td>1</td>\n",
              "      <td>0.90</td>\n",
              "      <td>gradient_boosting</td>\n",
              "      <td>0.176912</td>\n",
              "      <td>88.230625</td>\n",
              "    </tr>\n",
              "    <tr>\n",
              "      <th>7</th>\n",
              "      <td>2</td>\n",
              "      <td>0.08</td>\n",
              "      <td>mlp</td>\n",
              "      <td>0.198041</td>\n",
              "      <td>252.193568</td>\n",
              "    </tr>\n",
              "    <tr>\n",
              "      <th>13</th>\n",
              "      <td>3</td>\n",
              "      <td>0.02</td>\n",
              "      <td>sgd</td>\n",
              "      <td>0.253920</td>\n",
              "      <td>42.009745</td>\n",
              "    </tr>\n",
              "  </tbody>\n",
              "</table>\n",
              "</div>\n",
              "      <button class=\"colab-df-convert\" onclick=\"convertToInteractive('df-0296afad-5815-4be1-9adc-1763eaa350de')\"\n",
              "              title=\"Convert this dataframe to an interactive table.\"\n",
              "              style=\"display:none;\">\n",
              "        \n",
              "  <svg xmlns=\"http://www.w3.org/2000/svg\" height=\"24px\"viewBox=\"0 0 24 24\"\n",
              "       width=\"24px\">\n",
              "    <path d=\"M0 0h24v24H0V0z\" fill=\"none\"/>\n",
              "    <path d=\"M18.56 5.44l.94 2.06.94-2.06 2.06-.94-2.06-.94-.94-2.06-.94 2.06-2.06.94zm-11 1L8.5 8.5l.94-2.06 2.06-.94-2.06-.94L8.5 2.5l-.94 2.06-2.06.94zm10 10l.94 2.06.94-2.06 2.06-.94-2.06-.94-.94-2.06-.94 2.06-2.06.94z\"/><path d=\"M17.41 7.96l-1.37-1.37c-.4-.4-.92-.59-1.43-.59-.52 0-1.04.2-1.43.59L10.3 9.45l-7.72 7.72c-.78.78-.78 2.05 0 2.83L4 21.41c.39.39.9.59 1.41.59.51 0 1.02-.2 1.41-.59l7.78-7.78 2.81-2.81c.8-.78.8-2.07 0-2.86zM5.41 20L4 18.59l7.72-7.72 1.47 1.35L5.41 20z\"/>\n",
              "  </svg>\n",
              "      </button>\n",
              "      \n",
              "  <style>\n",
              "    .colab-df-container {\n",
              "      display:flex;\n",
              "      flex-wrap:wrap;\n",
              "      gap: 12px;\n",
              "    }\n",
              "\n",
              "    .colab-df-convert {\n",
              "      background-color: #E8F0FE;\n",
              "      border: none;\n",
              "      border-radius: 50%;\n",
              "      cursor: pointer;\n",
              "      display: none;\n",
              "      fill: #1967D2;\n",
              "      height: 32px;\n",
              "      padding: 0 0 0 0;\n",
              "      width: 32px;\n",
              "    }\n",
              "\n",
              "    .colab-df-convert:hover {\n",
              "      background-color: #E2EBFA;\n",
              "      box-shadow: 0px 1px 2px rgba(60, 64, 67, 0.3), 0px 1px 3px 1px rgba(60, 64, 67, 0.15);\n",
              "      fill: #174EA6;\n",
              "    }\n",
              "\n",
              "    [theme=dark] .colab-df-convert {\n",
              "      background-color: #3B4455;\n",
              "      fill: #D2E3FC;\n",
              "    }\n",
              "\n",
              "    [theme=dark] .colab-df-convert:hover {\n",
              "      background-color: #434B5C;\n",
              "      box-shadow: 0px 1px 3px 1px rgba(0, 0, 0, 0.15);\n",
              "      filter: drop-shadow(0px 1px 2px rgba(0, 0, 0, 0.3));\n",
              "      fill: #FFFFFF;\n",
              "    }\n",
              "  </style>\n",
              "\n",
              "      <script>\n",
              "        const buttonEl =\n",
              "          document.querySelector('#df-0296afad-5815-4be1-9adc-1763eaa350de button.colab-df-convert');\n",
              "        buttonEl.style.display =\n",
              "          google.colab.kernel.accessAllowed ? 'block' : 'none';\n",
              "\n",
              "        async function convertToInteractive(key) {\n",
              "          const element = document.querySelector('#df-0296afad-5815-4be1-9adc-1763eaa350de');\n",
              "          const dataTable =\n",
              "            await google.colab.kernel.invokeFunction('convertToInteractive',\n",
              "                                                     [key], {});\n",
              "          if (!dataTable) return;\n",
              "\n",
              "          const docLinkHtml = 'Like what you see? Visit the ' +\n",
              "            '<a target=\"_blank\" href=https://colab.research.google.com/notebooks/data_table.ipynb>data table notebook</a>'\n",
              "            + ' to learn more about interactive tables.';\n",
              "          element.innerHTML = '';\n",
              "          dataTable['output_type'] = 'display_data';\n",
              "          await google.colab.output.renderOutput(dataTable, element);\n",
              "          const docLink = document.createElement('div');\n",
              "          docLink.innerHTML = docLinkHtml;\n",
              "          element.appendChild(docLink);\n",
              "        }\n",
              "      </script>\n",
              "    </div>\n",
              "  </div>\n",
              "  "
            ]
          },
          "metadata": {},
          "execution_count": 21
        }
      ]
    },
    {
      "cell_type": "markdown",
      "source": [
        "En el *ensemble* generado se puede observar que el mayor peso se lo lleva el algoritmo `gradient_boosting` con un 90%, seguido de `mlp` (*Multi layer perceptron*, es decir, una red neuronal) con un 8% y `sgd` (*Stochastic gradient descent*), con un 2%. "
      ],
      "metadata": {
        "id": "5nHMmm4LVa2b"
      }
    },
    {
      "cell_type": "code",
      "source": [
        "cls.show_models()"
      ],
      "metadata": {
        "colab": {
          "base_uri": "https://localhost:8080/"
        },
        "id": "x6M3Qdp40Okd",
        "outputId": "e4989e1c-78cb-4914-9909-f43326a268a4"
      },
      "execution_count": null,
      "outputs": [
        {
          "output_type": "execute_result",
          "data": {
            "text/plain": [
              "{3: {'model_id': 3,\n",
              "  'rank': 1,\n",
              "  'cost': 0.17691211086430392,\n",
              "  'ensemble_weight': 0.9,\n",
              "  'data_preprocessor': <autosklearn.pipeline.components.data_preprocessing.DataPreprocessorChoice at 0x7f5654e74190>,\n",
              "  'balancing': Balancing(random_state=1, strategy='weighting'),\n",
              "  'feature_preprocessor': <autosklearn.pipeline.components.feature_preprocessing.FeaturePreprocessorChoice at 0x7f5654e37a10>,\n",
              "  'classifier': <autosklearn.pipeline.components.classification.ClassifierChoice at 0x7f5654dc1410>,\n",
              "  'sklearn_classifier': HistGradientBoostingClassifier(early_stopping=False,\n",
              "                                 l2_regularization=1.0945814167023392e-10,\n",
              "                                 learning_rate=0.11042628136263043, max_iter=512,\n",
              "                                 max_leaf_nodes=30, min_samples_leaf=22,\n",
              "                                 n_iter_no_change=0, random_state=1,\n",
              "                                 validation_fraction=None, warm_start=True)},\n",
              " 7: {'model_id': 7,\n",
              "  'rank': 2,\n",
              "  'cost': 0.19804064582435432,\n",
              "  'ensemble_weight': 0.08,\n",
              "  'data_preprocessor': <autosklearn.pipeline.components.data_preprocessing.DataPreprocessorChoice at 0x7f5654e69b90>,\n",
              "  'balancing': Balancing(random_state=1),\n",
              "  'feature_preprocessor': <autosklearn.pipeline.components.feature_preprocessing.FeaturePreprocessorChoice at 0x7f5654b6de10>,\n",
              "  'classifier': <autosklearn.pipeline.components.classification.ClassifierChoice at 0x7f56536ac390>,\n",
              "  'sklearn_classifier': MLPClassifier(alpha=0.0013962942610192463, beta_1=0.999, beta_2=0.9,\n",
              "                early_stopping=True, hidden_layer_sizes=(29,),\n",
              "                learning_rate_init=0.001358401370818654, max_iter=128,\n",
              "                n_iter_no_change=32, random_state=1, verbose=0, warm_start=True)},\n",
              " 13: {'model_id': 13,\n",
              "  'rank': 3,\n",
              "  'cost': 0.2539203660113384,\n",
              "  'ensemble_weight': 0.02,\n",
              "  'data_preprocessor': <autosklearn.pipeline.components.data_preprocessing.DataPreprocessorChoice at 0x7f5654e15bd0>,\n",
              "  'balancing': Balancing(random_state=1),\n",
              "  'feature_preprocessor': <autosklearn.pipeline.components.feature_preprocessing.FeaturePreprocessorChoice at 0x7f5652c5b3d0>,\n",
              "  'classifier': <autosklearn.pipeline.components.classification.ClassifierChoice at 0x7f5652c5b6d0>,\n",
              "  'sklearn_classifier': SGDClassifier(alpha=1.6992296128865824e-07, average=True, eta0=0.01, loss='log',\n",
              "                max_iter=256, penalty='l1', random_state=1,\n",
              "                tol=1.535384699341134e-05, warm_start=True)}}"
            ]
          },
          "metadata": {},
          "execution_count": 37
        }
      ]
    },
    {
      "cell_type": "code",
      "source": [
        "type(automl_models.get(3).get('data_preprocessor'))"
      ],
      "metadata": {
        "colab": {
          "base_uri": "https://localhost:8080/"
        },
        "id": "TXOnTbff09yb",
        "outputId": "d6af1121-1a10-4121-8526-228c9e5545bc"
      },
      "execution_count": null,
      "outputs": [
        {
          "output_type": "execute_result",
          "data": {
            "text/plain": [
              "autosklearn.pipeline.components.data_preprocessing.DataPreprocessorChoice"
            ]
          },
          "metadata": {},
          "execution_count": 35
        }
      ]
    },
    {
      "cell_type": "code",
      "source": [
        "automl_models=cls.show_models()\n",
        "for k in automl_models.keys():\n",
        "  print(\"Rank: \",automl_models.get(k).get('rank'))\n",
        "  print(\"Classifier: \",automl_models.get(k).get('sklearn_classifier'))"
      ],
      "metadata": {
        "colab": {
          "base_uri": "https://localhost:8080/"
        },
        "id": "Q-AT78yRzXEN",
        "outputId": "9a0ad750-cc19-456a-8ba0-da47bdfcb458"
      },
      "execution_count": null,
      "outputs": [
        {
          "output_type": "stream",
          "name": "stdout",
          "text": [
            "Rank:  1\n",
            "Classifier:  HistGradientBoostingClassifier(early_stopping=False,\n",
            "                               l2_regularization=1.0945814167023392e-10,\n",
            "                               learning_rate=0.11042628136263043, max_iter=512,\n",
            "                               max_leaf_nodes=30, min_samples_leaf=22,\n",
            "                               n_iter_no_change=0, random_state=1,\n",
            "                               validation_fraction=None, warm_start=True)\n",
            "Rank:  2\n",
            "Classifier:  MLPClassifier(alpha=0.0013962942610192463, beta_1=0.999, beta_2=0.9,\n",
            "              early_stopping=True, hidden_layer_sizes=(29,),\n",
            "              learning_rate_init=0.001358401370818654, max_iter=128,\n",
            "              n_iter_no_change=32, random_state=1, verbose=0, warm_start=True)\n",
            "Rank:  3\n",
            "Classifier:  SGDClassifier(alpha=1.6992296128865824e-07, average=True, eta0=0.01, loss='log',\n",
            "              max_iter=256, penalty='l1', random_state=1,\n",
            "              tol=1.535384699341134e-05, warm_start=True)\n"
          ]
        }
      ]
    },
    {
      "cell_type": "markdown",
      "source": [
        "# Random Forest"
      ],
      "metadata": {
        "id": "o3wngh27ajhm"
      }
    },
    {
      "cell_type": "code",
      "source": [
        "rf = RandomForestClassifier()\n",
        "rf.fit(X_train, y_train)\n",
        "y_pred_rf = rf.predict(X_test)"
      ],
      "metadata": {
        "id": "IHx8-tqbanfP"
      },
      "execution_count": null,
      "outputs": []
    },
    {
      "cell_type": "code",
      "source": [
        "print(\"El accuracy del modelo Random Forest es:\",rf.score(X_test, y_test))"
      ],
      "metadata": {
        "colab": {
          "base_uri": "https://localhost:8080/"
        },
        "id": "6gbRVkvfcoyD",
        "outputId": "32fcb908-915d-4dc1-abb1-d38ff0c99535"
      },
      "execution_count": null,
      "outputs": [
        {
          "output_type": "stream",
          "name": "stdout",
          "text": [
            "El accuracy del modelo Random Forest es: 0.824583822010608\n"
          ]
        }
      ]
    },
    {
      "cell_type": "code",
      "source": [
        "plot_confusion_matrix(rf, X_test, y_test)"
      ],
      "metadata": {
        "colab": {
          "base_uri": "https://localhost:8080/",
          "height": 169
        },
        "id": "F6Y0txsLdxm-",
        "outputId": "8e208d25-d018-43ec-a837-be6eb4ee503a"
      },
      "execution_count": null,
      "outputs": [
        {
          "output_type": "error",
          "ename": "NameError",
          "evalue": "ignored",
          "traceback": [
            "\u001b[0;31m---------------------------------------------------------------------------\u001b[0m",
            "\u001b[0;31mNameError\u001b[0m                                 Traceback (most recent call last)",
            "\u001b[0;32m<ipython-input-12-844b236a566b>\u001b[0m in \u001b[0;36m<module>\u001b[0;34m\u001b[0m\n\u001b[0;32m----> 1\u001b[0;31m \u001b[0mplot_confusion_matrix\u001b[0m\u001b[0;34m(\u001b[0m\u001b[0mrf\u001b[0m\u001b[0;34m,\u001b[0m \u001b[0mX_test\u001b[0m\u001b[0;34m,\u001b[0m \u001b[0my_test\u001b[0m\u001b[0;34m)\u001b[0m\u001b[0;34m\u001b[0m\u001b[0;34m\u001b[0m\u001b[0m\n\u001b[0m",
            "\u001b[0;31mNameError\u001b[0m: name 'plot_confusion_matrix' is not defined"
          ]
        }
      ]
    },
    {
      "cell_type": "code",
      "source": [
        "cf_matrix = confusion_matrix(y_test, y_pred_rf)\n",
        "custom_cm(cf_matrix)"
      ],
      "metadata": {
        "colab": {
          "base_uri": "https://localhost:8080/",
          "height": 265
        },
        "id": "bLrO1FlzcphT",
        "outputId": "a8ab6086-9b70-4e4b-f8b3-b33c30bd4fdc"
      },
      "execution_count": null,
      "outputs": [
        {
          "output_type": "display_data",
          "data": {
            "text/plain": [
              "<Figure size 432x288 with 2 Axes>"
            ],
            "image/png": "[encoded data removed]"
          },
          "metadata": {
            "needs_background": "light"
          }
        }
      ]
    },
    {
      "cell_type": "code",
      "source": [
        "print(classification_report(y_test, y_pred_rf))"
      ],
      "metadata": {
        "colab": {
          "base_uri": "https://localhost:8080/"
        },
        "id": "PNueqED-_gkW",
        "outputId": "c5dd49a5-e15d-433b-8fed-10e6555c7ed7"
      },
      "execution_count": null,
      "outputs": [
        {
          "output_type": "stream",
          "name": "stdout",
          "text": [
            "              precision    recall  f1-score   support\n",
            "\n",
            "      benign       0.78      0.91      0.84    114254\n",
            "      malign       0.89      0.74      0.81    114254\n",
            "\n",
            "    accuracy                           0.82    228508\n",
            "   macro avg       0.83      0.82      0.82    228508\n",
            "weighted avg       0.83      0.82      0.82    228508\n",
            "\n"
          ]
        }
      ]
    },
    {
      "cell_type": "code",
      "source": [],
      "metadata": {
        "id": "UAfypEXGAagj"
      },
      "execution_count": null,
      "outputs": []
    }
  ]
}