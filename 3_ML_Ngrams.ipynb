{
  "nbformat": 4,
  "nbformat_minor": 0,
  "metadata": {
    "colab": {
      "provenance": [],
      "mount_file_id": "1DlIWVfrDo47rDo2w6KQvIH40cEAJPDBl",
      "authorship_tag": "ABX9TyMQCLa7Zklv1akWwlN3F89z",
      "include_colab_link": true
    },
    "kernelspec": {
      "name": "python3",
      "display_name": "Python 3"
    },
    "language_info": {
      "name": "python"
    }
  },
  "cells": [
    {
      "cell_type": "markdown",
      "metadata": {
        "id": "view-in-github",
        "colab_type": "text"
      },
      "source": [
        "<a href=\"https://colab.research.google.com/github/pbenito1/TFM/blob/main/3_ML_Ngrams.ipynb\" target=\"_parent\"><img src=\"https://colab.research.google.com/assets/colab-badge.svg\" alt=\"Open In Colab\"/></a>"
      ]
    },
    {
      "cell_type": "code",
      "execution_count": 166,
      "metadata": {
        "id": "5tiPtNdobHfe"
      },
      "outputs": [],
      "source": [
        "# Imports\n",
        "import re\n",
        "import os\n",
        "from collections import Counter\n",
        "import pandas as pd\n",
        "from math import log\n",
        "import numpy as np\n",
        "import seaborn as sns\n",
        "import matplotlib.pyplot as plt\n",
        "import sklearn\n",
        "from sklearn import ensemble\n",
        "from sklearn import feature_extraction\n",
        "from sklearn.model_selection import train_test_split\n",
        "from sklearn.metrics import f1_score,accuracy_score, recall_score, confusion_matrix,plot_confusion_matrix\n",
        "from sklearn.model_selection import cross_val_score\n",
        "\n",
        "# Clasificadores\n",
        "\n",
        "from sklearn import svm\n",
        "from sklearn.ensemble import RandomForestClassifier\n",
        "from sklearn.linear_model import LogisticRegression, LogisticRegressionCV\n",
        "\n",
        "%matplotlib inline"
      ]
    },
    {
      "cell_type": "code",
      "source": [
        "def custom_cm(cf_matrix):\n",
        "  # Ref: https://medium.com/@dtuk81/confusion-matrix-visualization-fc31e3f30fea\n",
        "  group_names = ['TN','FP','FN','TP']\n",
        "  group_counts = [\"{0:0.0f}\".format(value) for value in cf_matrix.flatten()]\n",
        "  group_percentages = [\"{0:.2%}\".format(value) for value in cf_matrix.flatten()/np.sum(cf_matrix)]\n",
        "  labels = [f\"{v1}\\n{v2}\\n{v3}\" for v1, v2, v3 in zip(group_names,group_counts,group_percentages)]\n",
        "  labels = np.asarray(labels).reshape(2,2)\n",
        "  sns.heatmap(cf_matrix, annot=labels, fmt='', cmap='Blues')"
      ],
      "metadata": {
        "id": "SMU-Z_nqVDis"
      },
      "execution_count": 167,
      "outputs": []
    },
    {
      "cell_type": "markdown",
      "source": [
        "## N-Grams\n",
        "\n",
        "En este experimento utilizaremos extraeremos características basadas en N-gramas. \n",
        "\n",
        "En concreto, obtendremos los 3-gramas, 4-gramas, 5-gramas y 6-gramas del TLD de los dominios benignos del *dataset* y una vez obtenidos, calcularemos cuantos x-grams están presentes en todas las muestras (tanto benignas como malignas), generando nuevas características: `3gram`,`4gram`,`5gram` y `6gram`\n",
        "\n",
        "\n",
        "Para la obtención de n-grams utilizamos la clase `CountVectorizer` de la librería `sklearn`, proporcionándole los parámetros `analyzer='char'` (de lo contrario asumiría que se quiere realizar la división a nivel de palabra) y  `ngram_range=(x, x)`, donde `x` es el número de elementos del n-gramas. \n",
        "\n",
        "Otras posibilidades de análisis basado en n-gramas habrían sido:\n",
        "\n",
        "- Utilizar \"*masked n-grams*\", como el propuesto en el artículo [\"Detection of algorithmically generated malicious domain names using masked N-grams\"](https://zaguan.unizar.es/record/87544/files/texto_completo.pdf). En este caso, los dominios son previamente tratados, mapeandose todas las vocales al carácter \"v\", las consonantes al caracter \"c\", los dígitos al caracter \"n\" y el resto de símbolos al caracter \"s\". Por ejemplo el dominio \"google\" se convertiría en a \"cvvccv\".\n",
        "\n",
        "- Realizar la extracción de n-grams a partir de un diccionario de las palabras más comunes en inglés, como lo propuesto en el proyecto europeo [SOCCRATES](https://www.soccrates.eu/wp-content/uploads/2022/05/SOCCRATES_D4.3-Threat-Identification-and-Threat-Trend-prediction-%E2%80%93-Final-Prototype-Final.pdf), en la que combinan el núero de n-gramas con otras características como la longitud del dominio, ...\n"
      ],
      "metadata": {
        "id": "shKxAbySDA8f"
      }
    },
    {
      "cell_type": "code",
      "source": [
        "DATASET_PATH='/content/drive/MyDrive/TFM/data_processed/dga.csv'\n",
        "df = pd.read_csv(DATASET_PATH,index_col=0)"
      ],
      "metadata": {
        "colab": {
          "base_uri": "https://localhost:8080/"
        },
        "id": "a25e4eZByPDq",
        "outputId": "8cc324ac-3fc6-4575-b695-121c0a8cb9d6"
      },
      "execution_count": 168,
      "outputs": [
        {
          "output_type": "stream",
          "name": "stderr",
          "text": [
            "/usr/local/lib/python3.7/dist-packages/IPython/core/interactiveshell.py:3326: DtypeWarning: Columns (2) have mixed types.Specify dtype option on import or set low_memory=False.\n",
            "  exec(code_obj, self.user_global_ns, self.user_ns)\n"
          ]
        }
      ]
    },
    {
      "cell_type": "code",
      "source": [
        "df.shape"
      ],
      "metadata": {
        "colab": {
          "base_uri": "https://localhost:8080/"
        },
        "id": "U4xskqvCzK5B",
        "outputId": "8f2f4200-683a-4171-a646-36132c206099"
      },
      "execution_count": 169,
      "outputs": [
        {
          "output_type": "execute_result",
          "data": {
            "text/plain": [
              "(1142536, 11)"
            ]
          },
          "metadata": {},
          "execution_count": 169
        }
      ]
    },
    {
      "cell_type": "code",
      "source": [
        "df.head(4)"
      ],
      "metadata": {
        "colab": {
          "base_uri": "https://localhost:8080/",
          "height": 239
        },
        "id": "2pbAzZ9iFnZ6",
        "outputId": "54746e18-5912-4bed-9382-a5e98295a559"
      },
      "execution_count": 187,
      "outputs": [
        {
          "output_type": "execute_result",
          "data": {
            "text/plain": [
              "                                   domain   family category   tld  \\\n",
              "0    47faeb4f1b75a48499ba14e9b1cd895a.org  bamital   malign   org   \n",
              "1   47faeb4f1b75a48499ba14e9b1cd895a.info  bamital   malign  info   \n",
              "2  47faeb4f1b75a48499ba14e9b1cd895a.co.cc  bamital   malign    cc   \n",
              "3  47faeb4f1b75a48499ba14e9b1cd895a.cz.cc  bamital   malign    cc   \n",
              "\n",
              "                                sld  subdomains_number  digits  length  \\\n",
              "0  47faeb4f1b75a48499ba14e9b1cd895a                  3      18      32   \n",
              "1  47faeb4f1b75a48499ba14e9b1cd895a                  3      18      32   \n",
              "2                                co                  3       0       2   \n",
              "3                                cz                  3       0       2   \n",
              "\n",
              "   num_dashes   entropy  ratio_vc  3gram  4gram  5gram  6gram  \n",
              "0           0  3.426109  0.230769     25      4      0      0  \n",
              "1           0  3.426109  0.230769     25      4      0      0  \n",
              "2           0  1.000000  1.000000      0      0      0      0  \n",
              "3           0  1.000000  0.000000      0      0      0      0  "
            ],
            "text/html": [
              "\n",
              "  <div id=\"df-2d43c49b-80d0-4f33-9e31-96448d91bf12\">\n",
              "    <div class=\"colab-df-container\">\n",
              "      <div>\n",
              "<style scoped>\n",
              "    .dataframe tbody tr th:only-of-type {\n",
              "        vertical-align: middle;\n",
              "    }\n",
              "\n",
              "    .dataframe tbody tr th {\n",
              "        vertical-align: top;\n",
              "    }\n",
              "\n",
              "    .dataframe thead th {\n",
              "        text-align: right;\n",
              "    }\n",
              "</style>\n",
              "<table border=\"1\" class=\"dataframe\">\n",
              "  <thead>\n",
              "    <tr style=\"text-align: right;\">\n",
              "      <th></th>\n",
              "      <th>domain</th>\n",
              "      <th>family</th>\n",
              "      <th>category</th>\n",
              "      <th>tld</th>\n",
              "      <th>sld</th>\n",
              "      <th>subdomains_number</th>\n",
              "      <th>digits</th>\n",
              "      <th>length</th>\n",
              "      <th>num_dashes</th>\n",
              "      <th>entropy</th>\n",
              "      <th>ratio_vc</th>\n",
              "      <th>3gram</th>\n",
              "      <th>4gram</th>\n",
              "      <th>5gram</th>\n",
              "      <th>6gram</th>\n",
              "    </tr>\n",
              "  </thead>\n",
              "  <tbody>\n",
              "    <tr>\n",
              "      <th>0</th>\n",
              "      <td>47faeb4f1b75a48499ba14e9b1cd895a.org</td>\n",
              "      <td>bamital</td>\n",
              "      <td>malign</td>\n",
              "      <td>org</td>\n",
              "      <td>47faeb4f1b75a48499ba14e9b1cd895a</td>\n",
              "      <td>3</td>\n",
              "      <td>18</td>\n",
              "      <td>32</td>\n",
              "      <td>0</td>\n",
              "      <td>3.426109</td>\n",
              "      <td>0.230769</td>\n",
              "      <td>25</td>\n",
              "      <td>4</td>\n",
              "      <td>0</td>\n",
              "      <td>0</td>\n",
              "    </tr>\n",
              "    <tr>\n",
              "      <th>1</th>\n",
              "      <td>47faeb4f1b75a48499ba14e9b1cd895a.info</td>\n",
              "      <td>bamital</td>\n",
              "      <td>malign</td>\n",
              "      <td>info</td>\n",
              "      <td>47faeb4f1b75a48499ba14e9b1cd895a</td>\n",
              "      <td>3</td>\n",
              "      <td>18</td>\n",
              "      <td>32</td>\n",
              "      <td>0</td>\n",
              "      <td>3.426109</td>\n",
              "      <td>0.230769</td>\n",
              "      <td>25</td>\n",
              "      <td>4</td>\n",
              "      <td>0</td>\n",
              "      <td>0</td>\n",
              "    </tr>\n",
              "    <tr>\n",
              "      <th>2</th>\n",
              "      <td>47faeb4f1b75a48499ba14e9b1cd895a.co.cc</td>\n",
              "      <td>bamital</td>\n",
              "      <td>malign</td>\n",
              "      <td>cc</td>\n",
              "      <td>co</td>\n",
              "      <td>3</td>\n",
              "      <td>0</td>\n",
              "      <td>2</td>\n",
              "      <td>0</td>\n",
              "      <td>1.000000</td>\n",
              "      <td>1.000000</td>\n",
              "      <td>0</td>\n",
              "      <td>0</td>\n",
              "      <td>0</td>\n",
              "      <td>0</td>\n",
              "    </tr>\n",
              "    <tr>\n",
              "      <th>3</th>\n",
              "      <td>47faeb4f1b75a48499ba14e9b1cd895a.cz.cc</td>\n",
              "      <td>bamital</td>\n",
              "      <td>malign</td>\n",
              "      <td>cc</td>\n",
              "      <td>cz</td>\n",
              "      <td>3</td>\n",
              "      <td>0</td>\n",
              "      <td>2</td>\n",
              "      <td>0</td>\n",
              "      <td>1.000000</td>\n",
              "      <td>0.000000</td>\n",
              "      <td>0</td>\n",
              "      <td>0</td>\n",
              "      <td>0</td>\n",
              "      <td>0</td>\n",
              "    </tr>\n",
              "  </tbody>\n",
              "</table>\n",
              "</div>\n",
              "      <button class=\"colab-df-convert\" onclick=\"convertToInteractive('df-2d43c49b-80d0-4f33-9e31-96448d91bf12')\"\n",
              "              title=\"Convert this dataframe to an interactive table.\"\n",
              "              style=\"display:none;\">\n",
              "        \n",
              "  <svg xmlns=\"http://www.w3.org/2000/svg\" height=\"24px\"viewBox=\"0 0 24 24\"\n",
              "       width=\"24px\">\n",
              "    <path d=\"M0 0h24v24H0V0z\" fill=\"none\"/>\n",
              "    <path d=\"M18.56 5.44l.94 2.06.94-2.06 2.06-.94-2.06-.94-.94-2.06-.94 2.06-2.06.94zm-11 1L8.5 8.5l.94-2.06 2.06-.94-2.06-.94L8.5 2.5l-.94 2.06-2.06.94zm10 10l.94 2.06.94-2.06 2.06-.94-2.06-.94-.94-2.06-.94 2.06-2.06.94z\"/><path d=\"M17.41 7.96l-1.37-1.37c-.4-.4-.92-.59-1.43-.59-.52 0-1.04.2-1.43.59L10.3 9.45l-7.72 7.72c-.78.78-.78 2.05 0 2.83L4 21.41c.39.39.9.59 1.41.59.51 0 1.02-.2 1.41-.59l7.78-7.78 2.81-2.81c.8-.78.8-2.07 0-2.86zM5.41 20L4 18.59l7.72-7.72 1.47 1.35L5.41 20z\"/>\n",
              "  </svg>\n",
              "      </button>\n",
              "      \n",
              "  <style>\n",
              "    .colab-df-container {\n",
              "      display:flex;\n",
              "      flex-wrap:wrap;\n",
              "      gap: 12px;\n",
              "    }\n",
              "\n",
              "    .colab-df-convert {\n",
              "      background-color: #E8F0FE;\n",
              "      border: none;\n",
              "      border-radius: 50%;\n",
              "      cursor: pointer;\n",
              "      display: none;\n",
              "      fill: #1967D2;\n",
              "      height: 32px;\n",
              "      padding: 0 0 0 0;\n",
              "      width: 32px;\n",
              "    }\n",
              "\n",
              "    .colab-df-convert:hover {\n",
              "      background-color: #E2EBFA;\n",
              "      box-shadow: 0px 1px 2px rgba(60, 64, 67, 0.3), 0px 1px 3px 1px rgba(60, 64, 67, 0.15);\n",
              "      fill: #174EA6;\n",
              "    }\n",
              "\n",
              "    [theme=dark] .colab-df-convert {\n",
              "      background-color: #3B4455;\n",
              "      fill: #D2E3FC;\n",
              "    }\n",
              "\n",
              "    [theme=dark] .colab-df-convert:hover {\n",
              "      background-color: #434B5C;\n",
              "      box-shadow: 0px 1px 3px 1px rgba(0, 0, 0, 0.15);\n",
              "      filter: drop-shadow(0px 1px 2px rgba(0, 0, 0, 0.3));\n",
              "      fill: #FFFFFF;\n",
              "    }\n",
              "  </style>\n",
              "\n",
              "      <script>\n",
              "        const buttonEl =\n",
              "          document.querySelector('#df-2d43c49b-80d0-4f33-9e31-96448d91bf12 button.colab-df-convert');\n",
              "        buttonEl.style.display =\n",
              "          google.colab.kernel.accessAllowed ? 'block' : 'none';\n",
              "\n",
              "        async function convertToInteractive(key) {\n",
              "          const element = document.querySelector('#df-2d43c49b-80d0-4f33-9e31-96448d91bf12');\n",
              "          const dataTable =\n",
              "            await google.colab.kernel.invokeFunction('convertToInteractive',\n",
              "                                                     [key], {});\n",
              "          if (!dataTable) return;\n",
              "\n",
              "          const docLinkHtml = 'Like what you see? Visit the ' +\n",
              "            '<a target=\"_blank\" href=https://colab.research.google.com/notebooks/data_table.ipynb>data table notebook</a>'\n",
              "            + ' to learn more about interactive tables.';\n",
              "          element.innerHTML = '';\n",
              "          dataTable['output_type'] = 'display_data';\n",
              "          await google.colab.output.renderOutput(dataTable, element);\n",
              "          const docLink = document.createElement('div');\n",
              "          docLink.innerHTML = docLinkHtml;\n",
              "          element.appendChild(docLink);\n",
              "        }\n",
              "      </script>\n",
              "    </div>\n",
              "  </div>\n",
              "  "
            ]
          },
          "metadata": {},
          "execution_count": 187
        }
      ]
    },
    {
      "cell_type": "code",
      "source": [
        "\n",
        "benign_cv_3gram=feature_extraction.text.CountVectorizer(analyzer='char', ngram_range=(3, 3))#,max_features=500)\n",
        "benign_cv_4gram=feature_extraction.text.CountVectorizer(analyzer='char', ngram_range=(4, 4))#,max_features=500)\n",
        "benign_cv_5gram=feature_extraction.text.CountVectorizer(analyzer='char', ngram_range=(5, 5))#,max_features=500)\n",
        "benign_cv_6gram=feature_extraction.text.CountVectorizer(analyzer='char', ngram_range=(6, 6))#,max_features=500)\n",
        "\n",
        "benign_cv_3gram.fit(df[df.category=='benign'].sld.values.astype('U'))\n",
        "benign_cv_4gram.fit(df[df.category=='benign'].sld.values.astype('U'))\n",
        "benign_cv_5gram.fit(df[df.category=='benign'].sld.values.astype('U'))\n",
        "benign_cv_6gram.fit(df[df.category=='benign'].sld.values.astype('U'))"
      ],
      "metadata": {
        "colab": {
          "base_uri": "https://localhost:8080/"
        },
        "id": "yXjORbk_nz9Y",
        "outputId": "7d196ca9-0910-4f35-d4b9-1e2de2b1719f"
      },
      "execution_count": 170,
      "outputs": [
        {
          "output_type": "execute_result",
          "data": {
            "text/plain": [
              "CountVectorizer(analyzer='char', ngram_range=(6, 6))"
            ]
          },
          "metadata": {},
          "execution_count": 170
        }
      ]
    },
    {
      "cell_type": "code",
      "source": [
        "sum_3gram=benign_cv_3gram.transform(df.sld.values.astype('U')).sum(axis=1)\n",
        "sum_4gram=benign_cv_4gram.transform(df.sld.values.astype('U')).sum(axis=1)\n",
        "sum_5gram=benign_cv_5gram.transform(df.sld.values.astype('U')).sum(axis=1)\n",
        "sum_6gram=benign_cv_6gram.transform(df.sld.values.astype('U')).sum(axis=1)\n",
        "\n",
        "# Nuevas features: 3gram, 4gram, 5gram y 6gram\n",
        "df['3gram']=np.squeeze(np.asarray(sum_3gram))\n",
        "df['4gram']=np.squeeze(np.asarray(sum_4gram))\n",
        "df['5gram']=np.squeeze(np.asarray(sum_5gram))\n",
        "df['6gram']=np.squeeze(np.asarray(sum_6gram))\n"
      ],
      "metadata": {
        "id": "bB6aOV7xsfod"
      },
      "execution_count": 171,
      "outputs": []
    },
    {
      "cell_type": "markdown",
      "source": [
        "Ejemplo de muestras con más de dos 3-grams:"
      ],
      "metadata": {
        "id": "ZVEXo_bTCzoH"
      }
    },
    {
      "cell_type": "code",
      "source": [
        "df[df['3gram']>1].sample(5)"
      ],
      "metadata": {
        "colab": {
          "base_uri": "https://localhost:8080/",
          "height": 206
        },
        "id": "1LdtwHqDyWXV",
        "outputId": "85546f56-eefe-4131-f14c-5506f42ffa62"
      },
      "execution_count": 172,
      "outputs": [
        {
          "output_type": "execute_result",
          "data": {
            "text/plain": [
              "                  domain     family category  tld           sld  \\\n",
              "789063        scptp1.com        NaN   benign  com        scptp1   \n",
              "878099   enschederamp.nl        NaN   benign   nl  enschederamp   \n",
              "1033248        szuvj.com        NaN   benign  com         szuvj   \n",
              "697902          devo.com        NaN   benign  com          devo   \n",
              "357757    cxczwhgdop.net  pushdotid   malign  net    cxczwhgdop   \n",
              "\n",
              "         subdomains_number  digits  length  num_dashes   entropy  ratio_vc  \\\n",
              "789063                   3       1       6           0  2.251629  0.000000   \n",
              "878099                   3       0      12           0  3.188722  0.500000   \n",
              "1033248                  3       0       5           0  2.321928  0.250000   \n",
              "697902                   3       0       4           0  2.000000  1.000000   \n",
              "357757                   3       0      10           0  3.121928  0.111111   \n",
              "\n",
              "         3gram  4gram  5gram  6gram  \n",
              "789063       4      3      2      1  \n",
              "878099      10      9      8      7  \n",
              "1033248      3      2      1      0  \n",
              "697902       2      1      0      0  \n",
              "357757       8      2      0      0  "
            ],
            "text/html": [
              "\n",
              "  <div id=\"df-3ecfe66d-467d-4534-8e36-2d5be78d3f58\">\n",
              "    <div class=\"colab-df-container\">\n",
              "      <div>\n",
              "<style scoped>\n",
              "    .dataframe tbody tr th:only-of-type {\n",
              "        vertical-align: middle;\n",
              "    }\n",
              "\n",
              "    .dataframe tbody tr th {\n",
              "        vertical-align: top;\n",
              "    }\n",
              "\n",
              "    .dataframe thead th {\n",
              "        text-align: right;\n",
              "    }\n",
              "</style>\n",
              "<table border=\"1\" class=\"dataframe\">\n",
              "  <thead>\n",
              "    <tr style=\"text-align: right;\">\n",
              "      <th></th>\n",
              "      <th>domain</th>\n",
              "      <th>family</th>\n",
              "      <th>category</th>\n",
              "      <th>tld</th>\n",
              "      <th>sld</th>\n",
              "      <th>subdomains_number</th>\n",
              "      <th>digits</th>\n",
              "      <th>length</th>\n",
              "      <th>num_dashes</th>\n",
              "      <th>entropy</th>\n",
              "      <th>ratio_vc</th>\n",
              "      <th>3gram</th>\n",
              "      <th>4gram</th>\n",
              "      <th>5gram</th>\n",
              "      <th>6gram</th>\n",
              "    </tr>\n",
              "  </thead>\n",
              "  <tbody>\n",
              "    <tr>\n",
              "      <th>789063</th>\n",
              "      <td>scptp1.com</td>\n",
              "      <td>NaN</td>\n",
              "      <td>benign</td>\n",
              "      <td>com</td>\n",
              "      <td>scptp1</td>\n",
              "      <td>3</td>\n",
              "      <td>1</td>\n",
              "      <td>6</td>\n",
              "      <td>0</td>\n",
              "      <td>2.251629</td>\n",
              "      <td>0.000000</td>\n",
              "      <td>4</td>\n",
              "      <td>3</td>\n",
              "      <td>2</td>\n",
              "      <td>1</td>\n",
              "    </tr>\n",
              "    <tr>\n",
              "      <th>878099</th>\n",
              "      <td>enschederamp.nl</td>\n",
              "      <td>NaN</td>\n",
              "      <td>benign</td>\n",
              "      <td>nl</td>\n",
              "      <td>enschederamp</td>\n",
              "      <td>3</td>\n",
              "      <td>0</td>\n",
              "      <td>12</td>\n",
              "      <td>0</td>\n",
              "      <td>3.188722</td>\n",
              "      <td>0.500000</td>\n",
              "      <td>10</td>\n",
              "      <td>9</td>\n",
              "      <td>8</td>\n",
              "      <td>7</td>\n",
              "    </tr>\n",
              "    <tr>\n",
              "      <th>1033248</th>\n",
              "      <td>szuvj.com</td>\n",
              "      <td>NaN</td>\n",
              "      <td>benign</td>\n",
              "      <td>com</td>\n",
              "      <td>szuvj</td>\n",
              "      <td>3</td>\n",
              "      <td>0</td>\n",
              "      <td>5</td>\n",
              "      <td>0</td>\n",
              "      <td>2.321928</td>\n",
              "      <td>0.250000</td>\n",
              "      <td>3</td>\n",
              "      <td>2</td>\n",
              "      <td>1</td>\n",
              "      <td>0</td>\n",
              "    </tr>\n",
              "    <tr>\n",
              "      <th>697902</th>\n",
              "      <td>devo.com</td>\n",
              "      <td>NaN</td>\n",
              "      <td>benign</td>\n",
              "      <td>com</td>\n",
              "      <td>devo</td>\n",
              "      <td>3</td>\n",
              "      <td>0</td>\n",
              "      <td>4</td>\n",
              "      <td>0</td>\n",
              "      <td>2.000000</td>\n",
              "      <td>1.000000</td>\n",
              "      <td>2</td>\n",
              "      <td>1</td>\n",
              "      <td>0</td>\n",
              "      <td>0</td>\n",
              "    </tr>\n",
              "    <tr>\n",
              "      <th>357757</th>\n",
              "      <td>cxczwhgdop.net</td>\n",
              "      <td>pushdotid</td>\n",
              "      <td>malign</td>\n",
              "      <td>net</td>\n",
              "      <td>cxczwhgdop</td>\n",
              "      <td>3</td>\n",
              "      <td>0</td>\n",
              "      <td>10</td>\n",
              "      <td>0</td>\n",
              "      <td>3.121928</td>\n",
              "      <td>0.111111</td>\n",
              "      <td>8</td>\n",
              "      <td>2</td>\n",
              "      <td>0</td>\n",
              "      <td>0</td>\n",
              "    </tr>\n",
              "  </tbody>\n",
              "</table>\n",
              "</div>\n",
              "      <button class=\"colab-df-convert\" onclick=\"convertToInteractive('df-3ecfe66d-467d-4534-8e36-2d5be78d3f58')\"\n",
              "              title=\"Convert this dataframe to an interactive table.\"\n",
              "              style=\"display:none;\">\n",
              "        \n",
              "  <svg xmlns=\"http://www.w3.org/2000/svg\" height=\"24px\"viewBox=\"0 0 24 24\"\n",
              "       width=\"24px\">\n",
              "    <path d=\"M0 0h24v24H0V0z\" fill=\"none\"/>\n",
              "    <path d=\"M18.56 5.44l.94 2.06.94-2.06 2.06-.94-2.06-.94-.94-2.06-.94 2.06-2.06.94zm-11 1L8.5 8.5l.94-2.06 2.06-.94-2.06-.94L8.5 2.5l-.94 2.06-2.06.94zm10 10l.94 2.06.94-2.06 2.06-.94-2.06-.94-.94-2.06-.94 2.06-2.06.94z\"/><path d=\"M17.41 7.96l-1.37-1.37c-.4-.4-.92-.59-1.43-.59-.52 0-1.04.2-1.43.59L10.3 9.45l-7.72 7.72c-.78.78-.78 2.05 0 2.83L4 21.41c.39.39.9.59 1.41.59.51 0 1.02-.2 1.41-.59l7.78-7.78 2.81-2.81c.8-.78.8-2.07 0-2.86zM5.41 20L4 18.59l7.72-7.72 1.47 1.35L5.41 20z\"/>\n",
              "  </svg>\n",
              "      </button>\n",
              "      \n",
              "  <style>\n",
              "    .colab-df-container {\n",
              "      display:flex;\n",
              "      flex-wrap:wrap;\n",
              "      gap: 12px;\n",
              "    }\n",
              "\n",
              "    .colab-df-convert {\n",
              "      background-color: #E8F0FE;\n",
              "      border: none;\n",
              "      border-radius: 50%;\n",
              "      cursor: pointer;\n",
              "      display: none;\n",
              "      fill: #1967D2;\n",
              "      height: 32px;\n",
              "      padding: 0 0 0 0;\n",
              "      width: 32px;\n",
              "    }\n",
              "\n",
              "    .colab-df-convert:hover {\n",
              "      background-color: #E2EBFA;\n",
              "      box-shadow: 0px 1px 2px rgba(60, 64, 67, 0.3), 0px 1px 3px 1px rgba(60, 64, 67, 0.15);\n",
              "      fill: #174EA6;\n",
              "    }\n",
              "\n",
              "    [theme=dark] .colab-df-convert {\n",
              "      background-color: #3B4455;\n",
              "      fill: #D2E3FC;\n",
              "    }\n",
              "\n",
              "    [theme=dark] .colab-df-convert:hover {\n",
              "      background-color: #434B5C;\n",
              "      box-shadow: 0px 1px 3px 1px rgba(0, 0, 0, 0.15);\n",
              "      filter: drop-shadow(0px 1px 2px rgba(0, 0, 0, 0.3));\n",
              "      fill: #FFFFFF;\n",
              "    }\n",
              "  </style>\n",
              "\n",
              "      <script>\n",
              "        const buttonEl =\n",
              "          document.querySelector('#df-3ecfe66d-467d-4534-8e36-2d5be78d3f58 button.colab-df-convert');\n",
              "        buttonEl.style.display =\n",
              "          google.colab.kernel.accessAllowed ? 'block' : 'none';\n",
              "\n",
              "        async function convertToInteractive(key) {\n",
              "          const element = document.querySelector('#df-3ecfe66d-467d-4534-8e36-2d5be78d3f58');\n",
              "          const dataTable =\n",
              "            await google.colab.kernel.invokeFunction('convertToInteractive',\n",
              "                                                     [key], {});\n",
              "          if (!dataTable) return;\n",
              "\n",
              "          const docLinkHtml = 'Like what you see? Visit the ' +\n",
              "            '<a target=\"_blank\" href=https://colab.research.google.com/notebooks/data_table.ipynb>data table notebook</a>'\n",
              "            + ' to learn more about interactive tables.';\n",
              "          element.innerHTML = '';\n",
              "          dataTable['output_type'] = 'display_data';\n",
              "          await google.colab.output.renderOutput(dataTable, element);\n",
              "          const docLink = document.createElement('div');\n",
              "          docLink.innerHTML = docLinkHtml;\n",
              "          element.appendChild(docLink);\n",
              "        }\n",
              "      </script>\n",
              "    </div>\n",
              "  </div>\n",
              "  "
            ]
          },
          "metadata": {},
          "execution_count": 172
        }
      ]
    },
    {
      "cell_type": "markdown",
      "source": [
        "Para el entrenamiento de los clasificadores únicamente tenemos en cuenta los n-grams"
      ],
      "metadata": {
        "id": "DYs-zb0XDCaD"
      }
    },
    {
      "cell_type": "code",
      "source": [
        "X = df[['3gram','4gram','5gram','6gram']]\n",
        "y = df['category']"
      ],
      "metadata": {
        "id": "dFhykJib5VR4"
      },
      "execution_count": 173,
      "outputs": []
    },
    {
      "cell_type": "code",
      "source": [
        "benign_cv_3gram.get_feature_names()[:10]"
      ],
      "metadata": {
        "colab": {
          "base_uri": "https://localhost:8080/"
        },
        "id": "xUDiEjrVTGGx",
        "outputId": "abb1f3c8-f634-4724-9521-301b57313ff0"
      },
      "execution_count": 174,
      "outputs": [
        {
          "output_type": "stream",
          "name": "stderr",
          "text": [
            "/usr/local/lib/python3.7/dist-packages/sklearn/utils/deprecation.py:87: FutureWarning: Function get_feature_names is deprecated; get_feature_names is deprecated in 1.0 and will be removed in 1.2. Please use get_feature_names_out instead.\n",
            "  warnings.warn(msg, category=FutureWarning)\n"
          ]
        },
        {
          "output_type": "execute_result",
          "data": {
            "text/plain": [
              "['---', '--1', '--7', '--a', '--b', '--c', '--g', '--h', '--k', '--l']"
            ]
          },
          "metadata": {},
          "execution_count": 174
        }
      ]
    },
    {
      "cell_type": "code",
      "source": [
        "# 3-Grams más comunes\n",
        "import operator\n",
        "ngrams=benign_cv_3gram.vocabulary_\n",
        "sorted_d = dict( sorted(ngrams.items(), key=operator.itemgetter(1),reverse=False))\n",
        "# 10 ngrams mas comunes\n",
        "#sorted_d\n",
        "list(sorted_d.items())[:10]\n",
        "#{k: sorted_d[k] for k in list(sorted_d)[:10]}"
      ],
      "metadata": {
        "colab": {
          "base_uri": "https://localhost:8080/"
        },
        "id": "QHFlLt1WItmT",
        "outputId": "37b402af-baab-4e4b-bd78-e50362a4128a"
      },
      "execution_count": 175,
      "outputs": [
        {
          "output_type": "execute_result",
          "data": {
            "text/plain": [
              "[('---', 0),\n",
              " ('--1', 1),\n",
              " ('--7', 2),\n",
              " ('--a', 3),\n",
              " ('--b', 4),\n",
              " ('--c', 5),\n",
              " ('--g', 6),\n",
              " ('--h', 7),\n",
              " ('--k', 8),\n",
              " ('--l', 9)]"
            ]
          },
          "metadata": {},
          "execution_count": 175
        }
      ]
    },
    {
      "cell_type": "code",
      "source": [
        "X_train, X_test, y_train, y_test = train_test_split(X, y, test_size=0.2, random_state=42)"
      ],
      "metadata": {
        "id": "4bEnW8j31Snz"
      },
      "execution_count": 176,
      "outputs": []
    },
    {
      "cell_type": "markdown",
      "source": [
        "# Regresión logística"
      ],
      "metadata": {
        "id": "AeNnzviE1m8y"
      }
    },
    {
      "cell_type": "code",
      "source": [
        "# Model Building using logistic Regression\n",
        "logit = LogisticRegression()\n",
        "logit.fit(X_train, y_train)"
      ],
      "metadata": {
        "colab": {
          "base_uri": "https://localhost:8080/"
        },
        "id": "KGypFvHg1pr1",
        "outputId": "f07fba91-a9db-43dd-8090-b38aa4801d2a"
      },
      "execution_count": 177,
      "outputs": [
        {
          "output_type": "execute_result",
          "data": {
            "text/plain": [
              "LogisticRegression()"
            ]
          },
          "metadata": {},
          "execution_count": 177
        }
      ]
    },
    {
      "cell_type": "code",
      "source": [
        "y_pred_logit = logit.predict(X_test)"
      ],
      "metadata": {
        "id": "YX8c8Ws92XMm"
      },
      "execution_count": 178,
      "outputs": []
    },
    {
      "cell_type": "code",
      "source": [
        "print(\"Accuracy del clasificación basado en regresión logística: \",logit.score(X_test, y_test))"
      ],
      "metadata": {
        "colab": {
          "base_uri": "https://localhost:8080/"
        },
        "id": "oJbHmxvlLksf",
        "outputId": "e7ca037d-ecf8-4070-eb33-0bcbeb6b895b"
      },
      "execution_count": 179,
      "outputs": [
        {
          "output_type": "stream",
          "name": "stdout",
          "text": [
            "Accuracy of Logistic Regression Model is  0.9667757802790274\n"
          ]
        }
      ]
    },
    {
      "cell_type": "code",
      "source": [
        "plot_confusion_matrix(logit, X_test, y_test)"
      ],
      "metadata": {
        "colab": {
          "base_uri": "https://localhost:8080/",
          "height": 353
        },
        "id": "ocvOaivhz1l0",
        "outputId": "422d31cf-d5be-4056-909e-9fbed9d6745e"
      },
      "execution_count": 180,
      "outputs": [
        {
          "output_type": "stream",
          "name": "stderr",
          "text": [
            "/usr/local/lib/python3.7/dist-packages/sklearn/utils/deprecation.py:87: FutureWarning: Function plot_confusion_matrix is deprecated; Function `plot_confusion_matrix` is deprecated in 1.0 and will be removed in 1.2. Use one of the class methods: ConfusionMatrixDisplay.from_predictions or ConfusionMatrixDisplay.from_estimator.\n",
            "  warnings.warn(msg, category=FutureWarning)\n"
          ]
        },
        {
          "output_type": "execute_result",
          "data": {
            "text/plain": [
              "<sklearn.metrics._plot.confusion_matrix.ConfusionMatrixDisplay at 0x7f7d4ae80d10>"
            ]
          },
          "metadata": {},
          "execution_count": 180
        },
        {
          "output_type": "display_data",
          "data": {
            "text/plain": [
              "<Figure size 432x288 with 2 Axes>"
            ],
            "image/png": "[encoded data removed]"
          },
          "metadata": {
            "needs_background": "light"
          }
        }
      ]
    },
    {
      "cell_type": "code",
      "source": [
        "cf_matrix = confusion_matrix(y_test, y_pred_logit)\n",
        "custom_cm(cf_matrix)"
      ],
      "metadata": {
        "colab": {
          "base_uri": "https://localhost:8080/",
          "height": 265
        },
        "id": "KApZDcMRT96Z",
        "outputId": "9100818e-3187-4d98-f28f-a20babe08d14"
      },
      "execution_count": 181,
      "outputs": [
        {
          "output_type": "display_data",
          "data": {
            "text/plain": [
              "<Figure size 432x288 with 2 Axes>"
            ],
            "image/png": "[encoded data removed]"
          },
          "metadata": {
            "needs_background": "light"
          }
        }
      ]
    },
    {
      "cell_type": "markdown",
      "source": [
        "# Random Forest"
      ],
      "metadata": {
        "id": "NKW1fQGj2fnu"
      }
    },
    {
      "cell_type": "code",
      "source": [
        "rf = RandomForestClassifier()\n",
        "rf.fit(X_train, y_train)\n",
        "y_pred_rf = rf.predict(X_test)"
      ],
      "metadata": {
        "id": "cXhHTu5b2oLu"
      },
      "execution_count": 182,
      "outputs": []
    },
    {
      "cell_type": "code",
      "source": [
        "print(\"Accuracy del clasificador Random Forest:\",rf.score(X_test, y_test))"
      ],
      "metadata": {
        "colab": {
          "base_uri": "https://localhost:8080/"
        },
        "id": "N19g179rLvrg",
        "outputId": "dcb39e12-25e0-4b12-8c69-9d0c8ea53f32"
      },
      "execution_count": 183,
      "outputs": [
        {
          "output_type": "stream",
          "name": "stdout",
          "text": [
            "Accuracy of Random Forest Model is  0.9784121343672869\n"
          ]
        }
      ]
    },
    {
      "cell_type": "code",
      "source": [
        "y_test"
      ],
      "metadata": {
        "colab": {
          "base_uri": "https://localhost:8080/"
        },
        "id": "Ad7yQ0ATU2Wd",
        "outputId": "5b3d6ef6-68f0-47b4-af2d-dda351133bce"
      },
      "execution_count": 184,
      "outputs": [
        {
          "output_type": "execute_result",
          "data": {
            "text/plain": [
              "821717    benign\n",
              "68975     malign\n",
              "911244    benign\n",
              "20818     malign\n",
              "457795    malign\n",
              "           ...  \n",
              "304829    malign\n",
              "671472    benign\n",
              "938678    benign\n",
              "316124    malign\n",
              "809901    benign\n",
              "Name: category, Length: 228508, dtype: object"
            ]
          },
          "metadata": {},
          "execution_count": 184
        }
      ]
    },
    {
      "cell_type": "code",
      "source": [
        "cf_matrix = confusion_matrix(y_test, y_pred_rf)\n",
        "#print(cf_matrix)\n",
        "custom_cm(cf_matrix)"
      ],
      "metadata": {
        "colab": {
          "base_uri": "https://localhost:8080/",
          "height": 265
        },
        "id": "Aw-3upCmUGgv",
        "outputId": "b4e25ad4-1555-4031-b2b2-eca70ba0a761"
      },
      "execution_count": 185,
      "outputs": [
        {
          "output_type": "display_data",
          "data": {
            "text/plain": [
              "<Figure size 432x288 with 2 Axes>"
            ],
            "image/png": "[encoded data removed]"
          },
          "metadata": {
            "needs_background": "light"
          }
        }
      ]
    },
    {
      "cell_type": "code",
      "source": [
        "# Cross-validation\n",
        "rf_cv = cross_val_score(RandomForestClassifier(), X, y, cv=10)\n",
        "mean_rf_cv = np.mean(rf_cv)\n",
        "\n",
        "print(\"Accuracy medio del modelo Random Forest es \", mean_rf_cv)"
      ],
      "metadata": {
        "colab": {
          "base_uri": "https://localhost:8080/"
        },
        "id": "DtRflcloNMO0",
        "outputId": "69946108-a76c-443d-82f5-82f615f44982"
      },
      "execution_count": 186,
      "outputs": [
        {
          "output_type": "stream",
          "name": "stdout",
          "text": [
            "Average accuracy of Random Forest Model is  0.9750047908694566\n"
          ]
        }
      ]
    }
  ]
}